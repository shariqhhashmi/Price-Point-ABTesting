{
 "cells": [
  {
   "cell_type": "markdown",
   "metadata": {},
   "source": [
    " # Freemium A/B Testing - Project "
   ]
  },
  {
   "cell_type": "markdown",
   "metadata": {},
   "source": [
    "### Project overview\n",
    "In this challenge, you'll help a B2B (business-to-business) SaaS (software-as-a-service) company analyze its recent A/B test for its explainer video.\n",
    "The company uses these videos to convince free users to start a premium trial.\n",
    "This is a very common task for data scientists in tech companies, and it's similar to the Pricing Test from Challenge #5.\n"
   ]
  },
  {
   "cell_type": "markdown",
   "metadata": {},
   "source": [
    "### Background"
   ]
  },
  {
   "cell_type": "markdown",
   "metadata": {},
   "source": [
    "Two versions of the single variable: Trail <br> To check the effect of variation on a user's behavior<br>\n",
    "\n",
    "\n",
    "The term \"freemium\" refers to a service with two tiers:\n",
    "\n",
    ". Free tier that has only basic capabilities.\n",
    "\n",
    ". Premium tier(s) that has the full set of features.\n",
    "\n",
    "\n",
    "You see this business model all the time: Trello (Gold), Amazon (Prime), and even Dropbox.\n",
    "\n",
    "Freemium Business Model (source: Wikipedia)\n",
    "The free tier is intended to lower the friction to signing up for a service and to provide a preview of what the premium tiers offer.\n",
    "For many consumer-facing applications, the up-sell process is not very complicated.\n",
    "However, for B2B software, it can be trickier to convince free users to upgrade to premium plans due to a variety of reasons.  Two of the most common are: <br>\n",
    "&emsp;&emsp;1) Users may first need approval from a manager or budgeting department. <br>\n",
    "&emsp;&emsp;2) Users might not understand what the premium plan offers, especially if it introduces new services and features.<br>\n",
    "    \n",
    "    \n",
    "To address that second obstacle, some companies will produce explainer videos that educate the user on the additional benefits for the premium tier. ![Purchase-funnel.png](Purchase-funnel.png)"
   ]
  },
  {
   "cell_type": "markdown",
   "metadata": {},
   "source": [
    "<img src= 'Purchase-funnel.png' width=200/>"
   ]
  },
  {
   "cell_type": "markdown",
   "metadata": {},
   "source": [
    "# I- Executive Summary"
   ]
  },
  {
   "cell_type": "markdown",
   "metadata": {},
   "source": [
    "Two versions of the single variable: Trail<br>\n",
    "<br>\n",
    "To check the effect of variation on a user's behavior<br>                          \n",
    "<br>\n",
    "Target variable = trial. Binary type. <br>\n",
    "### CLASSIFICATION PROBLEM <br> \n",
    "    use Decision Tree, Random Forest, XGBoost and Neural Network Decision tree.\n",
    "\n",
    "Perform these operations on data:<br>\n",
    "select distiinct from device and change the device to mobile where browser = Android or iOS. <br>\n",
    "change to desktop where browser = IE, safari, chrome - check with select distinct<br>"
   ]
  },
  {
   "cell_type": "markdown",
   "metadata": {},
   "source": [
    "### Business Objectives   "
   ]
  },
  {
   "cell_type": "markdown",
   "metadata": {},
   "source": [
    "For this challenge, a \"conversion\" is defined as a user who began a premium trial <br>\n",
    "•\tDetermine which sources/devices/industries had the highest conversion rates.<br>\n",
    "•\tBuild a model that can predict conversion rate based on user data.<br>\n",
    "•\tFor high conversion rate users, what are the implications for the company's marketing team?<br>\n",
    "•\tFor low conversion rate users, what are the implications for the company's customer success teams?<br>\n",
    "•\tProvide actionable insights to the business. What have we learned from this test?<br>\n"
   ]
  },
  {
   "cell_type": "markdown",
   "metadata": {},
   "source": [
    "# II- Business Understanding"
   ]
  },
  {
   "cell_type": "markdown",
   "metadata": {},
   "source": [
    "### Define Organization  "
   ]
  },
  {
   "cell_type": "code",
   "execution_count": null,
   "metadata": {},
   "outputs": [],
   "source": []
  },
  {
   "cell_type": "markdown",
   "metadata": {},
   "source": [
    "###  Organization  "
   ]
  },
  {
   "cell_type": "code",
   "execution_count": null,
   "metadata": {},
   "outputs": [],
   "source": []
  },
  {
   "cell_type": "markdown",
   "metadata": {},
   "source": [
    "###  Intended Stakeholders of Data  "
   ]
  },
  {
   "cell_type": "code",
   "execution_count": null,
   "metadata": {},
   "outputs": [],
   "source": []
  },
  {
   "cell_type": "markdown",
   "metadata": {},
   "source": [
    "###  Define Business Objectives   "
   ]
  },
  {
   "cell_type": "code",
   "execution_count": null,
   "metadata": {},
   "outputs": [],
   "source": []
  },
  {
   "cell_type": "markdown",
   "metadata": {},
   "source": [
    "###  Background   "
   ]
  },
  {
   "cell_type": "code",
   "execution_count": null,
   "metadata": {},
   "outputs": [],
   "source": []
  },
  {
   "cell_type": "markdown",
   "metadata": {},
   "source": [
    "### Business Success Criteria  "
   ]
  },
  {
   "cell_type": "code",
   "execution_count": null,
   "metadata": {},
   "outputs": [],
   "source": []
  },
  {
   "cell_type": "markdown",
   "metadata": {},
   "source": [
    "### Situation Assessment  "
   ]
  },
  {
   "cell_type": "code",
   "execution_count": null,
   "metadata": {},
   "outputs": [],
   "source": []
  },
  {
   "cell_type": "markdown",
   "metadata": {},
   "source": [
    "### Inventory of Resources Requirements  "
   ]
  },
  {
   "cell_type": "code",
   "execution_count": null,
   "metadata": {},
   "outputs": [],
   "source": []
  },
  {
   "cell_type": "markdown",
   "metadata": {},
   "source": [
    "### Assumptions, and Constraints   "
   ]
  },
  {
   "cell_type": "code",
   "execution_count": null,
   "metadata": {},
   "outputs": [],
   "source": []
  },
  {
   "cell_type": "markdown",
   "metadata": {},
   "source": [
    "### Risks and Contingencies   "
   ]
  },
  {
   "cell_type": "code",
   "execution_count": null,
   "metadata": {},
   "outputs": [],
   "source": []
  },
  {
   "cell_type": "markdown",
   "metadata": {},
   "source": [
    "### Terminology   "
   ]
  },
  {
   "cell_type": "code",
   "execution_count": null,
   "metadata": {},
   "outputs": [],
   "source": []
  },
  {
   "cell_type": "markdown",
   "metadata": {},
   "source": [
    "### Costs and Benefits  "
   ]
  },
  {
   "cell_type": "code",
   "execution_count": null,
   "metadata": {},
   "outputs": [],
   "source": []
  },
  {
   "cell_type": "markdown",
   "metadata": {},
   "source": [
    "### Produce Project Plan   "
   ]
  },
  {
   "cell_type": "code",
   "execution_count": null,
   "metadata": {},
   "outputs": [],
   "source": []
  },
  {
   "cell_type": "markdown",
   "metadata": {},
   "source": [
    "### Project Plan   "
   ]
  },
  {
   "cell_type": "markdown",
   "metadata": {},
   "source": [
    "insert project plan here"
   ]
  },
  {
   "cell_type": "markdown",
   "metadata": {},
   "source": [
    "### Define Business Analytics Goal \n"
   ]
  },
  {
   "cell_type": "markdown",
   "metadata": {},
   "source": [
    "* First, determine which sources/countries/devices had the highest conversion rates.  \n",
    "* Next, build a model that can predict conversion rate based on visitor information.  \n",
    "* What insights can you draw from your model? Which features were the most impactful?  \n",
    "* Finally, provide actionable insights to the business. What have we learned from this campaign? "
   ]
  },
  {
   "cell_type": "markdown",
   "metadata": {},
   "source": [
    "### Business Analytics Goals "
   ]
  },
  {
   "cell_type": "code",
   "execution_count": null,
   "metadata": {},
   "outputs": [],
   "source": []
  },
  {
   "cell_type": "markdown",
   "metadata": {},
   "source": [
    "### Business Analytics Success Criteria  "
   ]
  },
  {
   "cell_type": "code",
   "execution_count": null,
   "metadata": {},
   "outputs": [],
   "source": []
  },
  {
   "cell_type": "markdown",
   "metadata": {},
   "source": [
    "# III- Data Understanding"
   ]
  },
  {
   "cell_type": "code",
   "execution_count": 1,
   "metadata": {},
   "outputs": [],
   "source": [
    "# Importing the libraries\n",
    "import numpy as np\n",
    "import matplotlib.pyplot as plt\n",
    "import pandas as pd\n",
    "import seaborn as sns"
   ]
  },
  {
   "cell_type": "code",
   "execution_count": 2,
   "metadata": {},
   "outputs": [],
   "source": [
    "# Run multiple commands and get multiple outputs within a single cell\n",
    "from IPython.core.interactiveshell import InteractiveShell\n",
    "InteractiveShell.ast_node_interactivity = \"all\""
   ]
  },
  {
   "cell_type": "markdown",
   "metadata": {},
   "source": [
    "### Collect Initial Data   "
   ]
  },
  {
   "cell_type": "code",
   "execution_count": 3,
   "metadata": {},
   "outputs": [],
   "source": [
    "# Importing the dataset\n",
    "df_ab  = pd.read_csv('ab_trial_results.csv')"
   ]
  },
  {
   "cell_type": "code",
   "execution_count": 5,
   "metadata": {},
   "outputs": [
    {
     "data": {
      "text/html": [
       "<div>\n",
       "<style scoped>\n",
       "    .dataframe tbody tr th:only-of-type {\n",
       "        vertical-align: middle;\n",
       "    }\n",
       "\n",
       "    .dataframe tbody tr th {\n",
       "        vertical-align: top;\n",
       "    }\n",
       "\n",
       "    .dataframe thead th {\n",
       "        text-align: right;\n",
       "    }\n",
       "</style>\n",
       "<table border=\"1\" class=\"dataframe\">\n",
       "  <thead>\n",
       "    <tr style=\"text-align: right;\">\n",
       "      <th></th>\n",
       "      <th>user_id</th>\n",
       "      <th>date</th>\n",
       "      <th>source</th>\n",
       "      <th>device</th>\n",
       "      <th>payee</th>\n",
       "      <th>browser</th>\n",
       "      <th>trial</th>\n",
       "      <th>group</th>\n",
       "    </tr>\n",
       "  </thead>\n",
       "  <tbody>\n",
       "    <tr>\n",
       "      <th>0</th>\n",
       "      <td>7867258</td>\n",
       "      <td>2017-01-04</td>\n",
       "      <td>LinkedIn</td>\n",
       "      <td>desktop</td>\n",
       "      <td>Non-Primary</td>\n",
       "      <td>IE</td>\n",
       "      <td>0</td>\n",
       "      <td>Test</td>\n",
       "    </tr>\n",
       "    <tr>\n",
       "      <th>1</th>\n",
       "      <td>74864773</td>\n",
       "      <td>2017-01-05</td>\n",
       "      <td>Facebook</td>\n",
       "      <td>desktop</td>\n",
       "      <td>Non-Primary</td>\n",
       "      <td>Chrome</td>\n",
       "      <td>0</td>\n",
       "      <td>Test</td>\n",
       "    </tr>\n",
       "    <tr>\n",
       "      <th>2</th>\n",
       "      <td>56842734</td>\n",
       "      <td>2017-01-05</td>\n",
       "      <td>Facebook</td>\n",
       "      <td>desktop</td>\n",
       "      <td>Non-Primary</td>\n",
       "      <td>Safari</td>\n",
       "      <td>0</td>\n",
       "      <td>Control</td>\n",
       "    </tr>\n",
       "    <tr>\n",
       "      <th>3</th>\n",
       "      <td>73888172</td>\n",
       "      <td>2017-01-07</td>\n",
       "      <td>LinkedIn</td>\n",
       "      <td>desktop</td>\n",
       "      <td>Non-Primary</td>\n",
       "      <td>Chrome</td>\n",
       "      <td>0</td>\n",
       "      <td>Test</td>\n",
       "    </tr>\n",
       "    <tr>\n",
       "      <th>4</th>\n",
       "      <td>35589853</td>\n",
       "      <td>2017-01-06</td>\n",
       "      <td>Facebook</td>\n",
       "      <td>desktop</td>\n",
       "      <td>Non-Primary</td>\n",
       "      <td>Android (In-App)</td>\n",
       "      <td>0</td>\n",
       "      <td>Test</td>\n",
       "    </tr>\n",
       "    <tr>\n",
       "      <th>5</th>\n",
       "      <td>83056259</td>\n",
       "      <td>2017-01-06</td>\n",
       "      <td>Facebook</td>\n",
       "      <td>desktop</td>\n",
       "      <td>Primary</td>\n",
       "      <td>iOS (In-App)</td>\n",
       "      <td>0</td>\n",
       "      <td>Control</td>\n",
       "    </tr>\n",
       "    <tr>\n",
       "      <th>6</th>\n",
       "      <td>99220253</td>\n",
       "      <td>2017-01-04</td>\n",
       "      <td>LinkedIn</td>\n",
       "      <td>desktop</td>\n",
       "      <td>Primary</td>\n",
       "      <td>iOS (In-App)</td>\n",
       "      <td>0</td>\n",
       "      <td>Test</td>\n",
       "    </tr>\n",
       "    <tr>\n",
       "      <th>7</th>\n",
       "      <td>38886933</td>\n",
       "      <td>2017-01-03</td>\n",
       "      <td>LinkedIn</td>\n",
       "      <td>desktop</td>\n",
       "      <td>Non-Primary</td>\n",
       "      <td>Android (In-App)</td>\n",
       "      <td>0</td>\n",
       "      <td>Test</td>\n",
       "    </tr>\n",
       "    <tr>\n",
       "      <th>8</th>\n",
       "      <td>97726489</td>\n",
       "      <td>2017-01-08</td>\n",
       "      <td>LinkedIn</td>\n",
       "      <td>desktop</td>\n",
       "      <td>Non-Primary</td>\n",
       "      <td>Chrome</td>\n",
       "      <td>1</td>\n",
       "      <td>Test</td>\n",
       "    </tr>\n",
       "    <tr>\n",
       "      <th>9</th>\n",
       "      <td>74333646</td>\n",
       "      <td>2017-01-10</td>\n",
       "      <td>Facebook</td>\n",
       "      <td>desktop</td>\n",
       "      <td>Non-Primary</td>\n",
       "      <td>Android (In-App)</td>\n",
       "      <td>0</td>\n",
       "      <td>Test</td>\n",
       "    </tr>\n",
       "    <tr>\n",
       "      <th>10</th>\n",
       "      <td>34045586</td>\n",
       "      <td>2017-01-05</td>\n",
       "      <td>LinkedIn</td>\n",
       "      <td>desktop</td>\n",
       "      <td>Non-Primary</td>\n",
       "      <td>iOS (In-App)</td>\n",
       "      <td>0</td>\n",
       "      <td>Control</td>\n",
       "    </tr>\n",
       "  </tbody>\n",
       "</table>\n",
       "</div>"
      ],
      "text/plain": [
       "     user_id        date    source   device        payee           browser  \\\n",
       "0    7867258  2017-01-04  LinkedIn  desktop  Non-Primary                IE   \n",
       "1   74864773  2017-01-05  Facebook  desktop  Non-Primary            Chrome   \n",
       "2   56842734  2017-01-05  Facebook  desktop  Non-Primary            Safari   \n",
       "3   73888172  2017-01-07  LinkedIn  desktop  Non-Primary            Chrome   \n",
       "4   35589853  2017-01-06  Facebook  desktop  Non-Primary  Android (In-App)   \n",
       "5   83056259  2017-01-06  Facebook  desktop      Primary      iOS (In-App)   \n",
       "6   99220253  2017-01-04  LinkedIn  desktop      Primary      iOS (In-App)   \n",
       "7   38886933  2017-01-03  LinkedIn  desktop  Non-Primary  Android (In-App)   \n",
       "8   97726489  2017-01-08  LinkedIn  desktop  Non-Primary            Chrome   \n",
       "9   74333646  2017-01-10  Facebook  desktop  Non-Primary  Android (In-App)   \n",
       "10  34045586  2017-01-05  LinkedIn  desktop  Non-Primary      iOS (In-App)   \n",
       "\n",
       "    trial    group  \n",
       "0       0     Test  \n",
       "1       0     Test  \n",
       "2       0  Control  \n",
       "3       0     Test  \n",
       "4       0     Test  \n",
       "5       0  Control  \n",
       "6       0     Test  \n",
       "7       0     Test  \n",
       "8       1     Test  \n",
       "9       0     Test  \n",
       "10      0  Control  "
      ]
     },
     "execution_count": 5,
     "metadata": {},
     "output_type": "execute_result"
    }
   ],
   "source": [
    "# show top rows\n",
    "df_ab.head(11)"
   ]
  },
  {
   "cell_type": "markdown",
   "metadata": {},
   "source": [
    "### Initial Data Collection Report   "
   ]
  },
  {
   "cell_type": "markdown",
   "metadata": {},
   "source": [
    "user_id - Unique ID for user.\n",
    "\n",
    "date - Date the user watched explainer video.\n",
    "\n",
    "source - Marketing channel user came from.\n",
    "\n",
    "Device - Was user on a mobile device or a Laptop?\n",
    "\n",
    "payee - Whether the user is the primary decision-maker for budgeting.\n",
    "\n",
    "browser - The user's browser.\n",
    "\n",
    "trial - Did the user convert, i.e. start a premium trial?\n",
    "\n",
    "group - Group (test / control).\n"
   ]
  },
  {
   "cell_type": "markdown",
   "metadata": {},
   "source": [
    "###   Describe Data at High Level   "
   ]
  },
  {
   "cell_type": "code",
   "execution_count": 9,
   "metadata": {},
   "outputs": [
    {
     "data": {
      "text/plain": [
       "346929"
      ]
     },
     "execution_count": 9,
     "metadata": {},
     "output_type": "execute_result"
    }
   ],
   "source": [
    "# Number of rows\n",
    "len(df_ab)  "
   ]
  },
  {
   "cell_type": "code",
   "execution_count": 6,
   "metadata": {},
   "outputs": [
    {
     "data": {
      "text/plain": [
       "(346929, 8)"
      ]
     },
     "execution_count": 6,
     "metadata": {},
     "output_type": "execute_result"
    }
   ],
   "source": [
    "df_ab.shape"
   ]
  },
  {
   "cell_type": "code",
   "execution_count": 6,
   "metadata": {},
   "outputs": [
    {
     "data": {
      "text/plain": [
       "Index(['user_id', 'date', 'source', 'device', 'payee', 'browser', 'trial',\n",
       "       'group'],\n",
       "      dtype='object')"
      ]
     },
     "execution_count": 6,
     "metadata": {},
     "output_type": "execute_result"
    }
   ],
   "source": [
    "# list of columns\n",
    "df_ab.columns"
   ]
  },
  {
   "cell_type": "code",
   "execution_count": 8,
   "metadata": {},
   "outputs": [
    {
     "name": "stdout",
     "output_type": "stream",
     "text": [
      "<class 'pandas.core.frame.DataFrame'>\n",
      "RangeIndex: 346929 entries, 0 to 346928\n",
      "Data columns (total 8 columns):\n",
      "user_id    346929 non-null int64\n",
      "date       346929 non-null object\n",
      "source     346929 non-null object\n",
      "device     346929 non-null object\n",
      "payee      346929 non-null object\n",
      "browser    346929 non-null object\n",
      "trial      346929 non-null int64\n",
      "group      346929 non-null object\n",
      "dtypes: int64(2), object(6)\n",
      "memory usage: 21.2+ MB\n"
     ]
    }
   ],
   "source": [
    "df_ab.info()  # Information on the columns\n",
    "                  # Similr to str() function in R\n",
    "                  # look at summary of numerical fields by using describe() function\n",
    "                  # It Printout summary statistics for numerical fields"
   ]
  },
  {
   "cell_type": "code",
   "execution_count": 4,
   "metadata": {},
   "outputs": [],
   "source": [
    "# Importing the dataset user_industry.csv\n",
    "df_ui  = pd.read_csv('user_industry.csv')"
   ]
  },
  {
   "cell_type": "code",
   "execution_count": 8,
   "metadata": {},
   "outputs": [
    {
     "data": {
      "text/html": [
       "<div>\n",
       "<style scoped>\n",
       "    .dataframe tbody tr th:only-of-type {\n",
       "        vertical-align: middle;\n",
       "    }\n",
       "\n",
       "    .dataframe tbody tr th {\n",
       "        vertical-align: top;\n",
       "    }\n",
       "\n",
       "    .dataframe thead th {\n",
       "        text-align: right;\n",
       "    }\n",
       "</style>\n",
       "<table border=\"1\" class=\"dataframe\">\n",
       "  <thead>\n",
       "    <tr style=\"text-align: right;\">\n",
       "      <th></th>\n",
       "      <th>user_id</th>\n",
       "      <th>sex</th>\n",
       "      <th>age</th>\n",
       "      <th>industry_code</th>\n",
       "    </tr>\n",
       "  </thead>\n",
       "  <tbody>\n",
       "    <tr>\n",
       "      <th>0</th>\n",
       "      <td>34621955</td>\n",
       "      <td>M</td>\n",
       "      <td>31</td>\n",
       "      <td>MFG</td>\n",
       "    </tr>\n",
       "    <tr>\n",
       "      <th>1</th>\n",
       "      <td>91757323</td>\n",
       "      <td>F</td>\n",
       "      <td>38</td>\n",
       "      <td>ICG</td>\n",
       "    </tr>\n",
       "    <tr>\n",
       "      <th>2</th>\n",
       "      <td>93294142</td>\n",
       "      <td>M</td>\n",
       "      <td>34</td>\n",
       "      <td>LPK</td>\n",
       "    </tr>\n",
       "    <tr>\n",
       "      <th>3</th>\n",
       "      <td>74191561</td>\n",
       "      <td>F</td>\n",
       "      <td>33</td>\n",
       "      <td>SPC</td>\n",
       "    </tr>\n",
       "    <tr>\n",
       "      <th>4</th>\n",
       "      <td>47442992</td>\n",
       "      <td>M</td>\n",
       "      <td>41</td>\n",
       "      <td>LPP</td>\n",
       "    </tr>\n",
       "    <tr>\n",
       "      <th>5</th>\n",
       "      <td>81071382</td>\n",
       "      <td>M</td>\n",
       "      <td>44</td>\n",
       "      <td>SPC</td>\n",
       "    </tr>\n",
       "    <tr>\n",
       "      <th>6</th>\n",
       "      <td>18375168</td>\n",
       "      <td>F</td>\n",
       "      <td>42</td>\n",
       "      <td>AOR</td>\n",
       "    </tr>\n",
       "    <tr>\n",
       "      <th>7</th>\n",
       "      <td>43526901</td>\n",
       "      <td>F</td>\n",
       "      <td>42</td>\n",
       "      <td>LPK</td>\n",
       "    </tr>\n",
       "    <tr>\n",
       "      <th>8</th>\n",
       "      <td>28813887</td>\n",
       "      <td>F</td>\n",
       "      <td>61</td>\n",
       "      <td>SPC</td>\n",
       "    </tr>\n",
       "    <tr>\n",
       "      <th>9</th>\n",
       "      <td>40388680</td>\n",
       "      <td>M</td>\n",
       "      <td>40</td>\n",
       "      <td>MFE</td>\n",
       "    </tr>\n",
       "    <tr>\n",
       "      <th>10</th>\n",
       "      <td>4481119</td>\n",
       "      <td>M</td>\n",
       "      <td>37</td>\n",
       "      <td>SPC</td>\n",
       "    </tr>\n",
       "    <tr>\n",
       "      <th>11</th>\n",
       "      <td>81623619</td>\n",
       "      <td>M</td>\n",
       "      <td>32</td>\n",
       "      <td>GRT</td>\n",
       "    </tr>\n",
       "  </tbody>\n",
       "</table>\n",
       "</div>"
      ],
      "text/plain": [
       "     user_id sex  age industry_code\n",
       "0   34621955   M   31           MFG\n",
       "1   91757323   F   38           ICG\n",
       "2   93294142   M   34           LPK\n",
       "3   74191561   F   33           SPC\n",
       "4   47442992   M   41           LPP\n",
       "5   81071382   M   44           SPC\n",
       "6   18375168   F   42           AOR\n",
       "7   43526901   F   42           LPK\n",
       "8   28813887   F   61           SPC\n",
       "9   40388680   M   40           MFE\n",
       "10   4481119   M   37           SPC\n",
       "11  81623619   M   32           GRT"
      ]
     },
     "execution_count": 8,
     "metadata": {},
     "output_type": "execute_result"
    }
   ],
   "source": [
    "# View first 12 rows\n",
    "df_ui.head(12)"
   ]
  },
  {
   "cell_type": "code",
   "execution_count": 11,
   "metadata": {},
   "outputs": [
    {
     "data": {
      "text/plain": [
       "346573"
      ]
     },
     "execution_count": 11,
     "metadata": {},
     "output_type": "execute_result"
    }
   ],
   "source": [
    "# Number of rows\n",
    "len(df_ui)"
   ]
  },
  {
   "cell_type": "code",
   "execution_count": 5,
   "metadata": {},
   "outputs": [],
   "source": [
    "# Since we are using 2 datasets we are mergining the Data.\n",
    "\n",
    "df_merge= pd.merge(df_ab, df_ui, on='user_id', how = 'inner', left_index = False, right_index = True) \n"
   ]
  },
  {
   "cell_type": "code",
   "execution_count": 10,
   "metadata": {},
   "outputs": [
    {
     "data": {
      "text/html": [
       "<div>\n",
       "<style scoped>\n",
       "    .dataframe tbody tr th:only-of-type {\n",
       "        vertical-align: middle;\n",
       "    }\n",
       "\n",
       "    .dataframe tbody tr th {\n",
       "        vertical-align: top;\n",
       "    }\n",
       "\n",
       "    .dataframe thead th {\n",
       "        text-align: right;\n",
       "    }\n",
       "</style>\n",
       "<table border=\"1\" class=\"dataframe\">\n",
       "  <thead>\n",
       "    <tr style=\"text-align: right;\">\n",
       "      <th></th>\n",
       "      <th>user_id</th>\n",
       "      <th>date</th>\n",
       "      <th>source</th>\n",
       "      <th>device</th>\n",
       "      <th>payee</th>\n",
       "      <th>browser</th>\n",
       "      <th>trial</th>\n",
       "      <th>group</th>\n",
       "      <th>sex</th>\n",
       "      <th>age</th>\n",
       "      <th>industry_code</th>\n",
       "    </tr>\n",
       "  </thead>\n",
       "  <tbody>\n",
       "    <tr>\n",
       "      <th>0</th>\n",
       "      <td>7867258</td>\n",
       "      <td>2017-01-04</td>\n",
       "      <td>LinkedIn</td>\n",
       "      <td>desktop</td>\n",
       "      <td>Non-Primary</td>\n",
       "      <td>IE</td>\n",
       "      <td>0</td>\n",
       "      <td>Test</td>\n",
       "      <td>M</td>\n",
       "      <td>37</td>\n",
       "      <td>ICG</td>\n",
       "    </tr>\n",
       "    <tr>\n",
       "      <th>1</th>\n",
       "      <td>74864773</td>\n",
       "      <td>2017-01-05</td>\n",
       "      <td>Facebook</td>\n",
       "      <td>desktop</td>\n",
       "      <td>Non-Primary</td>\n",
       "      <td>Chrome</td>\n",
       "      <td>0</td>\n",
       "      <td>Test</td>\n",
       "      <td>F</td>\n",
       "      <td>40</td>\n",
       "      <td>BOR</td>\n",
       "    </tr>\n",
       "    <tr>\n",
       "      <th>2</th>\n",
       "      <td>56842734</td>\n",
       "      <td>2017-01-05</td>\n",
       "      <td>Facebook</td>\n",
       "      <td>desktop</td>\n",
       "      <td>Non-Primary</td>\n",
       "      <td>Safari</td>\n",
       "      <td>0</td>\n",
       "      <td>Control</td>\n",
       "      <td>F</td>\n",
       "      <td>29</td>\n",
       "      <td>MFG</td>\n",
       "    </tr>\n",
       "    <tr>\n",
       "      <th>3</th>\n",
       "      <td>73888172</td>\n",
       "      <td>2017-01-07</td>\n",
       "      <td>LinkedIn</td>\n",
       "      <td>desktop</td>\n",
       "      <td>Non-Primary</td>\n",
       "      <td>Chrome</td>\n",
       "      <td>0</td>\n",
       "      <td>Test</td>\n",
       "      <td>F</td>\n",
       "      <td>29</td>\n",
       "      <td>MFE</td>\n",
       "    </tr>\n",
       "    <tr>\n",
       "      <th>4</th>\n",
       "      <td>35589853</td>\n",
       "      <td>2017-01-06</td>\n",
       "      <td>Facebook</td>\n",
       "      <td>desktop</td>\n",
       "      <td>Non-Primary</td>\n",
       "      <td>Android (In-App)</td>\n",
       "      <td>0</td>\n",
       "      <td>Test</td>\n",
       "      <td>M</td>\n",
       "      <td>31</td>\n",
       "      <td>PWO</td>\n",
       "    </tr>\n",
       "    <tr>\n",
       "      <th>5</th>\n",
       "      <td>83056259</td>\n",
       "      <td>2017-01-06</td>\n",
       "      <td>Facebook</td>\n",
       "      <td>desktop</td>\n",
       "      <td>Primary</td>\n",
       "      <td>iOS (In-App)</td>\n",
       "      <td>0</td>\n",
       "      <td>Control</td>\n",
       "      <td>F</td>\n",
       "      <td>33</td>\n",
       "      <td>LPK</td>\n",
       "    </tr>\n",
       "    <tr>\n",
       "      <th>6</th>\n",
       "      <td>99220253</td>\n",
       "      <td>2017-01-04</td>\n",
       "      <td>LinkedIn</td>\n",
       "      <td>desktop</td>\n",
       "      <td>Primary</td>\n",
       "      <td>iOS (In-App)</td>\n",
       "      <td>0</td>\n",
       "      <td>Test</td>\n",
       "      <td>M</td>\n",
       "      <td>32</td>\n",
       "      <td>LPC</td>\n",
       "    </tr>\n",
       "    <tr>\n",
       "      <th>7</th>\n",
       "      <td>38886933</td>\n",
       "      <td>2017-01-03</td>\n",
       "      <td>LinkedIn</td>\n",
       "      <td>desktop</td>\n",
       "      <td>Non-Primary</td>\n",
       "      <td>Android (In-App)</td>\n",
       "      <td>0</td>\n",
       "      <td>Test</td>\n",
       "      <td>M</td>\n",
       "      <td>42</td>\n",
       "      <td>GRT</td>\n",
       "    </tr>\n",
       "    <tr>\n",
       "      <th>8</th>\n",
       "      <td>97726489</td>\n",
       "      <td>2017-01-08</td>\n",
       "      <td>LinkedIn</td>\n",
       "      <td>desktop</td>\n",
       "      <td>Non-Primary</td>\n",
       "      <td>Chrome</td>\n",
       "      <td>1</td>\n",
       "      <td>Test</td>\n",
       "      <td>M</td>\n",
       "      <td>46</td>\n",
       "      <td>LPK</td>\n",
       "    </tr>\n",
       "    <tr>\n",
       "      <th>9</th>\n",
       "      <td>74333646</td>\n",
       "      <td>2017-01-10</td>\n",
       "      <td>Facebook</td>\n",
       "      <td>desktop</td>\n",
       "      <td>Non-Primary</td>\n",
       "      <td>Android (In-App)</td>\n",
       "      <td>0</td>\n",
       "      <td>Test</td>\n",
       "      <td>M</td>\n",
       "      <td>29</td>\n",
       "      <td>LPP</td>\n",
       "    </tr>\n",
       "    <tr>\n",
       "      <th>10</th>\n",
       "      <td>34045586</td>\n",
       "      <td>2017-01-05</td>\n",
       "      <td>LinkedIn</td>\n",
       "      <td>desktop</td>\n",
       "      <td>Non-Primary</td>\n",
       "      <td>iOS (In-App)</td>\n",
       "      <td>0</td>\n",
       "      <td>Control</td>\n",
       "      <td>M</td>\n",
       "      <td>48</td>\n",
       "      <td>LPK</td>\n",
       "    </tr>\n",
       "    <tr>\n",
       "      <th>11</th>\n",
       "      <td>34440271</td>\n",
       "      <td>2017-01-10</td>\n",
       "      <td>Facebook</td>\n",
       "      <td>desktop</td>\n",
       "      <td>Non-Primary</td>\n",
       "      <td>Android (In-App)</td>\n",
       "      <td>0</td>\n",
       "      <td>Test</td>\n",
       "      <td>F</td>\n",
       "      <td>39</td>\n",
       "      <td>PWO</td>\n",
       "    </tr>\n",
       "    <tr>\n",
       "      <th>12</th>\n",
       "      <td>7167096</td>\n",
       "      <td>2017-01-08</td>\n",
       "      <td>LinkedIn</td>\n",
       "      <td>desktop</td>\n",
       "      <td>Non-Primary</td>\n",
       "      <td>IE</td>\n",
       "      <td>0</td>\n",
       "      <td>Test</td>\n",
       "      <td>M</td>\n",
       "      <td>34</td>\n",
       "      <td>MFG</td>\n",
       "    </tr>\n",
       "    <tr>\n",
       "      <th>13</th>\n",
       "      <td>22886559</td>\n",
       "      <td>2017-01-10</td>\n",
       "      <td>Facebook</td>\n",
       "      <td>desktop</td>\n",
       "      <td>Primary</td>\n",
       "      <td>Android (In-App)</td>\n",
       "      <td>0</td>\n",
       "      <td>Control</td>\n",
       "      <td>M</td>\n",
       "      <td>33</td>\n",
       "      <td>MFG</td>\n",
       "    </tr>\n",
       "    <tr>\n",
       "      <th>14</th>\n",
       "      <td>39535976</td>\n",
       "      <td>2017-01-09</td>\n",
       "      <td>LinkedIn</td>\n",
       "      <td>desktop</td>\n",
       "      <td>Non-Primary</td>\n",
       "      <td>Chrome</td>\n",
       "      <td>0</td>\n",
       "      <td>Test</td>\n",
       "      <td>M</td>\n",
       "      <td>33</td>\n",
       "      <td>MFG</td>\n",
       "    </tr>\n",
       "    <tr>\n",
       "      <th>15</th>\n",
       "      <td>90773404</td>\n",
       "      <td>2017-01-08</td>\n",
       "      <td>LinkedIn</td>\n",
       "      <td>desktop</td>\n",
       "      <td>Primary</td>\n",
       "      <td>Android (In-App)</td>\n",
       "      <td>0</td>\n",
       "      <td>Control</td>\n",
       "      <td>M</td>\n",
       "      <td>35</td>\n",
       "      <td>MFG</td>\n",
       "    </tr>\n",
       "    <tr>\n",
       "      <th>16</th>\n",
       "      <td>20963341</td>\n",
       "      <td>2017-01-06</td>\n",
       "      <td>Facebook</td>\n",
       "      <td>desktop</td>\n",
       "      <td>Non-Primary</td>\n",
       "      <td>IE</td>\n",
       "      <td>0</td>\n",
       "      <td>Test</td>\n",
       "      <td>F</td>\n",
       "      <td>39</td>\n",
       "      <td>GRT</td>\n",
       "    </tr>\n",
       "    <tr>\n",
       "      <th>17</th>\n",
       "      <td>97362661</td>\n",
       "      <td>2017-01-10</td>\n",
       "      <td>LinkedIn</td>\n",
       "      <td>desktop</td>\n",
       "      <td>Non-Primary</td>\n",
       "      <td>Chrome</td>\n",
       "      <td>0</td>\n",
       "      <td>Control</td>\n",
       "      <td>M</td>\n",
       "      <td>30</td>\n",
       "      <td>CIL</td>\n",
       "    </tr>\n",
       "    <tr>\n",
       "      <th>18</th>\n",
       "      <td>73152107</td>\n",
       "      <td>2017-01-10</td>\n",
       "      <td>Facebook</td>\n",
       "      <td>desktop</td>\n",
       "      <td>Non-Primary</td>\n",
       "      <td>Chrome</td>\n",
       "      <td>0</td>\n",
       "      <td>Test</td>\n",
       "      <td>F</td>\n",
       "      <td>32</td>\n",
       "      <td>GRT</td>\n",
       "    </tr>\n",
       "    <tr>\n",
       "      <th>19</th>\n",
       "      <td>37847584</td>\n",
       "      <td>2017-01-07</td>\n",
       "      <td>LinkedIn</td>\n",
       "      <td>desktop</td>\n",
       "      <td>Non-Primary</td>\n",
       "      <td>Android (In-App)</td>\n",
       "      <td>0</td>\n",
       "      <td>Control</td>\n",
       "      <td>F</td>\n",
       "      <td>34</td>\n",
       "      <td>SPC</td>\n",
       "    </tr>\n",
       "  </tbody>\n",
       "</table>\n",
       "</div>"
      ],
      "text/plain": [
       "     user_id        date    source   device        payee           browser  \\\n",
       "0    7867258  2017-01-04  LinkedIn  desktop  Non-Primary                IE   \n",
       "1   74864773  2017-01-05  Facebook  desktop  Non-Primary            Chrome   \n",
       "2   56842734  2017-01-05  Facebook  desktop  Non-Primary            Safari   \n",
       "3   73888172  2017-01-07  LinkedIn  desktop  Non-Primary            Chrome   \n",
       "4   35589853  2017-01-06  Facebook  desktop  Non-Primary  Android (In-App)   \n",
       "5   83056259  2017-01-06  Facebook  desktop      Primary      iOS (In-App)   \n",
       "6   99220253  2017-01-04  LinkedIn  desktop      Primary      iOS (In-App)   \n",
       "7   38886933  2017-01-03  LinkedIn  desktop  Non-Primary  Android (In-App)   \n",
       "8   97726489  2017-01-08  LinkedIn  desktop  Non-Primary            Chrome   \n",
       "9   74333646  2017-01-10  Facebook  desktop  Non-Primary  Android (In-App)   \n",
       "10  34045586  2017-01-05  LinkedIn  desktop  Non-Primary      iOS (In-App)   \n",
       "11  34440271  2017-01-10  Facebook  desktop  Non-Primary  Android (In-App)   \n",
       "12   7167096  2017-01-08  LinkedIn  desktop  Non-Primary                IE   \n",
       "13  22886559  2017-01-10  Facebook  desktop      Primary  Android (In-App)   \n",
       "14  39535976  2017-01-09  LinkedIn  desktop  Non-Primary            Chrome   \n",
       "15  90773404  2017-01-08  LinkedIn  desktop      Primary  Android (In-App)   \n",
       "16  20963341  2017-01-06  Facebook  desktop  Non-Primary                IE   \n",
       "17  97362661  2017-01-10  LinkedIn  desktop  Non-Primary            Chrome   \n",
       "18  73152107  2017-01-10  Facebook  desktop  Non-Primary            Chrome   \n",
       "19  37847584  2017-01-07  LinkedIn  desktop  Non-Primary  Android (In-App)   \n",
       "\n",
       "    trial    group sex  age industry_code  \n",
       "0       0     Test   M   37           ICG  \n",
       "1       0     Test   F   40           BOR  \n",
       "2       0  Control   F   29           MFG  \n",
       "3       0     Test   F   29           MFE  \n",
       "4       0     Test   M   31           PWO  \n",
       "5       0  Control   F   33           LPK  \n",
       "6       0     Test   M   32           LPC  \n",
       "7       0     Test   M   42           GRT  \n",
       "8       1     Test   M   46           LPK  \n",
       "9       0     Test   M   29           LPP  \n",
       "10      0  Control   M   48           LPK  \n",
       "11      0     Test   F   39           PWO  \n",
       "12      0     Test   M   34           MFG  \n",
       "13      0  Control   M   33           MFG  \n",
       "14      0     Test   M   33           MFG  \n",
       "15      0  Control   M   35           MFG  \n",
       "16      0     Test   F   39           GRT  \n",
       "17      0  Control   M   30           CIL  \n",
       "18      0     Test   F   32           GRT  \n",
       "19      0  Control   F   34           SPC  "
      ]
     },
     "execution_count": 10,
     "metadata": {},
     "output_type": "execute_result"
    }
   ],
   "source": [
    "# view first 20 columns of merged dataset.\n",
    "df_merge.head(20)"
   ]
  },
  {
   "cell_type": "code",
   "execution_count": 16,
   "metadata": {},
   "outputs": [
    {
     "data": {
      "text/plain": [
       "(346573, 11)"
      ]
     },
     "execution_count": 16,
     "metadata": {},
     "output_type": "execute_result"
    }
   ],
   "source": [
    "# Number of rows\n",
    "df_merge.shape"
   ]
  },
  {
   "cell_type": "code",
   "execution_count": 11,
   "metadata": {},
   "outputs": [
    {
     "data": {
      "text/plain": [
       "Index(['user_id', 'date', 'source', 'device', 'payee', 'browser', 'trial',\n",
       "       'group', 'sex', 'age', 'industry_code'],\n",
       "      dtype='object')"
      ]
     },
     "execution_count": 11,
     "metadata": {},
     "output_type": "execute_result"
    }
   ],
   "source": [
    "df_merge.columns"
   ]
  },
  {
   "cell_type": "code",
   "execution_count": 6,
   "metadata": {},
   "outputs": [
    {
     "data": {
      "text/html": [
       "<div>\n",
       "<style scoped>\n",
       "    .dataframe tbody tr th:only-of-type {\n",
       "        vertical-align: middle;\n",
       "    }\n",
       "\n",
       "    .dataframe tbody tr th {\n",
       "        vertical-align: top;\n",
       "    }\n",
       "\n",
       "    .dataframe thead th {\n",
       "        text-align: right;\n",
       "    }\n",
       "</style>\n",
       "<table border=\"1\" class=\"dataframe\">\n",
       "  <thead>\n",
       "    <tr style=\"text-align: right;\">\n",
       "      <th></th>\n",
       "      <th>user_id</th>\n",
       "      <th>sex</th>\n",
       "      <th>age</th>\n",
       "      <th>date</th>\n",
       "      <th>source</th>\n",
       "      <th>device</th>\n",
       "      <th>browser</th>\n",
       "      <th>payee</th>\n",
       "      <th>industry_code</th>\n",
       "      <th>group</th>\n",
       "      <th>trial</th>\n",
       "    </tr>\n",
       "  </thead>\n",
       "  <tbody>\n",
       "    <tr>\n",
       "      <th>0</th>\n",
       "      <td>7867258</td>\n",
       "      <td>M</td>\n",
       "      <td>37</td>\n",
       "      <td>2017-01-04</td>\n",
       "      <td>LinkedIn</td>\n",
       "      <td>desktop</td>\n",
       "      <td>IE</td>\n",
       "      <td>Non-Primary</td>\n",
       "      <td>ICG</td>\n",
       "      <td>Test</td>\n",
       "      <td>0</td>\n",
       "    </tr>\n",
       "    <tr>\n",
       "      <th>1</th>\n",
       "      <td>74864773</td>\n",
       "      <td>F</td>\n",
       "      <td>40</td>\n",
       "      <td>2017-01-05</td>\n",
       "      <td>Facebook</td>\n",
       "      <td>desktop</td>\n",
       "      <td>Chrome</td>\n",
       "      <td>Non-Primary</td>\n",
       "      <td>BOR</td>\n",
       "      <td>Test</td>\n",
       "      <td>0</td>\n",
       "    </tr>\n",
       "    <tr>\n",
       "      <th>2</th>\n",
       "      <td>56842734</td>\n",
       "      <td>F</td>\n",
       "      <td>29</td>\n",
       "      <td>2017-01-05</td>\n",
       "      <td>Facebook</td>\n",
       "      <td>desktop</td>\n",
       "      <td>Safari</td>\n",
       "      <td>Non-Primary</td>\n",
       "      <td>MFG</td>\n",
       "      <td>Control</td>\n",
       "      <td>0</td>\n",
       "    </tr>\n",
       "    <tr>\n",
       "      <th>3</th>\n",
       "      <td>73888172</td>\n",
       "      <td>F</td>\n",
       "      <td>29</td>\n",
       "      <td>2017-01-07</td>\n",
       "      <td>LinkedIn</td>\n",
       "      <td>desktop</td>\n",
       "      <td>Chrome</td>\n",
       "      <td>Non-Primary</td>\n",
       "      <td>MFE</td>\n",
       "      <td>Test</td>\n",
       "      <td>0</td>\n",
       "    </tr>\n",
       "    <tr>\n",
       "      <th>4</th>\n",
       "      <td>35589853</td>\n",
       "      <td>M</td>\n",
       "      <td>31</td>\n",
       "      <td>2017-01-06</td>\n",
       "      <td>Facebook</td>\n",
       "      <td>desktop</td>\n",
       "      <td>Android (In-App)</td>\n",
       "      <td>Non-Primary</td>\n",
       "      <td>PWO</td>\n",
       "      <td>Test</td>\n",
       "      <td>0</td>\n",
       "    </tr>\n",
       "    <tr>\n",
       "      <th>5</th>\n",
       "      <td>83056259</td>\n",
       "      <td>F</td>\n",
       "      <td>33</td>\n",
       "      <td>2017-01-06</td>\n",
       "      <td>Facebook</td>\n",
       "      <td>desktop</td>\n",
       "      <td>iOS (In-App)</td>\n",
       "      <td>Primary</td>\n",
       "      <td>LPK</td>\n",
       "      <td>Control</td>\n",
       "      <td>0</td>\n",
       "    </tr>\n",
       "    <tr>\n",
       "      <th>6</th>\n",
       "      <td>99220253</td>\n",
       "      <td>M</td>\n",
       "      <td>32</td>\n",
       "      <td>2017-01-04</td>\n",
       "      <td>LinkedIn</td>\n",
       "      <td>desktop</td>\n",
       "      <td>iOS (In-App)</td>\n",
       "      <td>Primary</td>\n",
       "      <td>LPC</td>\n",
       "      <td>Test</td>\n",
       "      <td>0</td>\n",
       "    </tr>\n",
       "    <tr>\n",
       "      <th>7</th>\n",
       "      <td>38886933</td>\n",
       "      <td>M</td>\n",
       "      <td>42</td>\n",
       "      <td>2017-01-03</td>\n",
       "      <td>LinkedIn</td>\n",
       "      <td>desktop</td>\n",
       "      <td>Android (In-App)</td>\n",
       "      <td>Non-Primary</td>\n",
       "      <td>GRT</td>\n",
       "      <td>Test</td>\n",
       "      <td>0</td>\n",
       "    </tr>\n",
       "    <tr>\n",
       "      <th>8</th>\n",
       "      <td>97726489</td>\n",
       "      <td>M</td>\n",
       "      <td>46</td>\n",
       "      <td>2017-01-08</td>\n",
       "      <td>LinkedIn</td>\n",
       "      <td>desktop</td>\n",
       "      <td>Chrome</td>\n",
       "      <td>Non-Primary</td>\n",
       "      <td>LPK</td>\n",
       "      <td>Test</td>\n",
       "      <td>1</td>\n",
       "    </tr>\n",
       "    <tr>\n",
       "      <th>9</th>\n",
       "      <td>74333646</td>\n",
       "      <td>M</td>\n",
       "      <td>29</td>\n",
       "      <td>2017-01-10</td>\n",
       "      <td>Facebook</td>\n",
       "      <td>desktop</td>\n",
       "      <td>Android (In-App)</td>\n",
       "      <td>Non-Primary</td>\n",
       "      <td>LPP</td>\n",
       "      <td>Test</td>\n",
       "      <td>0</td>\n",
       "    </tr>\n",
       "  </tbody>\n",
       "</table>\n",
       "</div>"
      ],
      "text/plain": [
       "    user_id sex  age        date    source   device           browser  \\\n",
       "0   7867258   M   37  2017-01-04  LinkedIn  desktop                IE   \n",
       "1  74864773   F   40  2017-01-05  Facebook  desktop            Chrome   \n",
       "2  56842734   F   29  2017-01-05  Facebook  desktop            Safari   \n",
       "3  73888172   F   29  2017-01-07  LinkedIn  desktop            Chrome   \n",
       "4  35589853   M   31  2017-01-06  Facebook  desktop  Android (In-App)   \n",
       "5  83056259   F   33  2017-01-06  Facebook  desktop      iOS (In-App)   \n",
       "6  99220253   M   32  2017-01-04  LinkedIn  desktop      iOS (In-App)   \n",
       "7  38886933   M   42  2017-01-03  LinkedIn  desktop  Android (In-App)   \n",
       "8  97726489   M   46  2017-01-08  LinkedIn  desktop            Chrome   \n",
       "9  74333646   M   29  2017-01-10  Facebook  desktop  Android (In-App)   \n",
       "\n",
       "         payee industry_code    group  trial  \n",
       "0  Non-Primary           ICG     Test      0  \n",
       "1  Non-Primary           BOR     Test      0  \n",
       "2  Non-Primary           MFG  Control      0  \n",
       "3  Non-Primary           MFE     Test      0  \n",
       "4  Non-Primary           PWO     Test      0  \n",
       "5      Primary           LPK  Control      0  \n",
       "6      Primary           LPC     Test      0  \n",
       "7  Non-Primary           GRT     Test      0  \n",
       "8  Non-Primary           LPK     Test      1  \n",
       "9  Non-Primary           LPP     Test      0  "
      ]
     },
     "execution_count": 6,
     "metadata": {},
     "output_type": "execute_result"
    }
   ],
   "source": [
    "#rearrange cloumn order in new dataframe\n",
    "df_merge = df_merge[['user_id','sex','age','date', 'source', 'device', 'browser', 'payee','industry_code','group','trial']]\n",
    "\n",
    "df_merge.head(10)"
   ]
  },
  {
   "cell_type": "code",
   "execution_count": 23,
   "metadata": {},
   "outputs": [
    {
     "data": {
      "text/html": [
       "<div>\n",
       "<style scoped>\n",
       "    .dataframe tbody tr th:only-of-type {\n",
       "        vertical-align: middle;\n",
       "    }\n",
       "\n",
       "    .dataframe tbody tr th {\n",
       "        vertical-align: top;\n",
       "    }\n",
       "\n",
       "    .dataframe thead th {\n",
       "        text-align: right;\n",
       "    }\n",
       "</style>\n",
       "<table border=\"1\" class=\"dataframe\">\n",
       "  <thead>\n",
       "    <tr style=\"text-align: right;\">\n",
       "      <th></th>\n",
       "      <th>user_id</th>\n",
       "      <th>age</th>\n",
       "      <th>trial</th>\n",
       "    </tr>\n",
       "  </thead>\n",
       "  <tbody>\n",
       "    <tr>\n",
       "      <th>count</th>\n",
       "      <td>3.465730e+05</td>\n",
       "      <td>346573.000000</td>\n",
       "      <td>346573.000000</td>\n",
       "    </tr>\n",
       "    <tr>\n",
       "      <th>mean</th>\n",
       "      <td>5.005189e+07</td>\n",
       "      <td>39.056695</td>\n",
       "      <td>0.049603</td>\n",
       "    </tr>\n",
       "    <tr>\n",
       "      <th>std</th>\n",
       "      <td>2.891402e+07</td>\n",
       "      <td>6.768201</td>\n",
       "      <td>0.217123</td>\n",
       "    </tr>\n",
       "    <tr>\n",
       "      <th>min</th>\n",
       "      <td>1.760000e+02</td>\n",
       "      <td>21.000000</td>\n",
       "      <td>0.000000</td>\n",
       "    </tr>\n",
       "    <tr>\n",
       "      <th>25%</th>\n",
       "      <td>2.500549e+07</td>\n",
       "      <td>34.000000</td>\n",
       "      <td>0.000000</td>\n",
       "    </tr>\n",
       "    <tr>\n",
       "      <th>50%</th>\n",
       "      <td>5.005859e+07</td>\n",
       "      <td>38.000000</td>\n",
       "      <td>0.000000</td>\n",
       "    </tr>\n",
       "    <tr>\n",
       "      <th>75%</th>\n",
       "      <td>7.504929e+07</td>\n",
       "      <td>43.000000</td>\n",
       "      <td>0.000000</td>\n",
       "    </tr>\n",
       "    <tr>\n",
       "      <th>max</th>\n",
       "      <td>9.999994e+07</td>\n",
       "      <td>64.000000</td>\n",
       "      <td>1.000000</td>\n",
       "    </tr>\n",
       "  </tbody>\n",
       "</table>\n",
       "</div>"
      ],
      "text/plain": [
       "            user_id            age          trial\n",
       "count  3.465730e+05  346573.000000  346573.000000\n",
       "mean   5.005189e+07      39.056695       0.049603\n",
       "std    2.891402e+07       6.768201       0.217123\n",
       "min    1.760000e+02      21.000000       0.000000\n",
       "25%    2.500549e+07      34.000000       0.000000\n",
       "50%    5.005859e+07      38.000000       0.000000\n",
       "75%    7.504929e+07      43.000000       0.000000\n",
       "max    9.999994e+07      64.000000       1.000000"
      ]
     },
     "execution_count": 23,
     "metadata": {},
     "output_type": "execute_result"
    }
   ],
   "source": [
    "df_merge.describe()"
   ]
  },
  {
   "cell_type": "markdown",
   "metadata": {},
   "source": [
    "###  Data Description Report  "
   ]
  },
  {
   "cell_type": "markdown",
   "metadata": {},
   "source": [
    "##### Examine, Enumerate (count) issues and Visualize\n",
    "prepare meta-data report. Examine data characteristics, count data issues, Visualize.\n",
    "-\tDescribe the acquired data, format of data, quantity of data GBs, no. of rows, tables, fields in each table etc. \n",
    "o\tCount(rows)\n",
    "-\tDescribe the fields/ columns/ dimensions of the data objects. \n",
    "o\tcount(columns/dimensions/ input variables),\n",
    "-\tCheck if these dimensions/ inputs are useful in predicting the Target Variable?\n",
    "o\tcount(target Variables in data if any)\n",
    "-\tEnumerate/ count problems with the data, including inaccurate or invalid values, missing values, unexpected distributions, and incorrect data-types ex.: date format as character.\n",
    "-\tVisualize data to gain further insights into the characteristics of the data, especially those masked by summary statistics.\n",
    "o\tgraphs & plots, mean median mode"
   ]
  },
  {
   "cell_type": "code",
   "execution_count": 25,
   "metadata": {},
   "outputs": [
    {
     "data": {
      "text/plain": [
       "<bound method DataFrame.info of          user_id sex  age        date    source   device           browser  \\\n",
       "0        7867258   M   37  2017-01-04  LinkedIn  desktop                IE   \n",
       "1       74864773   F   40  2017-01-05  Facebook  desktop            Chrome   \n",
       "2       56842734   F   29  2017-01-05  Facebook  desktop            Safari   \n",
       "3       73888172   F   29  2017-01-07  LinkedIn  desktop            Chrome   \n",
       "4       35589853   M   31  2017-01-06  Facebook  desktop  Android (In-App)   \n",
       "...          ...  ..  ...         ...       ...      ...               ...   \n",
       "346924  89143122   F   42  2017-01-06  LinkedIn  desktop  Android (In-App)   \n",
       "346925  27516790   F   34  2017-01-10  Facebook  desktop                IE   \n",
       "346926  52121252   M   45  2017-01-08     Email  desktop                IE   \n",
       "346927  64140107   M   33  2017-01-09  LinkedIn  desktop           FireFox   \n",
       "346928  99323906   F   50  2017-01-07  Facebook  desktop            Safari   \n",
       "\n",
       "              payee industry_code    group  trial  \n",
       "0       Non-Primary           ICG     Test      0  \n",
       "1       Non-Primary           BOR     Test      0  \n",
       "2       Non-Primary           MFG  Control      0  \n",
       "3       Non-Primary           MFE     Test      0  \n",
       "4       Non-Primary           PWO     Test      0  \n",
       "...             ...           ...      ...    ...  \n",
       "346924  Non-Primary           DUR     Test      0  \n",
       "346925  Non-Primary           MFG     Test      0  \n",
       "346926  Non-Primary           TRV     Test      0  \n",
       "346927  Non-Primary           LPK     Test      0  \n",
       "346928  Non-Primary           SPC  Control      0  \n",
       "\n",
       "[346573 rows x 11 columns]>"
      ]
     },
     "execution_count": 25,
     "metadata": {},
     "output_type": "execute_result"
    }
   ],
   "source": [
    "df_merge.info"
   ]
  },
  {
   "cell_type": "code",
   "execution_count": 27,
   "metadata": {},
   "outputs": [
    {
     "name": "stdout",
     "output_type": "stream",
     "text": [
      "<class 'pandas.core.frame.DataFrame'>\n",
      "Int64Index: 346573 entries, 0 to 346928\n",
      "Data columns (total 11 columns):\n",
      "user_id          346573 non-null int64\n",
      "sex              346573 non-null object\n",
      "age              346573 non-null int64\n",
      "date             346573 non-null object\n",
      "source           346573 non-null object\n",
      "device           346573 non-null object\n",
      "browser          346573 non-null object\n",
      "payee            346573 non-null object\n",
      "industry_code    346573 non-null object\n",
      "group            346573 non-null object\n",
      "trial            346573 non-null int64\n",
      "dtypes: int64(3), object(8)\n",
      "memory usage: 31.7+ MB\n"
     ]
    }
   ],
   "source": [
    "# describe datatypes of all columns\n",
    "df_merge.info()"
   ]
  },
  {
   "cell_type": "code",
   "execution_count": 39,
   "metadata": {},
   "outputs": [
    {
     "data": {
      "text/html": [
       "<div>\n",
       "<style scoped>\n",
       "    .dataframe tbody tr th:only-of-type {\n",
       "        vertical-align: middle;\n",
       "    }\n",
       "\n",
       "    .dataframe tbody tr th {\n",
       "        vertical-align: top;\n",
       "    }\n",
       "\n",
       "    .dataframe thead th {\n",
       "        text-align: right;\n",
       "    }\n",
       "</style>\n",
       "<table border=\"1\" class=\"dataframe\">\n",
       "  <thead>\n",
       "    <tr style=\"text-align: right;\">\n",
       "      <th></th>\n",
       "      <th>user_id</th>\n",
       "      <th>sex</th>\n",
       "      <th>age</th>\n",
       "      <th>date</th>\n",
       "      <th>source</th>\n",
       "      <th>device</th>\n",
       "      <th>browser</th>\n",
       "      <th>payee</th>\n",
       "      <th>industry_code</th>\n",
       "      <th>group</th>\n",
       "      <th>trial</th>\n",
       "    </tr>\n",
       "  </thead>\n",
       "  <tbody>\n",
       "    <tr>\n",
       "      <th>0</th>\n",
       "      <td>7867258</td>\n",
       "      <td>M</td>\n",
       "      <td>37</td>\n",
       "      <td>2017-01-04</td>\n",
       "      <td>LinkedIn</td>\n",
       "      <td>desktop</td>\n",
       "      <td>IE</td>\n",
       "      <td>Non-Primary</td>\n",
       "      <td>ICG</td>\n",
       "      <td>Test</td>\n",
       "      <td>0</td>\n",
       "    </tr>\n",
       "    <tr>\n",
       "      <th>1</th>\n",
       "      <td>74864773</td>\n",
       "      <td>F</td>\n",
       "      <td>40</td>\n",
       "      <td>2017-01-05</td>\n",
       "      <td>Facebook</td>\n",
       "      <td>desktop</td>\n",
       "      <td>Chrome</td>\n",
       "      <td>Non-Primary</td>\n",
       "      <td>BOR</td>\n",
       "      <td>Test</td>\n",
       "      <td>0</td>\n",
       "    </tr>\n",
       "    <tr>\n",
       "      <th>2</th>\n",
       "      <td>56842734</td>\n",
       "      <td>F</td>\n",
       "      <td>29</td>\n",
       "      <td>2017-01-05</td>\n",
       "      <td>Facebook</td>\n",
       "      <td>desktop</td>\n",
       "      <td>Safari</td>\n",
       "      <td>Non-Primary</td>\n",
       "      <td>MFG</td>\n",
       "      <td>Control</td>\n",
       "      <td>0</td>\n",
       "    </tr>\n",
       "    <tr>\n",
       "      <th>3</th>\n",
       "      <td>73888172</td>\n",
       "      <td>F</td>\n",
       "      <td>29</td>\n",
       "      <td>2017-01-07</td>\n",
       "      <td>LinkedIn</td>\n",
       "      <td>desktop</td>\n",
       "      <td>Chrome</td>\n",
       "      <td>Non-Primary</td>\n",
       "      <td>MFE</td>\n",
       "      <td>Test</td>\n",
       "      <td>0</td>\n",
       "    </tr>\n",
       "    <tr>\n",
       "      <th>4</th>\n",
       "      <td>35589853</td>\n",
       "      <td>M</td>\n",
       "      <td>31</td>\n",
       "      <td>2017-01-06</td>\n",
       "      <td>Facebook</td>\n",
       "      <td>desktop</td>\n",
       "      <td>Android (In-App)</td>\n",
       "      <td>Non-Primary</td>\n",
       "      <td>PWO</td>\n",
       "      <td>Test</td>\n",
       "      <td>0</td>\n",
       "    </tr>\n",
       "  </tbody>\n",
       "</table>\n",
       "</div>"
      ],
      "text/plain": [
       "    user_id sex  age        date    source   device           browser  \\\n",
       "0   7867258   M   37  2017-01-04  LinkedIn  desktop                IE   \n",
       "1  74864773   F   40  2017-01-05  Facebook  desktop            Chrome   \n",
       "2  56842734   F   29  2017-01-05  Facebook  desktop            Safari   \n",
       "3  73888172   F   29  2017-01-07  LinkedIn  desktop            Chrome   \n",
       "4  35589853   M   31  2017-01-06  Facebook  desktop  Android (In-App)   \n",
       "\n",
       "         payee industry_code    group  trial  \n",
       "0  Non-Primary           ICG     Test      0  \n",
       "1  Non-Primary           BOR     Test      0  \n",
       "2  Non-Primary           MFG  Control      0  \n",
       "3  Non-Primary           MFE     Test      0  \n",
       "4  Non-Primary           PWO     Test      0  "
      ]
     },
     "execution_count": 39,
     "metadata": {},
     "output_type": "execute_result"
    }
   ],
   "source": [
    "df_merge.head()"
   ]
  },
  {
   "cell_type": "code",
   "execution_count": 12,
   "metadata": {},
   "outputs": [
    {
     "data": {
      "text/html": [
       "<div>\n",
       "<style scoped>\n",
       "    .dataframe tbody tr th:only-of-type {\n",
       "        vertical-align: middle;\n",
       "    }\n",
       "\n",
       "    .dataframe tbody tr th {\n",
       "        vertical-align: top;\n",
       "    }\n",
       "\n",
       "    .dataframe thead th {\n",
       "        text-align: right;\n",
       "    }\n",
       "</style>\n",
       "<table border=\"1\" class=\"dataframe\">\n",
       "  <thead>\n",
       "    <tr style=\"text-align: right;\">\n",
       "      <th></th>\n",
       "      <th>user_id</th>\n",
       "      <th>sex</th>\n",
       "      <th>age</th>\n",
       "      <th>date</th>\n",
       "      <th>source</th>\n",
       "      <th>device</th>\n",
       "      <th>browser</th>\n",
       "      <th>payee</th>\n",
       "      <th>industry_code</th>\n",
       "      <th>group</th>\n",
       "      <th>trial</th>\n",
       "    </tr>\n",
       "  </thead>\n",
       "  <tbody>\n",
       "  </tbody>\n",
       "</table>\n",
       "</div>"
      ],
      "text/plain": [
       "Empty DataFrame\n",
       "Columns: [user_id, sex, age, date, source, device, browser, payee, industry_code, group, trial]\n",
       "Index: []"
      ]
     },
     "execution_count": 12,
     "metadata": {},
     "output_type": "execute_result"
    }
   ],
   "source": [
    "# find duplicates in df1\n",
    "df_merge[df_merge.duplicated(['user_id'], keep=False)]"
   ]
  },
  {
   "cell_type": "markdown",
   "metadata": {},
   "source": [
    "###  Explore Data  "
   ]
  },
  {
   "cell_type": "code",
   "execution_count": 7,
   "metadata": {},
   "outputs": [],
   "source": [
    "# familiar with basic data characteristics \n",
    "# distribution of various variables\n",
    "\n",
    "import matplotlib.pyplot as plt\n",
    "%matplotlib inline"
   ]
  },
  {
   "cell_type": "code",
   "execution_count": 8,
   "metadata": {},
   "outputs": [],
   "source": [
    "# assign merged dataframe to a new frame for modification\n",
    "df1 = df_merge.copy()\n",
    "df1.drop(['user_id'], axis=1, inplace=True)\n",
    "df1.drop(['date'], axis=1, inplace=True)"
   ]
  },
  {
   "cell_type": "code",
   "execution_count": 29,
   "metadata": {},
   "outputs": [
    {
     "data": {
      "text/plain": [
       "(346573, 9)"
      ]
     },
     "execution_count": 29,
     "metadata": {},
     "output_type": "execute_result"
    },
    {
     "data": {
      "text/html": [
       "<div>\n",
       "<style scoped>\n",
       "    .dataframe tbody tr th:only-of-type {\n",
       "        vertical-align: middle;\n",
       "    }\n",
       "\n",
       "    .dataframe tbody tr th {\n",
       "        vertical-align: top;\n",
       "    }\n",
       "\n",
       "    .dataframe thead th {\n",
       "        text-align: right;\n",
       "    }\n",
       "</style>\n",
       "<table border=\"1\" class=\"dataframe\">\n",
       "  <thead>\n",
       "    <tr style=\"text-align: right;\">\n",
       "      <th></th>\n",
       "      <th>sex</th>\n",
       "      <th>age</th>\n",
       "      <th>source</th>\n",
       "      <th>device</th>\n",
       "      <th>browser</th>\n",
       "      <th>payee</th>\n",
       "      <th>industry_code</th>\n",
       "      <th>group</th>\n",
       "      <th>trial</th>\n",
       "    </tr>\n",
       "  </thead>\n",
       "  <tbody>\n",
       "    <tr>\n",
       "      <th>0</th>\n",
       "      <td>M</td>\n",
       "      <td>37</td>\n",
       "      <td>LinkedIn</td>\n",
       "      <td>desktop</td>\n",
       "      <td>IE</td>\n",
       "      <td>Non-Primary</td>\n",
       "      <td>ICG</td>\n",
       "      <td>Test</td>\n",
       "      <td>0</td>\n",
       "    </tr>\n",
       "    <tr>\n",
       "      <th>1</th>\n",
       "      <td>F</td>\n",
       "      <td>40</td>\n",
       "      <td>Facebook</td>\n",
       "      <td>desktop</td>\n",
       "      <td>Chrome</td>\n",
       "      <td>Non-Primary</td>\n",
       "      <td>BOR</td>\n",
       "      <td>Test</td>\n",
       "      <td>0</td>\n",
       "    </tr>\n",
       "    <tr>\n",
       "      <th>2</th>\n",
       "      <td>F</td>\n",
       "      <td>29</td>\n",
       "      <td>Facebook</td>\n",
       "      <td>desktop</td>\n",
       "      <td>Safari</td>\n",
       "      <td>Non-Primary</td>\n",
       "      <td>MFG</td>\n",
       "      <td>Control</td>\n",
       "      <td>0</td>\n",
       "    </tr>\n",
       "    <tr>\n",
       "      <th>3</th>\n",
       "      <td>F</td>\n",
       "      <td>29</td>\n",
       "      <td>LinkedIn</td>\n",
       "      <td>desktop</td>\n",
       "      <td>Chrome</td>\n",
       "      <td>Non-Primary</td>\n",
       "      <td>MFE</td>\n",
       "      <td>Test</td>\n",
       "      <td>0</td>\n",
       "    </tr>\n",
       "    <tr>\n",
       "      <th>4</th>\n",
       "      <td>M</td>\n",
       "      <td>31</td>\n",
       "      <td>Facebook</td>\n",
       "      <td>desktop</td>\n",
       "      <td>Android (In-App)</td>\n",
       "      <td>Non-Primary</td>\n",
       "      <td>PWO</td>\n",
       "      <td>Test</td>\n",
       "      <td>0</td>\n",
       "    </tr>\n",
       "    <tr>\n",
       "      <th>5</th>\n",
       "      <td>F</td>\n",
       "      <td>33</td>\n",
       "      <td>Facebook</td>\n",
       "      <td>desktop</td>\n",
       "      <td>iOS (In-App)</td>\n",
       "      <td>Primary</td>\n",
       "      <td>LPK</td>\n",
       "      <td>Control</td>\n",
       "      <td>0</td>\n",
       "    </tr>\n",
       "    <tr>\n",
       "      <th>6</th>\n",
       "      <td>M</td>\n",
       "      <td>32</td>\n",
       "      <td>LinkedIn</td>\n",
       "      <td>desktop</td>\n",
       "      <td>iOS (In-App)</td>\n",
       "      <td>Primary</td>\n",
       "      <td>LPC</td>\n",
       "      <td>Test</td>\n",
       "      <td>0</td>\n",
       "    </tr>\n",
       "    <tr>\n",
       "      <th>7</th>\n",
       "      <td>M</td>\n",
       "      <td>42</td>\n",
       "      <td>LinkedIn</td>\n",
       "      <td>desktop</td>\n",
       "      <td>Android (In-App)</td>\n",
       "      <td>Non-Primary</td>\n",
       "      <td>GRT</td>\n",
       "      <td>Test</td>\n",
       "      <td>0</td>\n",
       "    </tr>\n",
       "    <tr>\n",
       "      <th>8</th>\n",
       "      <td>M</td>\n",
       "      <td>46</td>\n",
       "      <td>LinkedIn</td>\n",
       "      <td>desktop</td>\n",
       "      <td>Chrome</td>\n",
       "      <td>Non-Primary</td>\n",
       "      <td>LPK</td>\n",
       "      <td>Test</td>\n",
       "      <td>1</td>\n",
       "    </tr>\n",
       "    <tr>\n",
       "      <th>9</th>\n",
       "      <td>M</td>\n",
       "      <td>29</td>\n",
       "      <td>Facebook</td>\n",
       "      <td>desktop</td>\n",
       "      <td>Android (In-App)</td>\n",
       "      <td>Non-Primary</td>\n",
       "      <td>LPP</td>\n",
       "      <td>Test</td>\n",
       "      <td>0</td>\n",
       "    </tr>\n",
       "  </tbody>\n",
       "</table>\n",
       "</div>"
      ],
      "text/plain": [
       "  sex  age    source   device           browser        payee industry_code  \\\n",
       "0   M   37  LinkedIn  desktop                IE  Non-Primary           ICG   \n",
       "1   F   40  Facebook  desktop            Chrome  Non-Primary           BOR   \n",
       "2   F   29  Facebook  desktop            Safari  Non-Primary           MFG   \n",
       "3   F   29  LinkedIn  desktop            Chrome  Non-Primary           MFE   \n",
       "4   M   31  Facebook  desktop  Android (In-App)  Non-Primary           PWO   \n",
       "5   F   33  Facebook  desktop      iOS (In-App)      Primary           LPK   \n",
       "6   M   32  LinkedIn  desktop      iOS (In-App)      Primary           LPC   \n",
       "7   M   42  LinkedIn  desktop  Android (In-App)  Non-Primary           GRT   \n",
       "8   M   46  LinkedIn  desktop            Chrome  Non-Primary           LPK   \n",
       "9   M   29  Facebook  desktop  Android (In-App)  Non-Primary           LPP   \n",
       "\n",
       "     group  trial  \n",
       "0     Test      0  \n",
       "1     Test      0  \n",
       "2  Control      0  \n",
       "3     Test      0  \n",
       "4     Test      0  \n",
       "5  Control      0  \n",
       "6     Test      0  \n",
       "7     Test      0  \n",
       "8     Test      1  \n",
       "9     Test      0  "
      ]
     },
     "execution_count": 29,
     "metadata": {},
     "output_type": "execute_result"
    }
   ],
   "source": [
    "df1.shape\n",
    "df1.head(10)"
   ]
  },
  {
   "cell_type": "markdown",
   "metadata": {},
   "source": [
    "## Data cleansing\n",
    "there is a serious discrepency in data collection. As it shows ANdroid OS and iOS as desktop, whereas these are mobile devices. <br>\n",
    "\n",
    "- check for distinct values in browser and device columns then update appropriately."
   ]
  },
  {
   "cell_type": "code",
   "execution_count": 17,
   "metadata": {},
   "outputs": [
    {
     "data": {
      "text/plain": [
       "array(['desktop'], dtype=object)"
      ]
     },
     "execution_count": 17,
     "metadata": {},
     "output_type": "execute_result"
    },
    {
     "data": {
      "text/plain": [
       "array(['IE', 'Chrome', 'Safari', 'Android (In-App)', 'iOS (In-App)',\n",
       "       'FireFox', 'Opera'], dtype=object)"
      ]
     },
     "execution_count": 17,
     "metadata": {},
     "output_type": "execute_result"
    }
   ],
   "source": [
    "# getting all unique values from categorical columns: Device and browser\n",
    "\n",
    "df1.device.unique()\n",
    "df1.browser.unique()"
   ]
  },
  {
   "cell_type": "markdown",
   "metadata": {},
   "source": [
    "#### update the device column\n",
    "updating the device column to \"mobile\" where browser = 'Android (In-App)', 'iOS (In-App)' <br>\n",
    "updating the device column to \"laptop\" where browser = 'IE', 'Chrome', 'Safari','FireFox', 'Opera'"
   ]
  },
  {
   "cell_type": "code",
   "execution_count": 9,
   "metadata": {},
   "outputs": [],
   "source": [
    "# copy df_merge to a new df for conversion\n",
    "# new = old[['A', 'C', 'D'...,'n']].copy()\n",
    "\n",
    "df_conv = df1.copy()"
   ]
  },
  {
   "cell_type": "code",
   "execution_count": 31,
   "metadata": {},
   "outputs": [
    {
     "data": {
      "text/plain": [
       "(346573, 9)"
      ]
     },
     "execution_count": 31,
     "metadata": {},
     "output_type": "execute_result"
    },
    {
     "data": {
      "text/html": [
       "<div>\n",
       "<style scoped>\n",
       "    .dataframe tbody tr th:only-of-type {\n",
       "        vertical-align: middle;\n",
       "    }\n",
       "\n",
       "    .dataframe tbody tr th {\n",
       "        vertical-align: top;\n",
       "    }\n",
       "\n",
       "    .dataframe thead th {\n",
       "        text-align: right;\n",
       "    }\n",
       "</style>\n",
       "<table border=\"1\" class=\"dataframe\">\n",
       "  <thead>\n",
       "    <tr style=\"text-align: right;\">\n",
       "      <th></th>\n",
       "      <th>sex</th>\n",
       "      <th>age</th>\n",
       "      <th>source</th>\n",
       "      <th>device</th>\n",
       "      <th>browser</th>\n",
       "      <th>payee</th>\n",
       "      <th>industry_code</th>\n",
       "      <th>group</th>\n",
       "      <th>trial</th>\n",
       "    </tr>\n",
       "  </thead>\n",
       "  <tbody>\n",
       "    <tr>\n",
       "      <th>0</th>\n",
       "      <td>M</td>\n",
       "      <td>37</td>\n",
       "      <td>LinkedIn</td>\n",
       "      <td>desktop</td>\n",
       "      <td>IE</td>\n",
       "      <td>Non-Primary</td>\n",
       "      <td>ICG</td>\n",
       "      <td>Test</td>\n",
       "      <td>0</td>\n",
       "    </tr>\n",
       "    <tr>\n",
       "      <th>1</th>\n",
       "      <td>F</td>\n",
       "      <td>40</td>\n",
       "      <td>Facebook</td>\n",
       "      <td>desktop</td>\n",
       "      <td>Chrome</td>\n",
       "      <td>Non-Primary</td>\n",
       "      <td>BOR</td>\n",
       "      <td>Test</td>\n",
       "      <td>0</td>\n",
       "    </tr>\n",
       "    <tr>\n",
       "      <th>2</th>\n",
       "      <td>F</td>\n",
       "      <td>29</td>\n",
       "      <td>Facebook</td>\n",
       "      <td>desktop</td>\n",
       "      <td>Safari</td>\n",
       "      <td>Non-Primary</td>\n",
       "      <td>MFG</td>\n",
       "      <td>Control</td>\n",
       "      <td>0</td>\n",
       "    </tr>\n",
       "    <tr>\n",
       "      <th>3</th>\n",
       "      <td>F</td>\n",
       "      <td>29</td>\n",
       "      <td>LinkedIn</td>\n",
       "      <td>desktop</td>\n",
       "      <td>Chrome</td>\n",
       "      <td>Non-Primary</td>\n",
       "      <td>MFE</td>\n",
       "      <td>Test</td>\n",
       "      <td>0</td>\n",
       "    </tr>\n",
       "    <tr>\n",
       "      <th>4</th>\n",
       "      <td>M</td>\n",
       "      <td>31</td>\n",
       "      <td>Facebook</td>\n",
       "      <td>desktop</td>\n",
       "      <td>Android (In-App)</td>\n",
       "      <td>Non-Primary</td>\n",
       "      <td>PWO</td>\n",
       "      <td>Test</td>\n",
       "      <td>0</td>\n",
       "    </tr>\n",
       "    <tr>\n",
       "      <th>5</th>\n",
       "      <td>F</td>\n",
       "      <td>33</td>\n",
       "      <td>Facebook</td>\n",
       "      <td>desktop</td>\n",
       "      <td>iOS (In-App)</td>\n",
       "      <td>Primary</td>\n",
       "      <td>LPK</td>\n",
       "      <td>Control</td>\n",
       "      <td>0</td>\n",
       "    </tr>\n",
       "    <tr>\n",
       "      <th>6</th>\n",
       "      <td>M</td>\n",
       "      <td>32</td>\n",
       "      <td>LinkedIn</td>\n",
       "      <td>desktop</td>\n",
       "      <td>iOS (In-App)</td>\n",
       "      <td>Primary</td>\n",
       "      <td>LPC</td>\n",
       "      <td>Test</td>\n",
       "      <td>0</td>\n",
       "    </tr>\n",
       "    <tr>\n",
       "      <th>7</th>\n",
       "      <td>M</td>\n",
       "      <td>42</td>\n",
       "      <td>LinkedIn</td>\n",
       "      <td>desktop</td>\n",
       "      <td>Android (In-App)</td>\n",
       "      <td>Non-Primary</td>\n",
       "      <td>GRT</td>\n",
       "      <td>Test</td>\n",
       "      <td>0</td>\n",
       "    </tr>\n",
       "    <tr>\n",
       "      <th>8</th>\n",
       "      <td>M</td>\n",
       "      <td>46</td>\n",
       "      <td>LinkedIn</td>\n",
       "      <td>desktop</td>\n",
       "      <td>Chrome</td>\n",
       "      <td>Non-Primary</td>\n",
       "      <td>LPK</td>\n",
       "      <td>Test</td>\n",
       "      <td>1</td>\n",
       "    </tr>\n",
       "    <tr>\n",
       "      <th>9</th>\n",
       "      <td>M</td>\n",
       "      <td>29</td>\n",
       "      <td>Facebook</td>\n",
       "      <td>desktop</td>\n",
       "      <td>Android (In-App)</td>\n",
       "      <td>Non-Primary</td>\n",
       "      <td>LPP</td>\n",
       "      <td>Test</td>\n",
       "      <td>0</td>\n",
       "    </tr>\n",
       "  </tbody>\n",
       "</table>\n",
       "</div>"
      ],
      "text/plain": [
       "  sex  age    source   device           browser        payee industry_code  \\\n",
       "0   M   37  LinkedIn  desktop                IE  Non-Primary           ICG   \n",
       "1   F   40  Facebook  desktop            Chrome  Non-Primary           BOR   \n",
       "2   F   29  Facebook  desktop            Safari  Non-Primary           MFG   \n",
       "3   F   29  LinkedIn  desktop            Chrome  Non-Primary           MFE   \n",
       "4   M   31  Facebook  desktop  Android (In-App)  Non-Primary           PWO   \n",
       "5   F   33  Facebook  desktop      iOS (In-App)      Primary           LPK   \n",
       "6   M   32  LinkedIn  desktop      iOS (In-App)      Primary           LPC   \n",
       "7   M   42  LinkedIn  desktop  Android (In-App)  Non-Primary           GRT   \n",
       "8   M   46  LinkedIn  desktop            Chrome  Non-Primary           LPK   \n",
       "9   M   29  Facebook  desktop  Android (In-App)  Non-Primary           LPP   \n",
       "\n",
       "     group  trial  \n",
       "0     Test      0  \n",
       "1     Test      0  \n",
       "2  Control      0  \n",
       "3     Test      0  \n",
       "4     Test      0  \n",
       "5  Control      0  \n",
       "6     Test      0  \n",
       "7     Test      0  \n",
       "8     Test      1  \n",
       "9     Test      0  "
      ]
     },
     "execution_count": 31,
     "metadata": {},
     "output_type": "execute_result"
    }
   ],
   "source": [
    "df_conv.shape\n",
    "df_conv.head(10)"
   ]
  },
  {
   "cell_type": "code",
   "execution_count": 10,
   "metadata": {},
   "outputs": [],
   "source": [
    "df_conv.loc[df_conv.browser == 'Android (In-App)', 'device'] = 'mobile'\n",
    "df_conv.loc[df_conv.browser == 'iOS (In-App)', 'device'] = 'mobile'"
   ]
  },
  {
   "cell_type": "code",
   "execution_count": 34,
   "metadata": {},
   "outputs": [
    {
     "data": {
      "text/html": [
       "<div>\n",
       "<style scoped>\n",
       "    .dataframe tbody tr th:only-of-type {\n",
       "        vertical-align: middle;\n",
       "    }\n",
       "\n",
       "    .dataframe tbody tr th {\n",
       "        vertical-align: top;\n",
       "    }\n",
       "\n",
       "    .dataframe thead th {\n",
       "        text-align: right;\n",
       "    }\n",
       "</style>\n",
       "<table border=\"1\" class=\"dataframe\">\n",
       "  <thead>\n",
       "    <tr style=\"text-align: right;\">\n",
       "      <th></th>\n",
       "      <th>sex</th>\n",
       "      <th>age</th>\n",
       "      <th>source</th>\n",
       "      <th>device</th>\n",
       "      <th>browser</th>\n",
       "      <th>payee</th>\n",
       "      <th>industry_code</th>\n",
       "      <th>group</th>\n",
       "      <th>trial</th>\n",
       "    </tr>\n",
       "  </thead>\n",
       "  <tbody>\n",
       "    <tr>\n",
       "      <th>0</th>\n",
       "      <td>M</td>\n",
       "      <td>37</td>\n",
       "      <td>LinkedIn</td>\n",
       "      <td>desktop</td>\n",
       "      <td>IE</td>\n",
       "      <td>Non-Primary</td>\n",
       "      <td>ICG</td>\n",
       "      <td>Test</td>\n",
       "      <td>0</td>\n",
       "    </tr>\n",
       "    <tr>\n",
       "      <th>1</th>\n",
       "      <td>F</td>\n",
       "      <td>40</td>\n",
       "      <td>Facebook</td>\n",
       "      <td>desktop</td>\n",
       "      <td>Chrome</td>\n",
       "      <td>Non-Primary</td>\n",
       "      <td>BOR</td>\n",
       "      <td>Test</td>\n",
       "      <td>0</td>\n",
       "    </tr>\n",
       "    <tr>\n",
       "      <th>2</th>\n",
       "      <td>F</td>\n",
       "      <td>29</td>\n",
       "      <td>Facebook</td>\n",
       "      <td>desktop</td>\n",
       "      <td>Safari</td>\n",
       "      <td>Non-Primary</td>\n",
       "      <td>MFG</td>\n",
       "      <td>Control</td>\n",
       "      <td>0</td>\n",
       "    </tr>\n",
       "    <tr>\n",
       "      <th>3</th>\n",
       "      <td>F</td>\n",
       "      <td>29</td>\n",
       "      <td>LinkedIn</td>\n",
       "      <td>desktop</td>\n",
       "      <td>Chrome</td>\n",
       "      <td>Non-Primary</td>\n",
       "      <td>MFE</td>\n",
       "      <td>Test</td>\n",
       "      <td>0</td>\n",
       "    </tr>\n",
       "    <tr>\n",
       "      <th>4</th>\n",
       "      <td>M</td>\n",
       "      <td>31</td>\n",
       "      <td>Facebook</td>\n",
       "      <td>mobile</td>\n",
       "      <td>Android (In-App)</td>\n",
       "      <td>Non-Primary</td>\n",
       "      <td>PWO</td>\n",
       "      <td>Test</td>\n",
       "      <td>0</td>\n",
       "    </tr>\n",
       "    <tr>\n",
       "      <th>5</th>\n",
       "      <td>F</td>\n",
       "      <td>33</td>\n",
       "      <td>Facebook</td>\n",
       "      <td>mobile</td>\n",
       "      <td>iOS (In-App)</td>\n",
       "      <td>Primary</td>\n",
       "      <td>LPK</td>\n",
       "      <td>Control</td>\n",
       "      <td>0</td>\n",
       "    </tr>\n",
       "    <tr>\n",
       "      <th>6</th>\n",
       "      <td>M</td>\n",
       "      <td>32</td>\n",
       "      <td>LinkedIn</td>\n",
       "      <td>mobile</td>\n",
       "      <td>iOS (In-App)</td>\n",
       "      <td>Primary</td>\n",
       "      <td>LPC</td>\n",
       "      <td>Test</td>\n",
       "      <td>0</td>\n",
       "    </tr>\n",
       "    <tr>\n",
       "      <th>7</th>\n",
       "      <td>M</td>\n",
       "      <td>42</td>\n",
       "      <td>LinkedIn</td>\n",
       "      <td>mobile</td>\n",
       "      <td>Android (In-App)</td>\n",
       "      <td>Non-Primary</td>\n",
       "      <td>GRT</td>\n",
       "      <td>Test</td>\n",
       "      <td>0</td>\n",
       "    </tr>\n",
       "    <tr>\n",
       "      <th>8</th>\n",
       "      <td>M</td>\n",
       "      <td>46</td>\n",
       "      <td>LinkedIn</td>\n",
       "      <td>desktop</td>\n",
       "      <td>Chrome</td>\n",
       "      <td>Non-Primary</td>\n",
       "      <td>LPK</td>\n",
       "      <td>Test</td>\n",
       "      <td>1</td>\n",
       "    </tr>\n",
       "    <tr>\n",
       "      <th>9</th>\n",
       "      <td>M</td>\n",
       "      <td>29</td>\n",
       "      <td>Facebook</td>\n",
       "      <td>mobile</td>\n",
       "      <td>Android (In-App)</td>\n",
       "      <td>Non-Primary</td>\n",
       "      <td>LPP</td>\n",
       "      <td>Test</td>\n",
       "      <td>0</td>\n",
       "    </tr>\n",
       "    <tr>\n",
       "      <th>10</th>\n",
       "      <td>M</td>\n",
       "      <td>48</td>\n",
       "      <td>LinkedIn</td>\n",
       "      <td>mobile</td>\n",
       "      <td>iOS (In-App)</td>\n",
       "      <td>Non-Primary</td>\n",
       "      <td>LPK</td>\n",
       "      <td>Control</td>\n",
       "      <td>0</td>\n",
       "    </tr>\n",
       "    <tr>\n",
       "      <th>11</th>\n",
       "      <td>F</td>\n",
       "      <td>39</td>\n",
       "      <td>Facebook</td>\n",
       "      <td>mobile</td>\n",
       "      <td>Android (In-App)</td>\n",
       "      <td>Non-Primary</td>\n",
       "      <td>PWO</td>\n",
       "      <td>Test</td>\n",
       "      <td>0</td>\n",
       "    </tr>\n",
       "    <tr>\n",
       "      <th>12</th>\n",
       "      <td>M</td>\n",
       "      <td>34</td>\n",
       "      <td>LinkedIn</td>\n",
       "      <td>desktop</td>\n",
       "      <td>IE</td>\n",
       "      <td>Non-Primary</td>\n",
       "      <td>MFG</td>\n",
       "      <td>Test</td>\n",
       "      <td>0</td>\n",
       "    </tr>\n",
       "    <tr>\n",
       "      <th>13</th>\n",
       "      <td>M</td>\n",
       "      <td>33</td>\n",
       "      <td>Facebook</td>\n",
       "      <td>mobile</td>\n",
       "      <td>Android (In-App)</td>\n",
       "      <td>Primary</td>\n",
       "      <td>MFG</td>\n",
       "      <td>Control</td>\n",
       "      <td>0</td>\n",
       "    </tr>\n",
       "    <tr>\n",
       "      <th>14</th>\n",
       "      <td>M</td>\n",
       "      <td>33</td>\n",
       "      <td>LinkedIn</td>\n",
       "      <td>desktop</td>\n",
       "      <td>Chrome</td>\n",
       "      <td>Non-Primary</td>\n",
       "      <td>MFG</td>\n",
       "      <td>Test</td>\n",
       "      <td>0</td>\n",
       "    </tr>\n",
       "    <tr>\n",
       "      <th>15</th>\n",
       "      <td>M</td>\n",
       "      <td>35</td>\n",
       "      <td>LinkedIn</td>\n",
       "      <td>mobile</td>\n",
       "      <td>Android (In-App)</td>\n",
       "      <td>Primary</td>\n",
       "      <td>MFG</td>\n",
       "      <td>Control</td>\n",
       "      <td>0</td>\n",
       "    </tr>\n",
       "    <tr>\n",
       "      <th>16</th>\n",
       "      <td>F</td>\n",
       "      <td>39</td>\n",
       "      <td>Facebook</td>\n",
       "      <td>desktop</td>\n",
       "      <td>IE</td>\n",
       "      <td>Non-Primary</td>\n",
       "      <td>GRT</td>\n",
       "      <td>Test</td>\n",
       "      <td>0</td>\n",
       "    </tr>\n",
       "    <tr>\n",
       "      <th>17</th>\n",
       "      <td>M</td>\n",
       "      <td>30</td>\n",
       "      <td>LinkedIn</td>\n",
       "      <td>desktop</td>\n",
       "      <td>Chrome</td>\n",
       "      <td>Non-Primary</td>\n",
       "      <td>CIL</td>\n",
       "      <td>Control</td>\n",
       "      <td>0</td>\n",
       "    </tr>\n",
       "    <tr>\n",
       "      <th>18</th>\n",
       "      <td>F</td>\n",
       "      <td>32</td>\n",
       "      <td>Facebook</td>\n",
       "      <td>desktop</td>\n",
       "      <td>Chrome</td>\n",
       "      <td>Non-Primary</td>\n",
       "      <td>GRT</td>\n",
       "      <td>Test</td>\n",
       "      <td>0</td>\n",
       "    </tr>\n",
       "    <tr>\n",
       "      <th>19</th>\n",
       "      <td>F</td>\n",
       "      <td>34</td>\n",
       "      <td>LinkedIn</td>\n",
       "      <td>mobile</td>\n",
       "      <td>Android (In-App)</td>\n",
       "      <td>Non-Primary</td>\n",
       "      <td>SPC</td>\n",
       "      <td>Control</td>\n",
       "      <td>0</td>\n",
       "    </tr>\n",
       "  </tbody>\n",
       "</table>\n",
       "</div>"
      ],
      "text/plain": [
       "   sex  age    source   device           browser        payee industry_code  \\\n",
       "0    M   37  LinkedIn  desktop                IE  Non-Primary           ICG   \n",
       "1    F   40  Facebook  desktop            Chrome  Non-Primary           BOR   \n",
       "2    F   29  Facebook  desktop            Safari  Non-Primary           MFG   \n",
       "3    F   29  LinkedIn  desktop            Chrome  Non-Primary           MFE   \n",
       "4    M   31  Facebook   mobile  Android (In-App)  Non-Primary           PWO   \n",
       "5    F   33  Facebook   mobile      iOS (In-App)      Primary           LPK   \n",
       "6    M   32  LinkedIn   mobile      iOS (In-App)      Primary           LPC   \n",
       "7    M   42  LinkedIn   mobile  Android (In-App)  Non-Primary           GRT   \n",
       "8    M   46  LinkedIn  desktop            Chrome  Non-Primary           LPK   \n",
       "9    M   29  Facebook   mobile  Android (In-App)  Non-Primary           LPP   \n",
       "10   M   48  LinkedIn   mobile      iOS (In-App)  Non-Primary           LPK   \n",
       "11   F   39  Facebook   mobile  Android (In-App)  Non-Primary           PWO   \n",
       "12   M   34  LinkedIn  desktop                IE  Non-Primary           MFG   \n",
       "13   M   33  Facebook   mobile  Android (In-App)      Primary           MFG   \n",
       "14   M   33  LinkedIn  desktop            Chrome  Non-Primary           MFG   \n",
       "15   M   35  LinkedIn   mobile  Android (In-App)      Primary           MFG   \n",
       "16   F   39  Facebook  desktop                IE  Non-Primary           GRT   \n",
       "17   M   30  LinkedIn  desktop            Chrome  Non-Primary           CIL   \n",
       "18   F   32  Facebook  desktop            Chrome  Non-Primary           GRT   \n",
       "19   F   34  LinkedIn   mobile  Android (In-App)  Non-Primary           SPC   \n",
       "\n",
       "      group  trial  \n",
       "0      Test      0  \n",
       "1      Test      0  \n",
       "2   Control      0  \n",
       "3      Test      0  \n",
       "4      Test      0  \n",
       "5   Control      0  \n",
       "6      Test      0  \n",
       "7      Test      0  \n",
       "8      Test      1  \n",
       "9      Test      0  \n",
       "10  Control      0  \n",
       "11     Test      0  \n",
       "12     Test      0  \n",
       "13  Control      0  \n",
       "14     Test      0  \n",
       "15  Control      0  \n",
       "16     Test      0  \n",
       "17  Control      0  \n",
       "18     Test      0  \n",
       "19  Control      0  "
      ]
     },
     "execution_count": 34,
     "metadata": {},
     "output_type": "execute_result"
    }
   ],
   "source": [
    "df_conv.head(20)"
   ]
  },
  {
   "cell_type": "code",
   "execution_count": 18,
   "metadata": {},
   "outputs": [
    {
     "data": {
      "text/plain": [
       "array([[<matplotlib.axes._subplots.AxesSubplot object at 0x000002AE1CB652B0>]],\n",
       "      dtype=object)"
      ]
     },
     "execution_count": 18,
     "metadata": {},
     "output_type": "execute_result"
    },
    {
     "data": {
      "image/png": "[encoded data removed]",
      "text/plain": [
       "<Figure size 432x288 with 1 Axes>"
      ]
     },
     "metadata": {
      "needs_background": "light"
     },
     "output_type": "display_data"
    }
   ],
   "source": [
    "df_conv.hist(column='age')\n",
    "plt.show()"
   ]
  },
  {
   "cell_type": "code",
   "execution_count": 95,
   "metadata": {},
   "outputs": [
    {
     "data": {
      "text/plain": [
       "age         AxesSubplot(0.125,0.657941;0.227941x0.222059)\n",
       "trial    AxesSubplot(0.398529,0.657941;0.227941x0.222059)\n",
       "dtype: object"
      ]
     },
     "execution_count": 95,
     "metadata": {},
     "output_type": "execute_result"
    },
    {
     "data": {
      "image/png": "[encoded data removed]",
      "text/plain": [
       "<Figure size 432x288 with 9 Axes>"
      ]
     },
     "metadata": {
      "needs_background": "light"
     },
     "output_type": "display_data"
    }
   ],
   "source": [
    "df_conv.plot(kind='box', subplots=True, layout=(3,3), sharex=False, sharey=False)\n",
    "plt.show()"
   ]
  },
  {
   "cell_type": "code",
   "execution_count": 158,
   "metadata": {},
   "outputs": [
    {
     "data": {
      "text/plain": [
       "<matplotlib.axes._subplots.AxesSubplot at 0x207f27413c8>"
      ]
     },
     "execution_count": 158,
     "metadata": {},
     "output_type": "execute_result"
    },
    {
     "data": {
      "image/png": "[encoded data removed]",
      "text/plain": [
       "<Figure size 432x288 with 1 Axes>"
      ]
     },
     "metadata": {
      "needs_background": "light"
     },
     "output_type": "display_data"
    }
   ],
   "source": [
    "df_conv.boxplot('age')"
   ]
  },
  {
   "cell_type": "markdown",
   "metadata": {},
   "source": [
    "Boxplot shows some age observations as outliers, to get a better understanding a count plot and density plot are used"
   ]
  },
  {
   "cell_type": "code",
   "execution_count": 35,
   "metadata": {},
   "outputs": [],
   "source": [
    "import seaborn as sns"
   ]
  },
  {
   "cell_type": "code",
   "execution_count": 36,
   "metadata": {},
   "outputs": [
    {
     "data": {
      "text/plain": [
       "<Figure size 792x504 with 0 Axes>"
      ]
     },
     "execution_count": 36,
     "metadata": {},
     "output_type": "execute_result"
    },
    {
     "data": {
      "text/plain": [
       "<matplotlib.axes._subplots.AxesSubplot at 0xa6471d0>"
      ]
     },
     "execution_count": 36,
     "metadata": {},
     "output_type": "execute_result"
    },
    {
     "data": {
      "image/png": "[encoded data removed]",
      "text/plain": [
       "<Figure size 792x504 with 1 Axes>"
      ]
     },
     "metadata": {
      "needs_background": "light"
     },
     "output_type": "display_data"
    }
   ],
   "source": [
    "plt.figure(figsize=(11,7))\n",
    "sns.countplot(x='age',hue='trial',data=df_conv,palette='Set1')"
   ]
  },
  {
   "cell_type": "code",
   "execution_count": 19,
   "metadata": {},
   "outputs": [
    {
     "name": "stdout",
     "output_type": "stream",
     "text": [
      "0.7431957394924333\n"
     ]
    }
   ],
   "source": [
    "from scipy.stats import skew\n",
    "skness = skew(df_conv['age'])\n",
    "print(skness)"
   ]
  },
  {
   "cell_type": "code",
   "execution_count": 57,
   "metadata": {},
   "outputs": [],
   "source": [
    "from sklearn import preprocessing\n",
    "df_conv['age_prep'] = preprocessing.scale(df_conv['age'])"
   ]
  },
  {
   "cell_type": "code",
   "execution_count": 58,
   "metadata": {},
   "outputs": [
    {
     "data": {
      "text/plain": [
       "<Figure size 792x504 with 0 Axes>"
      ]
     },
     "execution_count": 58,
     "metadata": {},
     "output_type": "execute_result"
    },
    {
     "data": {
      "text/plain": [
       "<matplotlib.axes._subplots.AxesSubplot at 0xc13daf0>"
      ]
     },
     "execution_count": 58,
     "metadata": {},
     "output_type": "execute_result"
    },
    {
     "data": {
      "image/png": "[encoded data removed]",
      "text/plain": [
       "<Figure size 792x504 with 1 Axes>"
      ]
     },
     "metadata": {
      "needs_background": "light"
     },
     "output_type": "display_data"
    }
   ],
   "source": [
    "plt.figure(figsize=(11,7))\n",
    "sns.countplot(x='age_prep',hue='trial',data=df_conv,palette='Set1')"
   ]
  },
  {
   "cell_type": "code",
   "execution_count": 60,
   "metadata": {},
   "outputs": [],
   "source": [
    "from scipy.stats import boxcox\n",
    "boxcox = boxcox(df_conv['age'])"
   ]
  },
  {
   "cell_type": "code",
   "execution_count": 62,
   "metadata": {},
   "outputs": [
    {
     "name": "stdout",
     "output_type": "stream",
     "text": [
      "(array([1.06351034, 1.06638371, 1.05310703, ..., 1.07035808, 1.05890925,\n",
      "       1.07357175]), -0.9043909113004985)\n"
     ]
    }
   ],
   "source": [
    "print(boxcox)"
   ]
  },
  {
   "cell_type": "markdown",
   "metadata": {},
   "source": [
    "As the age distribution is positive skewed, this can be normalized by Power transformation, Logarithmic transformation etc."
   ]
  },
  {
   "cell_type": "code",
   "execution_count": 98,
   "metadata": {},
   "outputs": [
    {
     "data": {
      "text/plain": [
       "array([[<matplotlib.axes._subplots.AxesSubplot object at 0x000002034738C978>,\n",
       "        <matplotlib.axes._subplots.AxesSubplot object at 0x00000203473BB668>,\n",
       "        <matplotlib.axes._subplots.AxesSubplot object at 0x00000203473ECC18>],\n",
       "       [<matplotlib.axes._subplots.AxesSubplot object at 0x000002034742A208>,\n",
       "        <matplotlib.axes._subplots.AxesSubplot object at 0x000002034745B7B8>,\n",
       "        <matplotlib.axes._subplots.AxesSubplot object at 0x000002034748DD68>],\n",
       "       [<matplotlib.axes._subplots.AxesSubplot object at 0x00000203474CB358>,\n",
       "        <matplotlib.axes._subplots.AxesSubplot object at 0x00000203474FC940>,\n",
       "        <matplotlib.axes._subplots.AxesSubplot object at 0x00000203474FC978>]],\n",
       "      dtype=object)"
      ]
     },
     "execution_count": 98,
     "metadata": {},
     "output_type": "execute_result"
    },
    {
     "data": {
      "image/png": "[encoded data removed]",
      "text/plain": [
       "<Figure size 432x288 with 9 Axes>"
      ]
     },
     "metadata": {
      "needs_background": "light"
     },
     "output_type": "display_data"
    }
   ],
   "source": [
    "df_conv.plot(kind='density', subplots=True, layout=(3,3), sharex=False)\n",
    "plt.show()"
   ]
  },
  {
   "cell_type": "code",
   "execution_count": 88,
   "metadata": {},
   "outputs": [
    {
     "data": {
      "text/plain": [
       "array([[<matplotlib.axes._subplots.AxesSubplot object at 0x066E5310>,\n",
       "        <matplotlib.axes._subplots.AxesSubplot object at 0x06706F70>,\n",
       "        <matplotlib.axes._subplots.AxesSubplot object at 0x06725F10>,\n",
       "        <matplotlib.axes._subplots.AxesSubplot object at 0x06745FF0>,\n",
       "        <matplotlib.axes._subplots.AxesSubplot object at 0x0676D670>,\n",
       "        <matplotlib.axes._subplots.AxesSubplot object at 0x0678C750>,\n",
       "        <matplotlib.axes._subplots.AxesSubplot object at 0x067AC8B0>,\n",
       "        <matplotlib.axes._subplots.AxesSubplot object at 0x00A0E4F0>,\n",
       "        <matplotlib.axes._subplots.AxesSubplot object at 0x0C08FF70>,\n",
       "        <matplotlib.axes._subplots.AxesSubplot object at 0x009CB9D0>],\n",
       "       [<matplotlib.axes._subplots.AxesSubplot object at 0x067E2E70>,\n",
       "        <matplotlib.axes._subplots.AxesSubplot object at 0x067FFF50>,\n",
       "        <matplotlib.axes._subplots.AxesSubplot object at 0x0686B5F0>,\n",
       "        <matplotlib.axes._subplots.AxesSubplot object at 0x0688B6D0>,\n",
       "        <matplotlib.axes._subplots.AxesSubplot object at 0x068AC7B0>,\n",
       "        <matplotlib.axes._subplots.AxesSubplot object at 0x068CD890>,\n",
       "        <matplotlib.axes._subplots.AxesSubplot object at 0x068EE970>,\n",
       "        <matplotlib.axes._subplots.AxesSubplot object at 0x0690EA50>,\n",
       "        <matplotlib.axes._subplots.AxesSubplot object at 0x0692EB30>,\n",
       "        <matplotlib.axes._subplots.AxesSubplot object at 0x0694EC10>],\n",
       "       [<matplotlib.axes._subplots.AxesSubplot object at 0x06970CF0>,\n",
       "        <matplotlib.axes._subplots.AxesSubplot object at 0x06990DD0>,\n",
       "        <matplotlib.axes._subplots.AxesSubplot object at 0x069B1EB0>,\n",
       "        <matplotlib.axes._subplots.AxesSubplot object at 0x069D2F90>,\n",
       "        <matplotlib.axes._subplots.AxesSubplot object at 0x069F2AD0>,\n",
       "        <matplotlib.axes._subplots.AxesSubplot object at 0x06A15BB0>,\n",
       "        <matplotlib.axes._subplots.AxesSubplot object at 0x06A34C90>,\n",
       "        <matplotlib.axes._subplots.AxesSubplot object at 0x0C427D70>,\n",
       "        <matplotlib.axes._subplots.AxesSubplot object at 0x0C445E50>,\n",
       "        <matplotlib.axes._subplots.AxesSubplot object at 0x0C467F30>],\n",
       "       [<matplotlib.axes._subplots.AxesSubplot object at 0x0C485FD0>,\n",
       "        <matplotlib.axes._subplots.AxesSubplot object at 0x0C4B36B0>,\n",
       "        <matplotlib.axes._subplots.AxesSubplot object at 0x0C4D4790>,\n",
       "        <matplotlib.axes._subplots.AxesSubplot object at 0x0C4F3870>,\n",
       "        <matplotlib.axes._subplots.AxesSubplot object at 0x0C514950>,\n",
       "        <matplotlib.axes._subplots.AxesSubplot object at 0x0C537A30>,\n",
       "        <matplotlib.axes._subplots.AxesSubplot object at 0x0C555B10>,\n",
       "        <matplotlib.axes._subplots.AxesSubplot object at 0x10196BF0>,\n",
       "        <matplotlib.axes._subplots.AxesSubplot object at 0x101B6CD0>,\n",
       "        <matplotlib.axes._subplots.AxesSubplot object at 0x101D6DB0>],\n",
       "       [<matplotlib.axes._subplots.AxesSubplot object at 0x101F9E90>,\n",
       "        <matplotlib.axes._subplots.AxesSubplot object at 0x10219F70>,\n",
       "        <matplotlib.axes._subplots.AxesSubplot object at 0x1023BAB0>,\n",
       "        <matplotlib.axes._subplots.AxesSubplot object at 0x1025CB90>,\n",
       "        <matplotlib.axes._subplots.AxesSubplot object at 0x1027AC70>,\n",
       "        <matplotlib.axes._subplots.AxesSubplot object at 0x1029ED50>,\n",
       "        <matplotlib.axes._subplots.AxesSubplot object at 0x102BEE30>,\n",
       "        <matplotlib.axes._subplots.AxesSubplot object at 0x102E0F10>,\n",
       "        <matplotlib.axes._subplots.AxesSubplot object at 0x102FEFF0>,\n",
       "        <matplotlib.axes._subplots.AxesSubplot object at 0x1032D690>],\n",
       "       [<matplotlib.axes._subplots.AxesSubplot object at 0x1034D770>,\n",
       "        <matplotlib.axes._subplots.AxesSubplot object at 0x1036C850>,\n",
       "        <matplotlib.axes._subplots.AxesSubplot object at 0x1038E930>,\n",
       "        <matplotlib.axes._subplots.AxesSubplot object at 0x103ADA10>,\n",
       "        <matplotlib.axes._subplots.AxesSubplot object at 0x103CEAF0>,\n",
       "        <matplotlib.axes._subplots.AxesSubplot object at 0x103EEBD0>,\n",
       "        <matplotlib.axes._subplots.AxesSubplot object at 0x1040FCB0>,\n",
       "        <matplotlib.axes._subplots.AxesSubplot object at 0x10431D90>,\n",
       "        <matplotlib.axes._subplots.AxesSubplot object at 0x10451E70>,\n",
       "        <matplotlib.axes._subplots.AxesSubplot object at 0x10470F50>],\n",
       "       [<matplotlib.axes._subplots.AxesSubplot object at 0x10495A90>,\n",
       "        <matplotlib.axes._subplots.AxesSubplot object at 0x104B1B70>,\n",
       "        <matplotlib.axes._subplots.AxesSubplot object at 0x104D4C50>,\n",
       "        <matplotlib.axes._subplots.AxesSubplot object at 0x104F5D30>,\n",
       "        <matplotlib.axes._subplots.AxesSubplot object at 0x10515DF0>,\n",
       "        <matplotlib.axes._subplots.AxesSubplot object at 0x10535EF0>,\n",
       "        <matplotlib.axes._subplots.AxesSubplot object at 0x10559FD0>,\n",
       "        <matplotlib.axes._subplots.AxesSubplot object at 0x10584670>,\n",
       "        <matplotlib.axes._subplots.AxesSubplot object at 0x105A2750>,\n",
       "        <matplotlib.axes._subplots.AxesSubplot object at 0x105C1830>],\n",
       "       [<matplotlib.axes._subplots.AxesSubplot object at 0x105E4910>,\n",
       "        <matplotlib.axes._subplots.AxesSubplot object at 0x106069F0>,\n",
       "        <matplotlib.axes._subplots.AxesSubplot object at 0x10626AD0>,\n",
       "        <matplotlib.axes._subplots.AxesSubplot object at 0x10645BB0>,\n",
       "        <matplotlib.axes._subplots.AxesSubplot object at 0x10668C90>,\n",
       "        <matplotlib.axes._subplots.AxesSubplot object at 0x1068BD70>,\n",
       "        <matplotlib.axes._subplots.AxesSubplot object at 0x106A8E50>,\n",
       "        <matplotlib.axes._subplots.AxesSubplot object at 0x106CAF30>,\n",
       "        <matplotlib.axes._subplots.AxesSubplot object at 0x106EAA70>,\n",
       "        <matplotlib.axes._subplots.AxesSubplot object at 0x1070AB50>],\n",
       "       [<matplotlib.axes._subplots.AxesSubplot object at 0x1072BC30>,\n",
       "        <matplotlib.axes._subplots.AxesSubplot object at 0x1074ED10>,\n",
       "        <matplotlib.axes._subplots.AxesSubplot object at 0x1076DDF0>,\n",
       "        <matplotlib.axes._subplots.AxesSubplot object at 0x1078FED0>,\n",
       "        <matplotlib.axes._subplots.AxesSubplot object at 0x107AEFB0>,\n",
       "        <matplotlib.axes._subplots.AxesSubplot object at 0x107DC650>,\n",
       "        <matplotlib.axes._subplots.AxesSubplot object at 0x107FA730>,\n",
       "        <matplotlib.axes._subplots.AxesSubplot object at 0x1081C810>,\n",
       "        <matplotlib.axes._subplots.AxesSubplot object at 0x1083C8F0>,\n",
       "        <matplotlib.axes._subplots.AxesSubplot object at 0x1085D9D0>],\n",
       "       [<matplotlib.axes._subplots.AxesSubplot object at 0x1087DAB0>,\n",
       "        <matplotlib.axes._subplots.AxesSubplot object at 0x1089FB90>,\n",
       "        <matplotlib.axes._subplots.AxesSubplot object at 0x108BFC70>,\n",
       "        <matplotlib.axes._subplots.AxesSubplot object at 0x108E0D50>,\n",
       "        <matplotlib.axes._subplots.AxesSubplot object at 0x10900E30>,\n",
       "        <matplotlib.axes._subplots.AxesSubplot object at 0x10922F10>,\n",
       "        <matplotlib.axes._subplots.AxesSubplot object at 0x10942FF0>,\n",
       "        <matplotlib.axes._subplots.AxesSubplot object at 0x10964B30>,\n",
       "        <matplotlib.axes._subplots.AxesSubplot object at 0x10982C10>,\n",
       "        <matplotlib.axes._subplots.AxesSubplot object at 0x109A4CF0>]],\n",
       "      dtype=object)"
      ]
     },
     "execution_count": 88,
     "metadata": {},
     "output_type": "execute_result"
    },
    {
     "data": {
      "image/png": "[encoded data removed]",
      "text/plain": [
       "<Figure size 1152x1152 with 100 Axes>"
      ]
     },
     "metadata": {
      "needs_background": "light"
     },
     "output_type": "display_data"
    }
   ],
   "source": [
    "from pandas.plotting import scatter_matrix\n",
    "scatter_matrix(df_conv, alpha=0.3, figsize=(16,16), diagonal='kde', marker='o')\n",
    "plt.show()"
   ]
  },
  {
   "cell_type": "code",
   "execution_count": 16,
   "metadata": {},
   "outputs": [
    {
     "data": {
      "image/png": "[encoded data removed]",
      "text/plain": [
       "<Figure size 432x288 with 1 Axes>"
      ]
     },
     "metadata": {
      "needs_background": "light"
     },
     "output_type": "display_data"
    }
   ],
   "source": [
    "# Scatter Plot of Two Variables\n",
    "plt.scatter(df_conv['age'], df_conv['industry_code']);"
   ]
  },
  {
   "cell_type": "code",
   "execution_count": 121,
   "metadata": {},
   "outputs": [
    {
     "data": {
      "text/plain": [
       "<Figure size 792x504 with 0 Axes>"
      ]
     },
     "execution_count": 121,
     "metadata": {},
     "output_type": "execute_result"
    },
    {
     "data": {
      "text/plain": [
       "<matplotlib.axes._subplots.AxesSubplot at 0x2034dcbe978>"
      ]
     },
     "execution_count": 121,
     "metadata": {},
     "output_type": "execute_result"
    },
    {
     "data": {
      "image/png": "[encoded data removed]",
      "text/plain": [
       "<Figure size 792x504 with 1 Axes>"
      ]
     },
     "metadata": {},
     "output_type": "display_data"
    }
   ],
   "source": [
    "plt.figure(figsize=(11,7))\n",
    "sns.countplot(x='browser',hue='source',data=df_conv,palette='Set1')"
   ]
  },
  {
   "cell_type": "code",
   "execution_count": 130,
   "metadata": {
    "scrolled": true
   },
   "outputs": [
    {
     "data": {
      "text/plain": [
       "<matplotlib.axes._subplots.AxesSubplot at 0x207f21fef28>"
      ]
     },
     "execution_count": 130,
     "metadata": {},
     "output_type": "execute_result"
    },
    {
     "data": {
      "image/png": "[encoded data removed]",
      "text/plain": [
       "<Figure size 432x288 with 1 Axes>"
      ]
     },
     "metadata": {
      "needs_background": "light"
     },
     "output_type": "display_data"
    }
   ],
   "source": [
    "sns.countplot(x='trial',hue='device',data=df_conv,palette='Set1')"
   ]
  },
  {
   "cell_type": "code",
   "execution_count": 37,
   "metadata": {},
   "outputs": [],
   "source": [
    "###  Data Visualization with Seaborn\n",
    "import matplotlib.pyplot as plt\n",
    "import seaborn as sns  # Uses matplot lib - advanced functionalities ... it builds on the top of Matplotlib\n",
    "%matplotlib inline\n"
   ]
  },
  {
   "cell_type": "code",
   "execution_count": 78,
   "metadata": {},
   "outputs": [
    {
     "data": {
      "image/png": "[encoded data removed]",
      "text/plain": [
       "<Figure size 720x432 with 1 Axes>"
      ]
     },
     "metadata": {
      "needs_background": "light"
     },
     "output_type": "display_data"
    }
   ],
   "source": [
    "# increasing the width of the Chart\n",
    "plt.rcParams['figure.figsize'] = 10,6 # similar to par(mfrow = c(2,1), mar = c(4,4,2,1)) # 2 columns and 1 row\n",
    "vis1 = sns.distplot(df_conv[\"trial\"]) # pass it one variable\n"
   ]
  },
  {
   "cell_type": "code",
   "execution_count": 38,
   "metadata": {},
   "outputs": [],
   "source": [
    "# if you are getting warnings related to the package you should use ignore function\n",
    "import warnings\n",
    "warnings.filterwarnings ('ignore')"
   ]
  },
  {
   "cell_type": "markdown",
   "metadata": {},
   "source": [
    "### Data Exploration Report (Descriptive Statistics/Data Profile)   "
   ]
  },
  {
   "cell_type": "markdown",
   "metadata": {},
   "source": [
    "insert data report if any."
   ]
  },
  {
   "cell_type": "markdown",
   "metadata": {},
   "source": [
    "### Data Correlation"
   ]
  },
  {
   "cell_type": "code",
   "execution_count": 81,
   "metadata": {},
   "outputs": [],
   "source": [
    "# Using the pandas  options, I set the fload format to decimal to 3. \n",
    "pd.options.display.float_format = '{:,.3f}'.format"
   ]
  },
  {
   "cell_type": "code",
   "execution_count": 82,
   "metadata": {},
   "outputs": [
    {
     "data": {
      "text/html": [
       "<div>\n",
       "<style scoped>\n",
       "    .dataframe tbody tr th:only-of-type {\n",
       "        vertical-align: middle;\n",
       "    }\n",
       "\n",
       "    .dataframe tbody tr th {\n",
       "        vertical-align: top;\n",
       "    }\n",
       "\n",
       "    .dataframe thead th {\n",
       "        text-align: right;\n",
       "    }\n",
       "</style>\n",
       "<table border=\"1\" class=\"dataframe\">\n",
       "  <thead>\n",
       "    <tr style=\"text-align: right;\">\n",
       "      <th></th>\n",
       "      <th>age</th>\n",
       "      <th>trial</th>\n",
       "    </tr>\n",
       "  </thead>\n",
       "  <tbody>\n",
       "    <tr>\n",
       "      <th>age</th>\n",
       "      <td>1.000</td>\n",
       "      <td>-0.001</td>\n",
       "    </tr>\n",
       "    <tr>\n",
       "      <th>trial</th>\n",
       "      <td>-0.001</td>\n",
       "      <td>1.000</td>\n",
       "    </tr>\n",
       "  </tbody>\n",
       "</table>\n",
       "</div>"
      ],
      "text/plain": [
       "         age  trial\n",
       "age    1.000 -0.001\n",
       "trial -0.001  1.000"
      ]
     },
     "execution_count": 82,
     "metadata": {},
     "output_type": "execute_result"
    }
   ],
   "source": [
    "df_conv.corr()"
   ]
  },
  {
   "cell_type": "code",
   "execution_count": 83,
   "metadata": {},
   "outputs": [
    {
     "data": {
      "text/plain": [
       "<Figure size 1152x720 with 0 Axes>"
      ]
     },
     "execution_count": 83,
     "metadata": {},
     "output_type": "execute_result"
    },
    {
     "data": {
      "text/plain": [
       "<matplotlib.axes._subplots.AxesSubplot at 0x2ae27a72f60>"
      ]
     },
     "execution_count": 83,
     "metadata": {},
     "output_type": "execute_result"
    },
    {
     "data": {
      "image/png": "[encoded data removed]",
      "text/plain": [
       "<Figure size 1152x720 with 2 Axes>"
      ]
     },
     "metadata": {
      "needs_background": "light"
     },
     "output_type": "display_data"
    }
   ],
   "source": [
    "#Visualize the Correlation using the Seaborn Heatmap function\n",
    "plt.figure(figsize =(16,10))\n",
    "sns.heatmap(df_conv.corr(), annot=True)\n",
    "plt.show()"
   ]
  },
  {
   "cell_type": "code",
   "execution_count": null,
   "metadata": {},
   "outputs": [],
   "source": []
  },
  {
   "cell_type": "markdown",
   "metadata": {},
   "source": [
    "Converting all the categorical values to numerical values for correlation"
   ]
  },
  {
   "cell_type": "code",
   "execution_count": 104,
   "metadata": {},
   "outputs": [
    {
     "data": {
      "text/html": [
       "<div>\n",
       "<style scoped>\n",
       "    .dataframe tbody tr th:only-of-type {\n",
       "        vertical-align: middle;\n",
       "    }\n",
       "\n",
       "    .dataframe tbody tr th {\n",
       "        vertical-align: top;\n",
       "    }\n",
       "\n",
       "    .dataframe thead th {\n",
       "        text-align: right;\n",
       "    }\n",
       "</style>\n",
       "<table border=\"1\" class=\"dataframe\">\n",
       "  <thead>\n",
       "    <tr style=\"text-align: right;\">\n",
       "      <th></th>\n",
       "      <th>sex</th>\n",
       "      <th>age</th>\n",
       "      <th>date</th>\n",
       "      <th>source</th>\n",
       "      <th>device</th>\n",
       "      <th>browser</th>\n",
       "      <th>payee</th>\n",
       "      <th>industry_code</th>\n",
       "      <th>group</th>\n",
       "      <th>trial</th>\n",
       "    </tr>\n",
       "  </thead>\n",
       "  <tbody>\n",
       "    <tr>\n",
       "      <th>0</th>\n",
       "      <td>M</td>\n",
       "      <td>37</td>\n",
       "      <td>2017-01-04</td>\n",
       "      <td>LinkedIn</td>\n",
       "      <td>desktop</td>\n",
       "      <td>IE</td>\n",
       "      <td>Non-Primary</td>\n",
       "      <td>ICG</td>\n",
       "      <td>Test</td>\n",
       "      <td>0</td>\n",
       "    </tr>\n",
       "    <tr>\n",
       "      <th>1</th>\n",
       "      <td>F</td>\n",
       "      <td>40</td>\n",
       "      <td>2017-01-05</td>\n",
       "      <td>Facebook</td>\n",
       "      <td>desktop</td>\n",
       "      <td>Chrome</td>\n",
       "      <td>Non-Primary</td>\n",
       "      <td>BOR</td>\n",
       "      <td>Test</td>\n",
       "      <td>0</td>\n",
       "    </tr>\n",
       "    <tr>\n",
       "      <th>2</th>\n",
       "      <td>F</td>\n",
       "      <td>29</td>\n",
       "      <td>2017-01-05</td>\n",
       "      <td>Facebook</td>\n",
       "      <td>desktop</td>\n",
       "      <td>Safari</td>\n",
       "      <td>Non-Primary</td>\n",
       "      <td>MFG</td>\n",
       "      <td>Control</td>\n",
       "      <td>0</td>\n",
       "    </tr>\n",
       "    <tr>\n",
       "      <th>3</th>\n",
       "      <td>F</td>\n",
       "      <td>29</td>\n",
       "      <td>2017-01-07</td>\n",
       "      <td>LinkedIn</td>\n",
       "      <td>desktop</td>\n",
       "      <td>Chrome</td>\n",
       "      <td>Non-Primary</td>\n",
       "      <td>MFE</td>\n",
       "      <td>Test</td>\n",
       "      <td>0</td>\n",
       "    </tr>\n",
       "    <tr>\n",
       "      <th>4</th>\n",
       "      <td>M</td>\n",
       "      <td>31</td>\n",
       "      <td>2017-01-06</td>\n",
       "      <td>Facebook</td>\n",
       "      <td>mobile</td>\n",
       "      <td>Android (In-App)</td>\n",
       "      <td>Non-Primary</td>\n",
       "      <td>PWO</td>\n",
       "      <td>Test</td>\n",
       "      <td>0</td>\n",
       "    </tr>\n",
       "  </tbody>\n",
       "</table>\n",
       "</div>"
      ],
      "text/plain": [
       "  sex  age        date    source   device           browser        payee  \\\n",
       "0   M   37  2017-01-04  LinkedIn  desktop                IE  Non-Primary   \n",
       "1   F   40  2017-01-05  Facebook  desktop            Chrome  Non-Primary   \n",
       "2   F   29  2017-01-05  Facebook  desktop            Safari  Non-Primary   \n",
       "3   F   29  2017-01-07  LinkedIn  desktop            Chrome  Non-Primary   \n",
       "4   M   31  2017-01-06  Facebook   mobile  Android (In-App)  Non-Primary   \n",
       "\n",
       "  industry_code    group  trial  \n",
       "0           ICG     Test      0  \n",
       "1           BOR     Test      0  \n",
       "2           MFG  Control      0  \n",
       "3           MFE     Test      0  \n",
       "4           PWO     Test      0  "
      ]
     },
     "execution_count": 104,
     "metadata": {},
     "output_type": "execute_result"
    },
    {
     "name": "stdout",
     "output_type": "stream",
     "text": [
      "<class 'pandas.core.frame.DataFrame'>\n",
      "Int64Index: 346573 entries, 0 to 346928\n",
      "Data columns (total 10 columns):\n",
      "sex              346573 non-null object\n",
      "age              346573 non-null int64\n",
      "date             346573 non-null object\n",
      "source           346573 non-null object\n",
      "device           346573 non-null object\n",
      "browser          346573 non-null object\n",
      "payee            346573 non-null object\n",
      "industry_code    346573 non-null object\n",
      "group            346573 non-null object\n",
      "trial            346573 non-null int64\n",
      "dtypes: int64(2), object(8)\n",
      "memory usage: 39.1+ MB\n"
     ]
    }
   ],
   "source": [
    "df_conv.head()\n",
    "df_conv.info()"
   ]
  },
  {
   "cell_type": "markdown",
   "metadata": {},
   "source": [
    "Finding all unique values in the columns:"
   ]
  },
  {
   "cell_type": "code",
   "execution_count": 105,
   "metadata": {},
   "outputs": [
    {
     "data": {
      "text/plain": [
       "array(['M', 'F'], dtype=object)"
      ]
     },
     "execution_count": 105,
     "metadata": {},
     "output_type": "execute_result"
    },
    {
     "data": {
      "text/plain": [
       "array(['LinkedIn', 'Facebook', 'Email'], dtype=object)"
      ]
     },
     "execution_count": 105,
     "metadata": {},
     "output_type": "execute_result"
    },
    {
     "data": {
      "text/plain": [
       "array(['desktop', 'mobile'], dtype=object)"
      ]
     },
     "execution_count": 105,
     "metadata": {},
     "output_type": "execute_result"
    },
    {
     "data": {
      "text/plain": [
       "array(['IE', 'Chrome', 'Safari', 'Android (In-App)', 'iOS (In-App)',\n",
       "       'FireFox', 'Opera'], dtype=object)"
      ]
     },
     "execution_count": 105,
     "metadata": {},
     "output_type": "execute_result"
    },
    {
     "data": {
      "text/plain": [
       "array(['Non-Primary', 'Primary', 'Unknown'], dtype=object)"
      ]
     },
     "execution_count": 105,
     "metadata": {},
     "output_type": "execute_result"
    },
    {
     "data": {
      "text/plain": [
       "array(['ICG', 'BOR', 'MFG', 'MFE', 'PWO', 'LPK', 'LPC', 'GRT', 'LPP',\n",
       "       'CIL', 'SPC', 'AOR', 'TRV', 'DUR', 'PGG', 'RGA', 'RCA'],\n",
       "      dtype=object)"
      ]
     },
     "execution_count": 105,
     "metadata": {},
     "output_type": "execute_result"
    },
    {
     "data": {
      "text/plain": [
       "array(['Test', 'Control'], dtype=object)"
      ]
     },
     "execution_count": 105,
     "metadata": {},
     "output_type": "execute_result"
    }
   ],
   "source": [
    "df_conv.sex.unique()\n",
    "df_conv.source.unique()\n",
    "df_conv.device.unique()\n",
    "df_conv.browser.unique()\n",
    "df_conv.payee.unique()\n",
    "df_conv.industry_code.unique()\n",
    "df_conv.group.unique()"
   ]
  },
  {
   "cell_type": "markdown",
   "metadata": {},
   "source": [
    "Converting and Factorizing all the values"
   ]
  },
  {
   "cell_type": "code",
   "execution_count": 107,
   "metadata": {},
   "outputs": [
    {
     "data": {
      "text/plain": [
       "Index(['sex', 'age', 'date', 'source', 'device', 'browser', 'payee',\n",
       "       'industry_code', 'group', 'trial'],\n",
       "      dtype='object')"
      ]
     },
     "execution_count": 107,
     "metadata": {},
     "output_type": "execute_result"
    }
   ],
   "source": [
    "# Converting industry_code into Label Encoding\n",
    "df_conv.columns"
   ]
  },
  {
   "cell_type": "code",
   "execution_count": 40,
   "metadata": {},
   "outputs": [],
   "source": [
    "df_conv.sex.replace('F', 0,inplace=True)\n",
    "df_conv.sex.replace('M', 1,inplace=True)"
   ]
  },
  {
   "cell_type": "code",
   "execution_count": 41,
   "metadata": {},
   "outputs": [],
   "source": [
    "df_conv.source.replace('LinkedIn', 0,inplace=True)\n",
    "df_conv.source.replace('Facebook', 1,inplace=True)\n",
    "df_conv.source.replace('Email', 2,inplace=True)"
   ]
  },
  {
   "cell_type": "code",
   "execution_count": 42,
   "metadata": {},
   "outputs": [],
   "source": [
    "df_conv.device.replace('desktop', 0,inplace=True)\n",
    "df_conv.device.replace('mobile', 1,inplace=True)"
   ]
  },
  {
   "cell_type": "code",
   "execution_count": 43,
   "metadata": {},
   "outputs": [],
   "source": [
    "df_conv.browser.replace('IE', 0,inplace=True)\n",
    "df_conv.browser.replace('Chrome', 1,inplace=True)\n",
    "df_conv.browser.replace('Safari', 2,inplace=True)\n",
    "df_conv.browser.replace('Android (In-App)', 3,inplace=True)\n",
    "df_conv.browser.replace('iOS (In-App)', 4,inplace=True)\n",
    "df_conv.browser.replace('FireFox', 5,inplace=True)\n",
    "df_conv.browser.replace('Opera', 6,inplace=True)"
   ]
  },
  {
   "cell_type": "code",
   "execution_count": 44,
   "metadata": {},
   "outputs": [],
   "source": [
    "df_conv.payee.replace('Non-Primary', 0,inplace=True)\n",
    "df_conv.payee.replace('Primary', 1,inplace=True)\n",
    "df_conv.payee.replace('Unknown', 1,inplace=True)"
   ]
  },
  {
   "cell_type": "code",
   "execution_count": 45,
   "metadata": {},
   "outputs": [],
   "source": [
    "df_conv.industry_code.replace('ICG', 0,inplace=True)\n",
    "df_conv.industry_code.replace('BOR', 1,inplace=True)\n",
    "df_conv.industry_code.replace('MFG', 2,inplace=True)\n",
    "df_conv.industry_code.replace('MFE', 3,inplace=True)\n",
    "df_conv.industry_code.replace('PWO', 4,inplace=True)\n",
    "df_conv.industry_code.replace('LPK', 5,inplace=True)\n",
    "df_conv.industry_code.replace('LPC', 6,inplace=True)\n",
    "df_conv.industry_code.replace('GRT', 7,inplace=True)\n",
    "df_conv.industry_code.replace('LPP', 8,inplace=True)\n",
    "df_conv.industry_code.replace('CIL', 9,inplace=True)\n",
    "df_conv.industry_code.replace('SPC', 10,inplace=True)\n",
    "df_conv.industry_code.replace('AOR', 11,inplace=True)\n",
    "df_conv.industry_code.replace('TRV', 12,inplace=True)\n",
    "df_conv.industry_code.replace('DUR', 13,inplace=True)\n",
    "df_conv.industry_code.replace('PGG', 14,inplace=True)\n",
    "df_conv.industry_code.replace('RGA', 15,inplace=True)\n",
    "df_conv.industry_code.replace('RCA', 16,inplace=True)"
   ]
  },
  {
   "cell_type": "code",
   "execution_count": 46,
   "metadata": {},
   "outputs": [],
   "source": [
    "df_conv.group.replace('Control', 0,inplace=True)\n",
    "df_conv.group.replace('Test', 1,inplace=True)"
   ]
  },
  {
   "cell_type": "code",
   "execution_count": 47,
   "metadata": {},
   "outputs": [
    {
     "name": "stdout",
     "output_type": "stream",
     "text": [
      "<class 'pandas.core.frame.DataFrame'>\n",
      "Int64Index: 346573 entries, 0 to 346928\n",
      "Data columns (total 9 columns):\n",
      "sex              346573 non-null int64\n",
      "age              346573 non-null int64\n",
      "source           346573 non-null int64\n",
      "device           346573 non-null int64\n",
      "browser          346573 non-null int64\n",
      "payee            346573 non-null int64\n",
      "industry_code    346573 non-null int64\n",
      "group            346573 non-null int64\n",
      "trial            346573 non-null int64\n",
      "dtypes: int64(9)\n",
      "memory usage: 34.4 MB\n"
     ]
    }
   ],
   "source": [
    "df_conv.info()"
   ]
  },
  {
   "cell_type": "code",
   "execution_count": 48,
   "metadata": {},
   "outputs": [
    {
     "data": {
      "text/plain": [
       "sex              int64\n",
       "age              int64\n",
       "source           int64\n",
       "device           int64\n",
       "browser          int64\n",
       "payee            int64\n",
       "industry_code    int64\n",
       "group            int64\n",
       "trial            int64\n",
       "dtype: object"
      ]
     },
     "execution_count": 48,
     "metadata": {},
     "output_type": "execute_result"
    }
   ],
   "source": [
    "df_conv.dtypes"
   ]
  },
  {
   "cell_type": "markdown",
   "metadata": {},
   "source": [
    "<b> Convert DATA-TYPES in a data-frame  </b>\n",
    "<t> When finding CORRELATION, all the columns must be numeric INT64. Convert all columns to Numeric INT64  </t>"
   ]
  },
  {
   "cell_type": "code",
   "execution_count": 49,
   "metadata": {},
   "outputs": [
    {
     "data": {
      "text/plain": [
       "0         0\n",
       "1         0\n",
       "2         0\n",
       "3         0\n",
       "4         1\n",
       "         ..\n",
       "346924    1\n",
       "346925    0\n",
       "346926    0\n",
       "346927    0\n",
       "346928    0\n",
       "Name: device, Length: 346573, dtype: int64"
      ]
     },
     "execution_count": 49,
     "metadata": {},
     "output_type": "execute_result"
    },
    {
     "data": {
      "text/plain": [
       "0         0\n",
       "1         0\n",
       "2         0\n",
       "3         0\n",
       "4         0\n",
       "         ..\n",
       "346924    0\n",
       "346925    0\n",
       "346926    0\n",
       "346927    0\n",
       "346928    0\n",
       "Name: payee, Length: 346573, dtype: int64"
      ]
     },
     "execution_count": 49,
     "metadata": {},
     "output_type": "execute_result"
    },
    {
     "data": {
      "text/plain": [
       "sex              int64\n",
       "age              int64\n",
       "source           int64\n",
       "device           int64\n",
       "browser          int64\n",
       "payee            int64\n",
       "industry_code    int64\n",
       "group            int64\n",
       "trial            int64\n",
       "dtype: object"
      ]
     },
     "execution_count": 49,
     "metadata": {},
     "output_type": "execute_result"
    }
   ],
   "source": [
    "# DataFrame.astype()\n",
    "df_conv['device'].astype('int64')\n",
    "df_conv['payee'].astype('int64')\n",
    "df_conv.dtypes"
   ]
  },
  {
   "cell_type": "code",
   "execution_count": 50,
   "metadata": {},
   "outputs": [
    {
     "data": {
      "image/png": "[encoded data removed]",
      "text/plain": [
       "<Figure size 720x432 with 1 Axes>"
      ]
     },
     "metadata": {
      "needs_background": "light"
     },
     "output_type": "display_data"
    }
   ],
   "source": [
    "plt.rcParams['figure.figsize'] = 10,6 # similar to par(mfrow = c(2,1), mar = c(4,4,2,1)) # 2 columns and 1 row\n",
    "vis2 = sns.distplot(df_conv[\"device\"]) # pass it one variable"
   ]
  },
  {
   "cell_type": "code",
   "execution_count": 51,
   "metadata": {},
   "outputs": [
    {
     "data": {
      "text/plain": [
       "<Figure size 1152x720 with 0 Axes>"
      ]
     },
     "execution_count": 51,
     "metadata": {},
     "output_type": "execute_result"
    },
    {
     "data": {
      "text/plain": [
       "<matplotlib.axes._subplots.AxesSubplot at 0xc118430>"
      ]
     },
     "execution_count": 51,
     "metadata": {},
     "output_type": "execute_result"
    },
    {
     "data": {
      "image/png": "[encoded data removed]",
      "text/plain": [
       "<Figure size 1152x720 with 2 Axes>"
      ]
     },
     "metadata": {
      "needs_background": "light"
     },
     "output_type": "display_data"
    }
   ],
   "source": [
    "# Visualize the Correlation using the Seaborn Heatmap function (Two Variable only)\n",
    "plt.figure(figsize =(16,10))\n",
    "sns.heatmap(df_conv[['group', 'trial']].corr(), annot=True)\n",
    "plt.show()"
   ]
  },
  {
   "cell_type": "code",
   "execution_count": 52,
   "metadata": {},
   "outputs": [],
   "source": [
    "# Copied data frame for reference\n",
    "dfcorr = df_conv.copy()"
   ]
  },
  {
   "cell_type": "code",
   "execution_count": 127,
   "metadata": {},
   "outputs": [
    {
     "data": {
      "text/html": [
       "<div>\n",
       "<style scoped>\n",
       "    .dataframe tbody tr th:only-of-type {\n",
       "        vertical-align: middle;\n",
       "    }\n",
       "\n",
       "    .dataframe tbody tr th {\n",
       "        vertical-align: top;\n",
       "    }\n",
       "\n",
       "    .dataframe thead th {\n",
       "        text-align: right;\n",
       "    }\n",
       "</style>\n",
       "<table border=\"1\" class=\"dataframe\">\n",
       "  <thead>\n",
       "    <tr style=\"text-align: right;\">\n",
       "      <th></th>\n",
       "      <th>sex</th>\n",
       "      <th>age</th>\n",
       "      <th>source</th>\n",
       "      <th>device</th>\n",
       "      <th>browser</th>\n",
       "      <th>payee</th>\n",
       "      <th>industry_code</th>\n",
       "      <th>group</th>\n",
       "      <th>trial</th>\n",
       "    </tr>\n",
       "  </thead>\n",
       "  <tbody>\n",
       "    <tr>\n",
       "      <th>sex</th>\n",
       "      <td>1.000</td>\n",
       "      <td>0.002</td>\n",
       "      <td>-0.000</td>\n",
       "      <td>-0.002</td>\n",
       "      <td>-0.003</td>\n",
       "      <td>0.004</td>\n",
       "      <td>0.003</td>\n",
       "      <td>-0.001</td>\n",
       "      <td>-0.000</td>\n",
       "    </tr>\n",
       "    <tr>\n",
       "      <th>age</th>\n",
       "      <td>0.002</td>\n",
       "      <td>1.000</td>\n",
       "      <td>-0.002</td>\n",
       "      <td>-0.000</td>\n",
       "      <td>-0.003</td>\n",
       "      <td>0.001</td>\n",
       "      <td>-0.001</td>\n",
       "      <td>-0.001</td>\n",
       "      <td>-0.001</td>\n",
       "    </tr>\n",
       "    <tr>\n",
       "      <th>source</th>\n",
       "      <td>-0.000</td>\n",
       "      <td>-0.002</td>\n",
       "      <td>1.000</td>\n",
       "      <td>0.002</td>\n",
       "      <td>0.002</td>\n",
       "      <td>0.002</td>\n",
       "      <td>-0.001</td>\n",
       "      <td>-0.003</td>\n",
       "      <td>0.001</td>\n",
       "    </tr>\n",
       "    <tr>\n",
       "      <th>device</th>\n",
       "      <td>-0.002</td>\n",
       "      <td>-0.000</td>\n",
       "      <td>0.002</td>\n",
       "      <td>1.000</td>\n",
       "      <td>0.493</td>\n",
       "      <td>0.002</td>\n",
       "      <td>-0.004</td>\n",
       "      <td>0.002</td>\n",
       "      <td>0.001</td>\n",
       "    </tr>\n",
       "    <tr>\n",
       "      <th>browser</th>\n",
       "      <td>-0.003</td>\n",
       "      <td>-0.003</td>\n",
       "      <td>0.002</td>\n",
       "      <td>0.493</td>\n",
       "      <td>1.000</td>\n",
       "      <td>0.001</td>\n",
       "      <td>-0.001</td>\n",
       "      <td>-0.000</td>\n",
       "      <td>0.001</td>\n",
       "    </tr>\n",
       "    <tr>\n",
       "      <th>payee</th>\n",
       "      <td>0.004</td>\n",
       "      <td>0.001</td>\n",
       "      <td>0.002</td>\n",
       "      <td>0.002</td>\n",
       "      <td>0.001</td>\n",
       "      <td>1.000</td>\n",
       "      <td>0.001</td>\n",
       "      <td>0.001</td>\n",
       "      <td>-0.001</td>\n",
       "    </tr>\n",
       "    <tr>\n",
       "      <th>industry_code</th>\n",
       "      <td>0.003</td>\n",
       "      <td>-0.001</td>\n",
       "      <td>-0.001</td>\n",
       "      <td>-0.004</td>\n",
       "      <td>-0.001</td>\n",
       "      <td>0.001</td>\n",
       "      <td>1.000</td>\n",
       "      <td>-0.165</td>\n",
       "      <td>0.026</td>\n",
       "    </tr>\n",
       "    <tr>\n",
       "      <th>group</th>\n",
       "      <td>-0.001</td>\n",
       "      <td>-0.001</td>\n",
       "      <td>-0.003</td>\n",
       "      <td>0.002</td>\n",
       "      <td>-0.000</td>\n",
       "      <td>0.001</td>\n",
       "      <td>-0.165</td>\n",
       "      <td>1.000</td>\n",
       "      <td>-0.027</td>\n",
       "    </tr>\n",
       "    <tr>\n",
       "      <th>trial</th>\n",
       "      <td>-0.000</td>\n",
       "      <td>-0.001</td>\n",
       "      <td>0.001</td>\n",
       "      <td>0.001</td>\n",
       "      <td>0.001</td>\n",
       "      <td>-0.001</td>\n",
       "      <td>0.026</td>\n",
       "      <td>-0.027</td>\n",
       "      <td>1.000</td>\n",
       "    </tr>\n",
       "  </tbody>\n",
       "</table>\n",
       "</div>"
      ],
      "text/plain": [
       "                 sex    age  source  device  browser  payee  industry_code  \\\n",
       "sex            1.000  0.002  -0.000  -0.002   -0.003  0.004          0.003   \n",
       "age            0.002  1.000  -0.002  -0.000   -0.003  0.001         -0.001   \n",
       "source        -0.000 -0.002   1.000   0.002    0.002  0.002         -0.001   \n",
       "device        -0.002 -0.000   0.002   1.000    0.493  0.002         -0.004   \n",
       "browser       -0.003 -0.003   0.002   0.493    1.000  0.001         -0.001   \n",
       "payee          0.004  0.001   0.002   0.002    0.001  1.000          0.001   \n",
       "industry_code  0.003 -0.001  -0.001  -0.004   -0.001  0.001          1.000   \n",
       "group         -0.001 -0.001  -0.003   0.002   -0.000  0.001         -0.165   \n",
       "trial         -0.000 -0.001   0.001   0.001    0.001 -0.001          0.026   \n",
       "\n",
       "               group  trial  \n",
       "sex           -0.001 -0.000  \n",
       "age           -0.001 -0.001  \n",
       "source        -0.003  0.001  \n",
       "device         0.002  0.001  \n",
       "browser       -0.000  0.001  \n",
       "payee          0.001 -0.001  \n",
       "industry_code -0.165  0.026  \n",
       "group          1.000 -0.027  \n",
       "trial         -0.027  1.000  "
      ]
     },
     "execution_count": 127,
     "metadata": {},
     "output_type": "execute_result"
    }
   ],
   "source": [
    "dfcorr.corr()"
   ]
  },
  {
   "cell_type": "markdown",
   "metadata": {},
   "source": [
    "Finding all types of Correlation  "
   ]
  },
  {
   "cell_type": "code",
   "execution_count": 128,
   "metadata": {},
   "outputs": [
    {
     "data": {
      "text/html": [
       "<div>\n",
       "<style scoped>\n",
       "    .dataframe tbody tr th:only-of-type {\n",
       "        vertical-align: middle;\n",
       "    }\n",
       "\n",
       "    .dataframe tbody tr th {\n",
       "        vertical-align: top;\n",
       "    }\n",
       "\n",
       "    .dataframe thead th {\n",
       "        text-align: right;\n",
       "    }\n",
       "</style>\n",
       "<table border=\"1\" class=\"dataframe\">\n",
       "  <thead>\n",
       "    <tr style=\"text-align: right;\">\n",
       "      <th></th>\n",
       "      <th>sex</th>\n",
       "      <th>age</th>\n",
       "      <th>source</th>\n",
       "      <th>device</th>\n",
       "      <th>browser</th>\n",
       "      <th>payee</th>\n",
       "      <th>industry_code</th>\n",
       "      <th>group</th>\n",
       "      <th>trial</th>\n",
       "    </tr>\n",
       "  </thead>\n",
       "  <tbody>\n",
       "    <tr>\n",
       "      <th>sex</th>\n",
       "      <td>1.000</td>\n",
       "      <td>0.002</td>\n",
       "      <td>-0.000</td>\n",
       "      <td>-0.002</td>\n",
       "      <td>-0.003</td>\n",
       "      <td>0.004</td>\n",
       "      <td>0.003</td>\n",
       "      <td>-0.001</td>\n",
       "      <td>-0.000</td>\n",
       "    </tr>\n",
       "    <tr>\n",
       "      <th>age</th>\n",
       "      <td>0.002</td>\n",
       "      <td>1.000</td>\n",
       "      <td>-0.002</td>\n",
       "      <td>-0.000</td>\n",
       "      <td>-0.003</td>\n",
       "      <td>0.001</td>\n",
       "      <td>-0.001</td>\n",
       "      <td>-0.001</td>\n",
       "      <td>-0.001</td>\n",
       "    </tr>\n",
       "    <tr>\n",
       "      <th>source</th>\n",
       "      <td>-0.000</td>\n",
       "      <td>-0.002</td>\n",
       "      <td>1.000</td>\n",
       "      <td>0.002</td>\n",
       "      <td>0.002</td>\n",
       "      <td>0.002</td>\n",
       "      <td>-0.001</td>\n",
       "      <td>-0.003</td>\n",
       "      <td>0.001</td>\n",
       "    </tr>\n",
       "    <tr>\n",
       "      <th>device</th>\n",
       "      <td>-0.002</td>\n",
       "      <td>-0.000</td>\n",
       "      <td>0.002</td>\n",
       "      <td>1.000</td>\n",
       "      <td>0.493</td>\n",
       "      <td>0.002</td>\n",
       "      <td>-0.004</td>\n",
       "      <td>0.002</td>\n",
       "      <td>0.001</td>\n",
       "    </tr>\n",
       "    <tr>\n",
       "      <th>browser</th>\n",
       "      <td>-0.003</td>\n",
       "      <td>-0.003</td>\n",
       "      <td>0.002</td>\n",
       "      <td>0.493</td>\n",
       "      <td>1.000</td>\n",
       "      <td>0.001</td>\n",
       "      <td>-0.001</td>\n",
       "      <td>-0.000</td>\n",
       "      <td>0.001</td>\n",
       "    </tr>\n",
       "    <tr>\n",
       "      <th>payee</th>\n",
       "      <td>0.004</td>\n",
       "      <td>0.001</td>\n",
       "      <td>0.002</td>\n",
       "      <td>0.002</td>\n",
       "      <td>0.001</td>\n",
       "      <td>1.000</td>\n",
       "      <td>0.001</td>\n",
       "      <td>0.001</td>\n",
       "      <td>-0.001</td>\n",
       "    </tr>\n",
       "    <tr>\n",
       "      <th>industry_code</th>\n",
       "      <td>0.003</td>\n",
       "      <td>-0.001</td>\n",
       "      <td>-0.001</td>\n",
       "      <td>-0.004</td>\n",
       "      <td>-0.001</td>\n",
       "      <td>0.001</td>\n",
       "      <td>1.000</td>\n",
       "      <td>-0.165</td>\n",
       "      <td>0.026</td>\n",
       "    </tr>\n",
       "    <tr>\n",
       "      <th>group</th>\n",
       "      <td>-0.001</td>\n",
       "      <td>-0.001</td>\n",
       "      <td>-0.003</td>\n",
       "      <td>0.002</td>\n",
       "      <td>-0.000</td>\n",
       "      <td>0.001</td>\n",
       "      <td>-0.165</td>\n",
       "      <td>1.000</td>\n",
       "      <td>-0.027</td>\n",
       "    </tr>\n",
       "    <tr>\n",
       "      <th>trial</th>\n",
       "      <td>-0.000</td>\n",
       "      <td>-0.001</td>\n",
       "      <td>0.001</td>\n",
       "      <td>0.001</td>\n",
       "      <td>0.001</td>\n",
       "      <td>-0.001</td>\n",
       "      <td>0.026</td>\n",
       "      <td>-0.027</td>\n",
       "      <td>1.000</td>\n",
       "    </tr>\n",
       "  </tbody>\n",
       "</table>\n",
       "</div>"
      ],
      "text/plain": [
       "                 sex    age  source  device  browser  payee  industry_code  \\\n",
       "sex            1.000  0.002  -0.000  -0.002   -0.003  0.004          0.003   \n",
       "age            0.002  1.000  -0.002  -0.000   -0.003  0.001         -0.001   \n",
       "source        -0.000 -0.002   1.000   0.002    0.002  0.002         -0.001   \n",
       "device        -0.002 -0.000   0.002   1.000    0.493  0.002         -0.004   \n",
       "browser       -0.003 -0.003   0.002   0.493    1.000  0.001         -0.001   \n",
       "payee          0.004  0.001   0.002   0.002    0.001  1.000          0.001   \n",
       "industry_code  0.003 -0.001  -0.001  -0.004   -0.001  0.001          1.000   \n",
       "group         -0.001 -0.001  -0.003   0.002   -0.000  0.001         -0.165   \n",
       "trial         -0.000 -0.001   0.001   0.001    0.001 -0.001          0.026   \n",
       "\n",
       "               group  trial  \n",
       "sex           -0.001 -0.000  \n",
       "age           -0.001 -0.001  \n",
       "source        -0.003  0.001  \n",
       "device         0.002  0.001  \n",
       "browser       -0.000  0.001  \n",
       "payee          0.001 -0.001  \n",
       "industry_code -0.165  0.026  \n",
       "group          1.000 -0.027  \n",
       "trial         -0.027  1.000  "
      ]
     },
     "execution_count": 128,
     "metadata": {},
     "output_type": "execute_result"
    },
    {
     "data": {
      "text/html": [
       "<div>\n",
       "<style scoped>\n",
       "    .dataframe tbody tr th:only-of-type {\n",
       "        vertical-align: middle;\n",
       "    }\n",
       "\n",
       "    .dataframe tbody tr th {\n",
       "        vertical-align: top;\n",
       "    }\n",
       "\n",
       "    .dataframe thead th {\n",
       "        text-align: right;\n",
       "    }\n",
       "</style>\n",
       "<table border=\"1\" class=\"dataframe\">\n",
       "  <thead>\n",
       "    <tr style=\"text-align: right;\">\n",
       "      <th></th>\n",
       "      <th>sex</th>\n",
       "      <th>age</th>\n",
       "      <th>source</th>\n",
       "      <th>device</th>\n",
       "      <th>browser</th>\n",
       "      <th>payee</th>\n",
       "      <th>industry_code</th>\n",
       "      <th>group</th>\n",
       "      <th>trial</th>\n",
       "    </tr>\n",
       "  </thead>\n",
       "  <tbody>\n",
       "    <tr>\n",
       "      <th>sex</th>\n",
       "      <td>1.000</td>\n",
       "      <td>0.002</td>\n",
       "      <td>-0.000</td>\n",
       "      <td>-0.002</td>\n",
       "      <td>-0.003</td>\n",
       "      <td>0.004</td>\n",
       "      <td>0.004</td>\n",
       "      <td>-0.001</td>\n",
       "      <td>-0.000</td>\n",
       "    </tr>\n",
       "    <tr>\n",
       "      <th>age</th>\n",
       "      <td>0.002</td>\n",
       "      <td>1.000</td>\n",
       "      <td>-0.002</td>\n",
       "      <td>0.000</td>\n",
       "      <td>-0.003</td>\n",
       "      <td>0.001</td>\n",
       "      <td>-0.000</td>\n",
       "      <td>-0.001</td>\n",
       "      <td>-0.000</td>\n",
       "    </tr>\n",
       "    <tr>\n",
       "      <th>source</th>\n",
       "      <td>-0.000</td>\n",
       "      <td>-0.002</td>\n",
       "      <td>1.000</td>\n",
       "      <td>0.002</td>\n",
       "      <td>0.002</td>\n",
       "      <td>0.002</td>\n",
       "      <td>0.001</td>\n",
       "      <td>-0.003</td>\n",
       "      <td>0.001</td>\n",
       "    </tr>\n",
       "    <tr>\n",
       "      <th>device</th>\n",
       "      <td>-0.002</td>\n",
       "      <td>0.000</td>\n",
       "      <td>0.002</td>\n",
       "      <td>1.000</td>\n",
       "      <td>0.555</td>\n",
       "      <td>0.002</td>\n",
       "      <td>-0.004</td>\n",
       "      <td>0.002</td>\n",
       "      <td>0.001</td>\n",
       "    </tr>\n",
       "    <tr>\n",
       "      <th>browser</th>\n",
       "      <td>-0.003</td>\n",
       "      <td>-0.003</td>\n",
       "      <td>0.002</td>\n",
       "      <td>0.555</td>\n",
       "      <td>1.000</td>\n",
       "      <td>0.001</td>\n",
       "      <td>-0.000</td>\n",
       "      <td>-0.000</td>\n",
       "      <td>0.001</td>\n",
       "    </tr>\n",
       "    <tr>\n",
       "      <th>payee</th>\n",
       "      <td>0.004</td>\n",
       "      <td>0.001</td>\n",
       "      <td>0.002</td>\n",
       "      <td>0.002</td>\n",
       "      <td>0.001</td>\n",
       "      <td>1.000</td>\n",
       "      <td>0.001</td>\n",
       "      <td>0.001</td>\n",
       "      <td>-0.001</td>\n",
       "    </tr>\n",
       "    <tr>\n",
       "      <th>industry_code</th>\n",
       "      <td>0.004</td>\n",
       "      <td>-0.000</td>\n",
       "      <td>0.001</td>\n",
       "      <td>-0.004</td>\n",
       "      <td>-0.000</td>\n",
       "      <td>0.001</td>\n",
       "      <td>1.000</td>\n",
       "      <td>-0.161</td>\n",
       "      <td>0.023</td>\n",
       "    </tr>\n",
       "    <tr>\n",
       "      <th>group</th>\n",
       "      <td>-0.001</td>\n",
       "      <td>-0.001</td>\n",
       "      <td>-0.003</td>\n",
       "      <td>0.002</td>\n",
       "      <td>-0.000</td>\n",
       "      <td>0.001</td>\n",
       "      <td>-0.161</td>\n",
       "      <td>1.000</td>\n",
       "      <td>-0.027</td>\n",
       "    </tr>\n",
       "    <tr>\n",
       "      <th>trial</th>\n",
       "      <td>-0.000</td>\n",
       "      <td>-0.000</td>\n",
       "      <td>0.001</td>\n",
       "      <td>0.001</td>\n",
       "      <td>0.001</td>\n",
       "      <td>-0.001</td>\n",
       "      <td>0.023</td>\n",
       "      <td>-0.027</td>\n",
       "      <td>1.000</td>\n",
       "    </tr>\n",
       "  </tbody>\n",
       "</table>\n",
       "</div>"
      ],
      "text/plain": [
       "                 sex    age  source  device  browser  payee  industry_code  \\\n",
       "sex            1.000  0.002  -0.000  -0.002   -0.003  0.004          0.004   \n",
       "age            0.002  1.000  -0.002   0.000   -0.003  0.001         -0.000   \n",
       "source        -0.000 -0.002   1.000   0.002    0.002  0.002          0.001   \n",
       "device        -0.002  0.000   0.002   1.000    0.555  0.002         -0.004   \n",
       "browser       -0.003 -0.003   0.002   0.555    1.000  0.001         -0.000   \n",
       "payee          0.004  0.001   0.002   0.002    0.001  1.000          0.001   \n",
       "industry_code  0.004 -0.000   0.001  -0.004   -0.000  0.001          1.000   \n",
       "group         -0.001 -0.001  -0.003   0.002   -0.000  0.001         -0.161   \n",
       "trial         -0.000 -0.000   0.001   0.001    0.001 -0.001          0.023   \n",
       "\n",
       "               group  trial  \n",
       "sex           -0.001 -0.000  \n",
       "age           -0.001 -0.000  \n",
       "source        -0.003  0.001  \n",
       "device         0.002  0.001  \n",
       "browser       -0.000  0.001  \n",
       "payee          0.001 -0.001  \n",
       "industry_code -0.161  0.023  \n",
       "group          1.000 -0.027  \n",
       "trial         -0.027  1.000  "
      ]
     },
     "execution_count": 128,
     "metadata": {},
     "output_type": "execute_result"
    },
    {
     "data": {
      "text/html": [
       "<div>\n",
       "<style scoped>\n",
       "    .dataframe tbody tr th:only-of-type {\n",
       "        vertical-align: middle;\n",
       "    }\n",
       "\n",
       "    .dataframe tbody tr th {\n",
       "        vertical-align: top;\n",
       "    }\n",
       "\n",
       "    .dataframe thead th {\n",
       "        text-align: right;\n",
       "    }\n",
       "</style>\n",
       "<table border=\"1\" class=\"dataframe\">\n",
       "  <thead>\n",
       "    <tr style=\"text-align: right;\">\n",
       "      <th></th>\n",
       "      <th>sex</th>\n",
       "      <th>age</th>\n",
       "      <th>source</th>\n",
       "      <th>device</th>\n",
       "      <th>browser</th>\n",
       "      <th>payee</th>\n",
       "      <th>industry_code</th>\n",
       "      <th>group</th>\n",
       "      <th>trial</th>\n",
       "    </tr>\n",
       "  </thead>\n",
       "  <tbody>\n",
       "    <tr>\n",
       "      <th>sex</th>\n",
       "      <td>1.000</td>\n",
       "      <td>0.002</td>\n",
       "      <td>-0.000</td>\n",
       "      <td>-0.002</td>\n",
       "      <td>-0.002</td>\n",
       "      <td>0.004</td>\n",
       "      <td>0.003</td>\n",
       "      <td>-0.001</td>\n",
       "      <td>-0.000</td>\n",
       "    </tr>\n",
       "    <tr>\n",
       "      <th>age</th>\n",
       "      <td>0.002</td>\n",
       "      <td>1.000</td>\n",
       "      <td>-0.002</td>\n",
       "      <td>0.000</td>\n",
       "      <td>-0.002</td>\n",
       "      <td>0.001</td>\n",
       "      <td>-0.000</td>\n",
       "      <td>-0.001</td>\n",
       "      <td>-0.000</td>\n",
       "    </tr>\n",
       "    <tr>\n",
       "      <th>source</th>\n",
       "      <td>-0.000</td>\n",
       "      <td>-0.002</td>\n",
       "      <td>1.000</td>\n",
       "      <td>0.002</td>\n",
       "      <td>0.002</td>\n",
       "      <td>0.002</td>\n",
       "      <td>0.000</td>\n",
       "      <td>-0.003</td>\n",
       "      <td>0.001</td>\n",
       "    </tr>\n",
       "    <tr>\n",
       "      <th>device</th>\n",
       "      <td>-0.002</td>\n",
       "      <td>0.000</td>\n",
       "      <td>0.002</td>\n",
       "      <td>1.000</td>\n",
       "      <td>0.496</td>\n",
       "      <td>0.002</td>\n",
       "      <td>-0.003</td>\n",
       "      <td>0.002</td>\n",
       "      <td>0.001</td>\n",
       "    </tr>\n",
       "    <tr>\n",
       "      <th>browser</th>\n",
       "      <td>-0.002</td>\n",
       "      <td>-0.002</td>\n",
       "      <td>0.002</td>\n",
       "      <td>0.496</td>\n",
       "      <td>1.000</td>\n",
       "      <td>0.001</td>\n",
       "      <td>-0.000</td>\n",
       "      <td>-0.000</td>\n",
       "      <td>0.001</td>\n",
       "    </tr>\n",
       "    <tr>\n",
       "      <th>payee</th>\n",
       "      <td>0.004</td>\n",
       "      <td>0.001</td>\n",
       "      <td>0.002</td>\n",
       "      <td>0.002</td>\n",
       "      <td>0.001</td>\n",
       "      <td>1.000</td>\n",
       "      <td>0.001</td>\n",
       "      <td>0.001</td>\n",
       "      <td>-0.001</td>\n",
       "    </tr>\n",
       "    <tr>\n",
       "      <th>industry_code</th>\n",
       "      <td>0.003</td>\n",
       "      <td>-0.000</td>\n",
       "      <td>0.000</td>\n",
       "      <td>-0.003</td>\n",
       "      <td>-0.000</td>\n",
       "      <td>0.001</td>\n",
       "      <td>1.000</td>\n",
       "      <td>-0.139</td>\n",
       "      <td>0.020</td>\n",
       "    </tr>\n",
       "    <tr>\n",
       "      <th>group</th>\n",
       "      <td>-0.001</td>\n",
       "      <td>-0.001</td>\n",
       "      <td>-0.003</td>\n",
       "      <td>0.002</td>\n",
       "      <td>-0.000</td>\n",
       "      <td>0.001</td>\n",
       "      <td>-0.139</td>\n",
       "      <td>1.000</td>\n",
       "      <td>-0.027</td>\n",
       "    </tr>\n",
       "    <tr>\n",
       "      <th>trial</th>\n",
       "      <td>-0.000</td>\n",
       "      <td>-0.000</td>\n",
       "      <td>0.001</td>\n",
       "      <td>0.001</td>\n",
       "      <td>0.001</td>\n",
       "      <td>-0.001</td>\n",
       "      <td>0.020</td>\n",
       "      <td>-0.027</td>\n",
       "      <td>1.000</td>\n",
       "    </tr>\n",
       "  </tbody>\n",
       "</table>\n",
       "</div>"
      ],
      "text/plain": [
       "                 sex    age  source  device  browser  payee  industry_code  \\\n",
       "sex            1.000  0.002  -0.000  -0.002   -0.002  0.004          0.003   \n",
       "age            0.002  1.000  -0.002   0.000   -0.002  0.001         -0.000   \n",
       "source        -0.000 -0.002   1.000   0.002    0.002  0.002          0.000   \n",
       "device        -0.002  0.000   0.002   1.000    0.496  0.002         -0.003   \n",
       "browser       -0.002 -0.002   0.002   0.496    1.000  0.001         -0.000   \n",
       "payee          0.004  0.001   0.002   0.002    0.001  1.000          0.001   \n",
       "industry_code  0.003 -0.000   0.000  -0.003   -0.000  0.001          1.000   \n",
       "group         -0.001 -0.001  -0.003   0.002   -0.000  0.001         -0.139   \n",
       "trial         -0.000 -0.000   0.001   0.001    0.001 -0.001          0.020   \n",
       "\n",
       "               group  trial  \n",
       "sex           -0.001 -0.000  \n",
       "age           -0.001 -0.000  \n",
       "source        -0.003  0.001  \n",
       "device         0.002  0.001  \n",
       "browser       -0.000  0.001  \n",
       "payee          0.001 -0.001  \n",
       "industry_code -0.139  0.020  \n",
       "group          1.000 -0.027  \n",
       "trial         -0.027  1.000  "
      ]
     },
     "execution_count": 128,
     "metadata": {},
     "output_type": "execute_result"
    }
   ],
   "source": [
    "dfcorr.corr(method='pearson')\n",
    "dfcorr.corr(method='spearman')\n",
    "dfcorr.corr(method='kendall')"
   ]
  },
  {
   "cell_type": "code",
   "execution_count": 26,
   "metadata": {},
   "outputs": [
    {
     "data": {
      "text/plain": [
       "<Figure size 1152x720 with 0 Axes>"
      ]
     },
     "execution_count": 26,
     "metadata": {},
     "output_type": "execute_result"
    },
    {
     "data": {
      "text/plain": [
       "<matplotlib.axes._subplots.AxesSubplot at 0x9b27a90>"
      ]
     },
     "execution_count": 26,
     "metadata": {},
     "output_type": "execute_result"
    },
    {
     "data": {
      "image/png": "[encoded data removed]",
      "text/plain": [
       "<Figure size 1152x720 with 2 Axes>"
      ]
     },
     "metadata": {
      "needs_background": "light"
     },
     "output_type": "display_data"
    }
   ],
   "source": [
    "plt.figure(figsize =(16,10))\n",
    "sns.heatmap(dfcorr.corr(), annot=True)\n",
    "plt.show()"
   ]
  },
  {
   "cell_type": "markdown",
   "metadata": {},
   "source": [
    "#### Using SelectKbest for scoring the input variables"
   ]
  },
  {
   "cell_type": "code",
   "execution_count": 53,
   "metadata": {},
   "outputs": [
    {
     "name": "stdout",
     "output_type": "stream",
     "text": [
      "           Specs       Score\n",
      "5  industry_code  569.764723\n",
      "3        browser    0.383054\n",
      "4          payee    0.296445\n",
      "1         source    0.266822\n",
      "0            age    0.151227\n",
      "2         device    0.084415\n"
     ]
    }
   ],
   "source": [
    "from sklearn.feature_selection import SelectKBest\n",
    "from sklearn.feature_selection import chi2\n",
    "X = dfcorr.iloc [:, 1:7]\n",
    "y = dfcorr.iloc [:, -1]\n",
    "# apply SelectKBest to all features except DATE column.\n",
    "topFeats = SelectKBest(score_func=chi2, k='all')\n",
    "fit = topFeats.fit(X,y)\n",
    "\n",
    "dfscores = pd.DataFrame(fit.scores_)\n",
    "dfcolumns = pd.DataFrame(X.columns)\n",
    "\n",
    "featureScores = pd.concat([dfcolumns,dfscores],axis=1)\n",
    "featureScores.columns = ['Specs','Score'] \n",
    "\n",
    "print(featureScores.nlargest(6,'Score'))"
   ]
  },
  {
   "cell_type": "markdown",
   "metadata": {},
   "source": [
    "## Feature Importance\n",
    "You can get the feature importance of each feature of your dataset by using the feature importance property of the model.\n",
    "\n",
    "Feature importance gives you a score for each feature of your data, the higher the score more important or relevant is the feature towards your output variable.\n",
    "\n",
    "Feature importance is an inbuilt class that comes with Tree Based Classifiers, we will be using Extra Tree Classifier for extracting the top 10 features for the dataset."
   ]
  },
  {
   "cell_type": "code",
   "execution_count": 63,
   "metadata": {},
   "outputs": [
    {
     "data": {
      "text/plain": [
       "ExtraTreesClassifier(bootstrap=False, class_weight=None, criterion='gini',\n",
       "                     max_depth=None, max_features='auto', max_leaf_nodes=None,\n",
       "                     min_impurity_decrease=0.0, min_impurity_split=None,\n",
       "                     min_samples_leaf=1, min_samples_split=2,\n",
       "                     min_weight_fraction_leaf=0.0, n_estimators=10, n_jobs=None,\n",
       "                     oob_score=False, random_state=None, verbose=0,\n",
       "                     warm_start=False)"
      ]
     },
     "execution_count": 63,
     "metadata": {},
     "output_type": "execute_result"
    },
    {
     "name": "stdout",
     "output_type": "stream",
     "text": [
      "[0.78199773 0.11008659 0.0081071  0.09980858]\n"
     ]
    },
    {
     "data": {
      "text/plain": [
       "<matplotlib.axes._subplots.AxesSubplot at 0x1377de50>"
      ]
     },
     "execution_count": 63,
     "metadata": {},
     "output_type": "execute_result"
    },
    {
     "data": {
      "image/png": "[encoded data removed]",
      "text/plain": [
       "<Figure size 720x432 with 1 Axes>"
      ]
     },
     "metadata": {
      "needs_background": "light"
     },
     "output_type": "display_data"
    }
   ],
   "source": [
    "X = dfcorr.iloc [:, 1:5]\n",
    "y = dfcorr.iloc [:, -1]\n",
    "\n",
    "from sklearn.ensemble import ExtraTreesClassifier\n",
    "import matplotlib.pyplot as plt\n",
    "model = ExtraTreesClassifier()\n",
    "model.fit(X,y)\n",
    "print(model.feature_importances_) #use inbuilt class feature_importances of tree based classifiers\n",
    "#plot graph of feature importances for better visualization\n",
    "feat_importances = pd.Series(model.feature_importances_, index=X.columns)\n",
    "feat_importances.nlargest(10).plot(kind='barh')\n",
    "plt.show()"
   ]
  },
  {
   "cell_type": "markdown",
   "metadata": {},
   "source": [
    "### Data Quality Report  "
   ]
  },
  {
   "cell_type": "code",
   "execution_count": 132,
   "metadata": {},
   "outputs": [
    {
     "data": {
      "text/html": [
       "<div>\n",
       "<style scoped>\n",
       "    .dataframe tbody tr th:only-of-type {\n",
       "        vertical-align: middle;\n",
       "    }\n",
       "\n",
       "    .dataframe tbody tr th {\n",
       "        vertical-align: top;\n",
       "    }\n",
       "\n",
       "    .dataframe thead th {\n",
       "        text-align: right;\n",
       "    }\n",
       "</style>\n",
       "<table border=\"1\" class=\"dataframe\">\n",
       "  <thead>\n",
       "    <tr style=\"text-align: right;\">\n",
       "      <th></th>\n",
       "      <th>sex</th>\n",
       "      <th>age</th>\n",
       "      <th>source</th>\n",
       "      <th>device</th>\n",
       "      <th>browser</th>\n",
       "      <th>payee</th>\n",
       "      <th>industry_code</th>\n",
       "      <th>group</th>\n",
       "      <th>trial</th>\n",
       "    </tr>\n",
       "  </thead>\n",
       "  <tbody>\n",
       "    <tr>\n",
       "      <th>count</th>\n",
       "      <td>346,573.000</td>\n",
       "      <td>346,573.000</td>\n",
       "      <td>346,573.000</td>\n",
       "      <td>346,573.000</td>\n",
       "      <td>346,573.000</td>\n",
       "      <td>346,573.000</td>\n",
       "      <td>346,573.000</td>\n",
       "      <td>346,573.000</td>\n",
       "      <td>346,573.000</td>\n",
       "    </tr>\n",
       "    <tr>\n",
       "      <th>mean</th>\n",
       "      <td>0.584</td>\n",
       "      <td>39.057</td>\n",
       "      <td>0.801</td>\n",
       "      <td>0.445</td>\n",
       "      <td>2.375</td>\n",
       "      <td>0.167</td>\n",
       "      <td>5.482</td>\n",
       "      <td>0.477</td>\n",
       "      <td>0.050</td>\n",
       "    </tr>\n",
       "    <tr>\n",
       "      <th>std</th>\n",
       "      <td>0.493</td>\n",
       "      <td>6.768</td>\n",
       "      <td>0.748</td>\n",
       "      <td>0.497</td>\n",
       "      <td>1.552</td>\n",
       "      <td>0.373</td>\n",
       "      <td>3.675</td>\n",
       "      <td>0.499</td>\n",
       "      <td>0.217</td>\n",
       "    </tr>\n",
       "    <tr>\n",
       "      <th>min</th>\n",
       "      <td>0.000</td>\n",
       "      <td>21.000</td>\n",
       "      <td>0.000</td>\n",
       "      <td>0.000</td>\n",
       "      <td>0.000</td>\n",
       "      <td>0.000</td>\n",
       "      <td>0.000</td>\n",
       "      <td>0.000</td>\n",
       "      <td>0.000</td>\n",
       "    </tr>\n",
       "    <tr>\n",
       "      <th>25%</th>\n",
       "      <td>0.000</td>\n",
       "      <td>34.000</td>\n",
       "      <td>0.000</td>\n",
       "      <td>0.000</td>\n",
       "      <td>1.000</td>\n",
       "      <td>0.000</td>\n",
       "      <td>2.000</td>\n",
       "      <td>0.000</td>\n",
       "      <td>0.000</td>\n",
       "    </tr>\n",
       "    <tr>\n",
       "      <th>50%</th>\n",
       "      <td>1.000</td>\n",
       "      <td>38.000</td>\n",
       "      <td>1.000</td>\n",
       "      <td>0.000</td>\n",
       "      <td>3.000</td>\n",
       "      <td>0.000</td>\n",
       "      <td>5.000</td>\n",
       "      <td>0.000</td>\n",
       "      <td>0.000</td>\n",
       "    </tr>\n",
       "    <tr>\n",
       "      <th>75%</th>\n",
       "      <td>1.000</td>\n",
       "      <td>43.000</td>\n",
       "      <td>1.000</td>\n",
       "      <td>1.000</td>\n",
       "      <td>3.000</td>\n",
       "      <td>0.000</td>\n",
       "      <td>8.000</td>\n",
       "      <td>1.000</td>\n",
       "      <td>0.000</td>\n",
       "    </tr>\n",
       "    <tr>\n",
       "      <th>max</th>\n",
       "      <td>1.000</td>\n",
       "      <td>64.000</td>\n",
       "      <td>2.000</td>\n",
       "      <td>1.000</td>\n",
       "      <td>6.000</td>\n",
       "      <td>1.000</td>\n",
       "      <td>16.000</td>\n",
       "      <td>1.000</td>\n",
       "      <td>1.000</td>\n",
       "    </tr>\n",
       "  </tbody>\n",
       "</table>\n",
       "</div>"
      ],
      "text/plain": [
       "              sex         age      source      device     browser       payee  \\\n",
       "count 346,573.000 346,573.000 346,573.000 346,573.000 346,573.000 346,573.000   \n",
       "mean        0.584      39.057       0.801       0.445       2.375       0.167   \n",
       "std         0.493       6.768       0.748       0.497       1.552       0.373   \n",
       "min         0.000      21.000       0.000       0.000       0.000       0.000   \n",
       "25%         0.000      34.000       0.000       0.000       1.000       0.000   \n",
       "50%         1.000      38.000       1.000       0.000       3.000       0.000   \n",
       "75%         1.000      43.000       1.000       1.000       3.000       0.000   \n",
       "max         1.000      64.000       2.000       1.000       6.000       1.000   \n",
       "\n",
       "       industry_code       group       trial  \n",
       "count    346,573.000 346,573.000 346,573.000  \n",
       "mean           5.482       0.477       0.050  \n",
       "std            3.675       0.499       0.217  \n",
       "min            0.000       0.000       0.000  \n",
       "25%            2.000       0.000       0.000  \n",
       "50%            5.000       0.000       0.000  \n",
       "75%            8.000       1.000       0.000  \n",
       "max           16.000       1.000       1.000  "
      ]
     },
     "execution_count": 132,
     "metadata": {},
     "output_type": "execute_result"
    }
   ],
   "source": [
    "dfcorr.describe()  # Similar to summary() in R"
   ]
  },
  {
   "cell_type": "code",
   "execution_count": 133,
   "metadata": {},
   "outputs": [
    {
     "data": {
      "text/html": [
       "<div>\n",
       "<style scoped>\n",
       "    .dataframe tbody tr th:only-of-type {\n",
       "        vertical-align: middle;\n",
       "    }\n",
       "\n",
       "    .dataframe tbody tr th {\n",
       "        vertical-align: top;\n",
       "    }\n",
       "\n",
       "    .dataframe thead th {\n",
       "        text-align: right;\n",
       "    }\n",
       "</style>\n",
       "<table border=\"1\" class=\"dataframe\">\n",
       "  <thead>\n",
       "    <tr style=\"text-align: right;\">\n",
       "      <th></th>\n",
       "      <th>count</th>\n",
       "      <th>mean</th>\n",
       "      <th>std</th>\n",
       "      <th>min</th>\n",
       "      <th>25%</th>\n",
       "      <th>50%</th>\n",
       "      <th>75%</th>\n",
       "      <th>max</th>\n",
       "    </tr>\n",
       "  </thead>\n",
       "  <tbody>\n",
       "    <tr>\n",
       "      <th>sex</th>\n",
       "      <td>346,573.000</td>\n",
       "      <td>0.584</td>\n",
       "      <td>0.493</td>\n",
       "      <td>0.000</td>\n",
       "      <td>0.000</td>\n",
       "      <td>1.000</td>\n",
       "      <td>1.000</td>\n",
       "      <td>1.000</td>\n",
       "    </tr>\n",
       "    <tr>\n",
       "      <th>age</th>\n",
       "      <td>346,573.000</td>\n",
       "      <td>39.057</td>\n",
       "      <td>6.768</td>\n",
       "      <td>21.000</td>\n",
       "      <td>34.000</td>\n",
       "      <td>38.000</td>\n",
       "      <td>43.000</td>\n",
       "      <td>64.000</td>\n",
       "    </tr>\n",
       "    <tr>\n",
       "      <th>source</th>\n",
       "      <td>346,573.000</td>\n",
       "      <td>0.801</td>\n",
       "      <td>0.748</td>\n",
       "      <td>0.000</td>\n",
       "      <td>0.000</td>\n",
       "      <td>1.000</td>\n",
       "      <td>1.000</td>\n",
       "      <td>2.000</td>\n",
       "    </tr>\n",
       "    <tr>\n",
       "      <th>device</th>\n",
       "      <td>346,573.000</td>\n",
       "      <td>0.445</td>\n",
       "      <td>0.497</td>\n",
       "      <td>0.000</td>\n",
       "      <td>0.000</td>\n",
       "      <td>0.000</td>\n",
       "      <td>1.000</td>\n",
       "      <td>1.000</td>\n",
       "    </tr>\n",
       "    <tr>\n",
       "      <th>browser</th>\n",
       "      <td>346,573.000</td>\n",
       "      <td>2.375</td>\n",
       "      <td>1.552</td>\n",
       "      <td>0.000</td>\n",
       "      <td>1.000</td>\n",
       "      <td>3.000</td>\n",
       "      <td>3.000</td>\n",
       "      <td>6.000</td>\n",
       "    </tr>\n",
       "    <tr>\n",
       "      <th>payee</th>\n",
       "      <td>346,573.000</td>\n",
       "      <td>0.167</td>\n",
       "      <td>0.373</td>\n",
       "      <td>0.000</td>\n",
       "      <td>0.000</td>\n",
       "      <td>0.000</td>\n",
       "      <td>0.000</td>\n",
       "      <td>1.000</td>\n",
       "    </tr>\n",
       "    <tr>\n",
       "      <th>industry_code</th>\n",
       "      <td>346,573.000</td>\n",
       "      <td>5.482</td>\n",
       "      <td>3.675</td>\n",
       "      <td>0.000</td>\n",
       "      <td>2.000</td>\n",
       "      <td>5.000</td>\n",
       "      <td>8.000</td>\n",
       "      <td>16.000</td>\n",
       "    </tr>\n",
       "    <tr>\n",
       "      <th>group</th>\n",
       "      <td>346,573.000</td>\n",
       "      <td>0.477</td>\n",
       "      <td>0.499</td>\n",
       "      <td>0.000</td>\n",
       "      <td>0.000</td>\n",
       "      <td>0.000</td>\n",
       "      <td>1.000</td>\n",
       "      <td>1.000</td>\n",
       "    </tr>\n",
       "    <tr>\n",
       "      <th>trial</th>\n",
       "      <td>346,573.000</td>\n",
       "      <td>0.050</td>\n",
       "      <td>0.217</td>\n",
       "      <td>0.000</td>\n",
       "      <td>0.000</td>\n",
       "      <td>0.000</td>\n",
       "      <td>0.000</td>\n",
       "      <td>1.000</td>\n",
       "    </tr>\n",
       "  </tbody>\n",
       "</table>\n",
       "</div>"
      ],
      "text/plain": [
       "                    count   mean   std    min    25%    50%    75%    max\n",
       "sex           346,573.000  0.584 0.493  0.000  0.000  1.000  1.000  1.000\n",
       "age           346,573.000 39.057 6.768 21.000 34.000 38.000 43.000 64.000\n",
       "source        346,573.000  0.801 0.748  0.000  0.000  1.000  1.000  2.000\n",
       "device        346,573.000  0.445 0.497  0.000  0.000  0.000  1.000  1.000\n",
       "browser       346,573.000  2.375 1.552  0.000  1.000  3.000  3.000  6.000\n",
       "payee         346,573.000  0.167 0.373  0.000  0.000  0.000  0.000  1.000\n",
       "industry_code 346,573.000  5.482 3.675  0.000  2.000  5.000  8.000 16.000\n",
       "group         346,573.000  0.477 0.499  0.000  0.000  0.000  1.000  1.000\n",
       "trial         346,573.000  0.050 0.217  0.000  0.000  0.000  0.000  1.000"
      ]
     },
     "execution_count": 133,
     "metadata": {},
     "output_type": "execute_result"
    }
   ],
   "source": [
    "dfcorr.describe().transpose()  # change the rows and columns"
   ]
  },
  {
   "cell_type": "markdown",
   "metadata": {},
   "source": [
    "# VI- Data Preparation"
   ]
  },
  {
   "cell_type": "markdown",
   "metadata": {},
   "source": [
    "### Data Set   "
   ]
  },
  {
   "cell_type": "code",
   "execution_count": null,
   "metadata": {},
   "outputs": [],
   "source": []
  },
  {
   "cell_type": "markdown",
   "metadata": {},
   "source": [
    "### Data Set Description  "
   ]
  },
  {
   "cell_type": "code",
   "execution_count": null,
   "metadata": {},
   "outputs": [],
   "source": []
  },
  {
   "cell_type": "markdown",
   "metadata": {},
   "source": [
    "### Select Data   "
   ]
  },
  {
   "cell_type": "code",
   "execution_count": 140,
   "metadata": {},
   "outputs": [],
   "source": [
    "# Independent Variables\n",
    "X = dfcorr.iloc[:, [1, 9]].values\n",
    "# Target Variables\n",
    "y = dfcorr.iloc[:, 9].values\n"
   ]
  },
  {
   "cell_type": "markdown",
   "metadata": {},
   "source": [
    "### Rationale for Inclusion/Exclusion  "
   ]
  },
  {
   "cell_type": "code",
   "execution_count": null,
   "metadata": {},
   "outputs": [],
   "source": []
  },
  {
   "cell_type": "code",
   "execution_count": 139,
   "metadata": {},
   "outputs": [
    {
     "data": {
      "text/plain": [
       "(346573, 10)"
      ]
     },
     "execution_count": 139,
     "metadata": {},
     "output_type": "execute_result"
    },
    {
     "data": {
      "text/html": [
       "<div>\n",
       "<style scoped>\n",
       "    .dataframe tbody tr th:only-of-type {\n",
       "        vertical-align: middle;\n",
       "    }\n",
       "\n",
       "    .dataframe tbody tr th {\n",
       "        vertical-align: top;\n",
       "    }\n",
       "\n",
       "    .dataframe thead th {\n",
       "        text-align: right;\n",
       "    }\n",
       "</style>\n",
       "<table border=\"1\" class=\"dataframe\">\n",
       "  <thead>\n",
       "    <tr style=\"text-align: right;\">\n",
       "      <th></th>\n",
       "      <th>sex</th>\n",
       "      <th>age</th>\n",
       "      <th>date</th>\n",
       "      <th>source</th>\n",
       "      <th>device</th>\n",
       "      <th>browser</th>\n",
       "      <th>payee</th>\n",
       "      <th>industry_code</th>\n",
       "      <th>group</th>\n",
       "      <th>trial</th>\n",
       "    </tr>\n",
       "  </thead>\n",
       "  <tbody>\n",
       "    <tr>\n",
       "      <th>0</th>\n",
       "      <td>1</td>\n",
       "      <td>37</td>\n",
       "      <td>2017-01-04</td>\n",
       "      <td>0</td>\n",
       "      <td>0</td>\n",
       "      <td>0</td>\n",
       "      <td>0</td>\n",
       "      <td>0</td>\n",
       "      <td>1</td>\n",
       "      <td>0</td>\n",
       "    </tr>\n",
       "    <tr>\n",
       "      <th>1</th>\n",
       "      <td>0</td>\n",
       "      <td>40</td>\n",
       "      <td>2017-01-05</td>\n",
       "      <td>1</td>\n",
       "      <td>0</td>\n",
       "      <td>1</td>\n",
       "      <td>0</td>\n",
       "      <td>1</td>\n",
       "      <td>1</td>\n",
       "      <td>0</td>\n",
       "    </tr>\n",
       "    <tr>\n",
       "      <th>2</th>\n",
       "      <td>0</td>\n",
       "      <td>29</td>\n",
       "      <td>2017-01-05</td>\n",
       "      <td>1</td>\n",
       "      <td>0</td>\n",
       "      <td>2</td>\n",
       "      <td>0</td>\n",
       "      <td>2</td>\n",
       "      <td>0</td>\n",
       "      <td>0</td>\n",
       "    </tr>\n",
       "    <tr>\n",
       "      <th>3</th>\n",
       "      <td>0</td>\n",
       "      <td>29</td>\n",
       "      <td>2017-01-07</td>\n",
       "      <td>0</td>\n",
       "      <td>0</td>\n",
       "      <td>1</td>\n",
       "      <td>0</td>\n",
       "      <td>3</td>\n",
       "      <td>1</td>\n",
       "      <td>0</td>\n",
       "    </tr>\n",
       "    <tr>\n",
       "      <th>4</th>\n",
       "      <td>1</td>\n",
       "      <td>31</td>\n",
       "      <td>2017-01-06</td>\n",
       "      <td>1</td>\n",
       "      <td>1</td>\n",
       "      <td>3</td>\n",
       "      <td>0</td>\n",
       "      <td>4</td>\n",
       "      <td>1</td>\n",
       "      <td>0</td>\n",
       "    </tr>\n",
       "  </tbody>\n",
       "</table>\n",
       "</div>"
      ],
      "text/plain": [
       "   sex  age        date  source  device  browser  payee  industry_code  group  \\\n",
       "0    1   37  2017-01-04       0       0        0      0              0      1   \n",
       "1    0   40  2017-01-05       1       0        1      0              1      1   \n",
       "2    0   29  2017-01-05       1       0        2      0              2      0   \n",
       "3    0   29  2017-01-07       0       0        1      0              3      1   \n",
       "4    1   31  2017-01-06       1       1        3      0              4      1   \n",
       "\n",
       "   trial  \n",
       "0      0  \n",
       "1      0  \n",
       "2      0  \n",
       "3      0  \n",
       "4      0  "
      ]
     },
     "execution_count": 139,
     "metadata": {},
     "output_type": "execute_result"
    }
   ],
   "source": [
    "dfcorr.shape\n",
    "dfcorr.head()"
   ]
  },
  {
   "cell_type": "markdown",
   "metadata": {},
   "source": [
    "### Clean Data  "
   ]
  },
  {
   "cell_type": "code",
   "execution_count": 141,
   "metadata": {},
   "outputs": [
    {
     "data": {
      "text/plain": [
       "count   346,573.000\n",
       "mean          0.526\n",
       "std           2.303\n",
       "min           0.000\n",
       "25%           0.000\n",
       "50%           0.000\n",
       "75%           0.000\n",
       "max          10.606\n",
       "Name: trial, dtype: float64"
      ]
     },
     "execution_count": 141,
     "metadata": {},
     "output_type": "execute_result"
    }
   ],
   "source": [
    "#  Outlier Detection\n",
    "\n",
    "from __future__ import division\n",
    "import numpy\n",
    "\n",
    "# Median absolute deviation\n",
    "def mad(data, axis=None):\n",
    "    return numpy.mean(numpy.abs(data - numpy.mean(data, axis)), axis)\n",
    "mad = numpy.abs(dfcorr.trial - numpy.median(dfcorr.trial)) / mad(dfcorr.trial)\n",
    "mad.describe()"
   ]
  },
  {
   "cell_type": "code",
   "execution_count": 142,
   "metadata": {},
   "outputs": [
    {
     "data": {
      "text/plain": [
       "count   346,573.000\n",
       "mean          0.434\n",
       "std           0.901\n",
       "min           0.228\n",
       "25%           0.228\n",
       "50%           0.228\n",
       "75%           0.228\n",
       "max           4.377\n",
       "Name: trial, dtype: float64"
      ]
     },
     "execution_count": 142,
     "metadata": {},
     "output_type": "execute_result"
    }
   ],
   "source": [
    "# Standard deviation\n",
    "sd = numpy.abs(dfcorr.trial - numpy.mean(dfcorr.trial)) / numpy.std(dfcorr.trial)\n",
    "sd.describe()"
   ]
  },
  {
   "cell_type": "markdown",
   "metadata": {},
   "source": [
    "### Data Cleaning Report  "
   ]
  },
  {
   "cell_type": "markdown",
   "metadata": {},
   "source": [
    "### Construct Data   "
   ]
  },
  {
   "cell_type": "markdown",
   "metadata": {},
   "source": [
    "### Derived Attributes   "
   ]
  },
  {
   "cell_type": "code",
   "execution_count": null,
   "metadata": {},
   "outputs": [],
   "source": []
  },
  {
   "cell_type": "markdown",
   "metadata": {},
   "source": [
    "### Generated Records  "
   ]
  },
  {
   "cell_type": "code",
   "execution_count": null,
   "metadata": {},
   "outputs": [],
   "source": []
  },
  {
   "cell_type": "code",
   "execution_count": null,
   "metadata": {},
   "outputs": [],
   "source": []
  },
  {
   "cell_type": "markdown",
   "metadata": {},
   "source": [
    "### Integrate Data  \n"
   ]
  },
  {
   "cell_type": "code",
   "execution_count": null,
   "metadata": {},
   "outputs": [],
   "source": []
  },
  {
   "cell_type": "markdown",
   "metadata": {},
   "source": [
    "### Merged Data  "
   ]
  },
  {
   "cell_type": "code",
   "execution_count": null,
   "metadata": {},
   "outputs": [],
   "source": []
  },
  {
   "cell_type": "markdown",
   "metadata": {},
   "source": [
    "### Format Data  "
   ]
  },
  {
   "cell_type": "code",
   "execution_count": null,
   "metadata": {},
   "outputs": [],
   "source": []
  },
  {
   "cell_type": "markdown",
   "metadata": {},
   "source": [
    "### Reformatted Data  "
   ]
  },
  {
   "cell_type": "code",
   "execution_count": null,
   "metadata": {},
   "outputs": [],
   "source": []
  },
  {
   "cell_type": "markdown",
   "metadata": {},
   "source": [
    "# V- Business Analytics Modeling  "
   ]
  },
  {
   "cell_type": "markdown",
   "metadata": {},
   "source": [
    "### Model Selection Description  \n"
   ]
  },
  {
   "cell_type": "code",
   "execution_count": null,
   "metadata": {},
   "outputs": [],
   "source": []
  },
  {
   "cell_type": "markdown",
   "metadata": {},
   "source": [
    "### Modeling Technique  \n"
   ]
  },
  {
   "cell_type": "code",
   "execution_count": null,
   "metadata": {},
   "outputs": [],
   "source": []
  },
  {
   "cell_type": "markdown",
   "metadata": {},
   "source": [
    "### Modeling Assumptions  "
   ]
  },
  {
   "cell_type": "code",
   "execution_count": null,
   "metadata": {},
   "outputs": [],
   "source": []
  },
  {
   "cell_type": "markdown",
   "metadata": {},
   "source": [
    "### Generate Test Design   "
   ]
  },
  {
   "cell_type": "code",
   "execution_count": null,
   "metadata": {},
   "outputs": [],
   "source": []
  },
  {
   "cell_type": "markdown",
   "metadata": {},
   "source": [
    "### Test Design  "
   ]
  },
  {
   "cell_type": "code",
   "execution_count": null,
   "metadata": {},
   "outputs": [],
   "source": []
  },
  {
   "cell_type": "markdown",
   "metadata": {},
   "source": [
    "### Data Preprocessing"
   ]
  },
  {
   "cell_type": "markdown",
   "metadata": {},
   "source": [
    "## Split the data into training set and testing set using train_test_split\n",
    "using scikit learn split the data-set\n"
   ]
  },
  {
   "cell_type": "code",
   "execution_count": 66,
   "metadata": {},
   "outputs": [
    {
     "data": {
      "text/plain": [
       "(346573, 9)"
      ]
     },
     "execution_count": 66,
     "metadata": {},
     "output_type": "execute_result"
    },
    {
     "name": "stdout",
     "output_type": "stream",
     "text": [
      "<class 'pandas.core.frame.DataFrame'>\n",
      "Int64Index: 346573 entries, 0 to 346928\n",
      "Data columns (total 9 columns):\n",
      "sex              346573 non-null int64\n",
      "age              346573 non-null int64\n",
      "source           346573 non-null int64\n",
      "device           346573 non-null int64\n",
      "browser          346573 non-null int64\n",
      "payee            346573 non-null int64\n",
      "industry_code    346573 non-null int64\n",
      "group            346573 non-null int64\n",
      "trial            346573 non-null int64\n",
      "dtypes: int64(9)\n",
      "memory usage: 26.4 MB\n"
     ]
    }
   ],
   "source": [
    "dfcorr.shape\n",
    "dfcorr.info()"
   ]
  },
  {
   "cell_type": "code",
   "execution_count": 64,
   "metadata": {},
   "outputs": [],
   "source": [
    "# Splitting the dataset into the Training set and Test set\n",
    "#from sklearn.cross_validation import train_test_split\n",
    "#X_train, X_test, y_train, y_test = train_test_split(X, y, test_size = 0.25, random_state = 0)\n",
    "\n",
    "from sklearn.model_selection import train_test_split\n"
   ]
  },
  {
   "cell_type": "code",
   "execution_count": 67,
   "metadata": {},
   "outputs": [],
   "source": [
    "dfDT = dfcorr.copy()"
   ]
  },
  {
   "cell_type": "code",
   "execution_count": 68,
   "metadata": {},
   "outputs": [],
   "source": [
    "X = dfDT[['sex', 'age', 'source', 'device', 'browser', 'payee', 'industry_code', 'group']]\n",
    "y = dfDT[['trial']]"
   ]
  },
  {
   "cell_type": "code",
   "execution_count": 70,
   "metadata": {},
   "outputs": [
    {
     "name": "stdout",
     "output_type": "stream",
     "text": [
      "Number transactions X_train dataset:  (242601, 8)\n",
      "Number transactions y_train dataset:  (242601, 1)\n",
      "Number transactions X_test dataset:  (103972, 8)\n",
      "Number transactions y_test dataset:  (103972, 1)\n"
     ]
    }
   ],
   "source": [
    "X_train, X_test, y_train, y_test = train_test_split(X, y, test_size=0.30, random_state=0)\n",
    "\n",
    "print(\"Number transactions X_train dataset: \", X_train.shape)\n",
    "print(\"Number transactions y_train dataset: \", y_train.shape)\n",
    "print(\"Number transactions X_test dataset: \", X_test.shape)\n",
    "print(\"Number transactions y_test dataset: \", y_test.shape)"
   ]
  },
  {
   "cell_type": "code",
   "execution_count": 71,
   "metadata": {},
   "outputs": [],
   "source": [
    "# Feature Scaling\n",
    "from sklearn.preprocessing import StandardScaler\n",
    "sc = StandardScaler()\n",
    "X_train = sc.fit_transform(X_train)\n",
    "X_test = sc.transform(X_test)\n"
   ]
  },
  {
   "cell_type": "markdown",
   "metadata": {},
   "source": [
    "### Building Model"
   ]
  },
  {
   "cell_type": "code",
   "execution_count": 72,
   "metadata": {},
   "outputs": [
    {
     "data": {
      "text/plain": [
       "DecisionTreeClassifier(class_weight=None, criterion='entropy', max_depth=None,\n",
       "                       max_features=None, max_leaf_nodes=None,\n",
       "                       min_impurity_decrease=0.0, min_impurity_split=None,\n",
       "                       min_samples_leaf=1, min_samples_split=2,\n",
       "                       min_weight_fraction_leaf=0.0, presort=False,\n",
       "                       random_state=0, splitter='best')"
      ]
     },
     "execution_count": 72,
     "metadata": {},
     "output_type": "execute_result"
    }
   ],
   "source": [
    "# Fitting Decision Tree Classification to the Training set\n",
    "from sklearn.tree import DecisionTreeClassifier\n",
    "DecisionTreeModel = DecisionTreeClassifier(criterion = 'entropy', random_state = 0)\n",
    "DecisionTreeModel.fit(X_train, y_train)"
   ]
  },
  {
   "cell_type": "markdown",
   "metadata": {},
   "source": [
    "###  Parameter Settings   "
   ]
  },
  {
   "cell_type": "code",
   "execution_count": null,
   "metadata": {},
   "outputs": [],
   "source": []
  },
  {
   "cell_type": "markdown",
   "metadata": {},
   "source": [
    "### Assess Model "
   ]
  },
  {
   "cell_type": "code",
   "execution_count": 73,
   "metadata": {},
   "outputs": [],
   "source": [
    "# Predicting the Test set results\n",
    "DT_pred = DecisionTreeModel.predict(X_test)"
   ]
  },
  {
   "cell_type": "code",
   "execution_count": 74,
   "metadata": {},
   "outputs": [
    {
     "data": {
      "text/plain": [
       "array([0, 0, 0, ..., 0, 0, 0], dtype=int64)"
      ]
     },
     "execution_count": 74,
     "metadata": {},
     "output_type": "execute_result"
    }
   ],
   "source": [
    "DT_pred"
   ]
  },
  {
   "cell_type": "markdown",
   "metadata": {},
   "source": [
    "### Model Assessment   "
   ]
  },
  {
   "cell_type": "code",
   "execution_count": null,
   "metadata": {},
   "outputs": [],
   "source": []
  },
  {
   "cell_type": "markdown",
   "metadata": {},
   "source": [
    "### Revised Parameter Settings  "
   ]
  },
  {
   "cell_type": "code",
   "execution_count": null,
   "metadata": {},
   "outputs": [],
   "source": []
  },
  {
   "cell_type": "markdown",
   "metadata": {},
   "source": [
    "# IV- Evaluation"
   ]
  },
  {
   "cell_type": "markdown",
   "metadata": {},
   "source": [
    "###   Assessment of Data Analytics Results  \n",
    "* ### Accuracy  \n",
    "Accuracy is perhaps the most intuitive performance measure. It is simply the ratio of correctly predicted observations. Accuracy\n",
    "is not shown in our output but you will see it used everywhere  \n",
    "\n",
    "* ### Precision  \n",
    "Precision looks at the ratio of correct positive observations  \n",
    "\n",
    "* ### Recall  \n",
    "Recall is also known as sensitivity or true positive rate. It is the ratio of correctly predicted positive events  \n",
    "\n",
    "* ### F1 Score  \n",
    "The F1 Score is the weighted average of Precision and recall. Therefore, this score takes both false postives and false negatives into account"
   ]
  },
  {
   "cell_type": "code",
   "execution_count": 75,
   "metadata": {},
   "outputs": [],
   "source": [
    "# Making the Confusion Matrix\n",
    "from sklearn.model_selection import cross_val_score, cross_val_predict\n",
    "from sklearn.metrics import accuracy_score, classification_report, confusion_matrix\n"
   ]
  },
  {
   "cell_type": "code",
   "execution_count": 76,
   "metadata": {},
   "outputs": [
    {
     "data": {
      "text/plain": [
       "array([[98327,   578],\n",
       "       [ 5038,    29]], dtype=int64)"
      ]
     },
     "execution_count": 76,
     "metadata": {},
     "output_type": "execute_result"
    }
   ],
   "source": [
    "# Confusion Matrix\n",
    "cm = confusion_matrix(y_test, DT_pred)\n",
    "cm"
   ]
  },
  {
   "cell_type": "code",
   "execution_count": 77,
   "metadata": {},
   "outputs": [
    {
     "name": "stdout",
     "output_type": "stream",
     "text": [
      "0.9459854576232063\n"
     ]
    }
   ],
   "source": [
    "# Accuracy Score\n",
    "ac = accuracy_score(y_test, DT_pred)\n",
    "print(ac)"
   ]
  },
  {
   "cell_type": "code",
   "execution_count": 78,
   "metadata": {},
   "outputs": [
    {
     "name": "stdout",
     "output_type": "stream",
     "text": [
      "              precision    recall  f1-score   support\n",
      "\n",
      "           0       0.95      0.99      0.97     98905\n",
      "           1       0.05      0.01      0.01      5067\n",
      "\n",
      "    accuracy                           0.95    103972\n",
      "   macro avg       0.50      0.50      0.49    103972\n",
      "weighted avg       0.91      0.95      0.93    103972\n",
      "\n"
     ]
    }
   ],
   "source": [
    "# Classification Report\n",
    "cr = classification_report(y_test, DT_pred)\n",
    "print(cr)"
   ]
  },
  {
   "cell_type": "markdown",
   "metadata": {},
   "source": [
    "### Visualising the Training set results"
   ]
  },
  {
   "cell_type": "code",
   "execution_count": 79,
   "metadata": {},
   "outputs": [
    {
     "ename": "ValueError",
     "evalue": "Number of features of the model must match the input. Model n_features is 8 and input n_features is 2 ",
     "output_type": "error",
     "traceback": [
      "\u001b[1;31m---------------------------------------------------------------------------\u001b[0m",
      "\u001b[1;31mValueError\u001b[0m                                Traceback (most recent call last)",
      "\u001b[1;32m<ipython-input-79-2cddc10851a9>\u001b[0m in \u001b[0;36m<module>\u001b[1;34m\u001b[0m\n\u001b[0;32m      5\u001b[0m X1, X2 = np.meshgrid(np.arange(start = X_set[:, 0].min() - 1, stop = X_set[:, 0].max() + 1, step = 0.01),\n\u001b[0;32m      6\u001b[0m                      np.arange(start = X_set[:, 1].min() - 1, stop = X_set[:, 1].max() + 1, step = 0.01))\n\u001b[1;32m----> 7\u001b[1;33m plt.contourf(X1, X2, DecisionTreeModel.predict(np.array([X1.ravel(), X2.ravel()]).T).reshape(X1.shape),\n\u001b[0m\u001b[0;32m      8\u001b[0m              alpha = 0.75, cmap = ListedColormap(('red', 'green')))\n\u001b[0;32m      9\u001b[0m \u001b[0mplt\u001b[0m\u001b[1;33m.\u001b[0m\u001b[0mxlim\u001b[0m\u001b[1;33m(\u001b[0m\u001b[0mX1\u001b[0m\u001b[1;33m.\u001b[0m\u001b[0mmin\u001b[0m\u001b[1;33m(\u001b[0m\u001b[1;33m)\u001b[0m\u001b[1;33m,\u001b[0m \u001b[0mX1\u001b[0m\u001b[1;33m.\u001b[0m\u001b[0mmax\u001b[0m\u001b[1;33m(\u001b[0m\u001b[1;33m)\u001b[0m\u001b[1;33m)\u001b[0m\u001b[1;33m\u001b[0m\u001b[1;33m\u001b[0m\u001b[0m\n",
      "\u001b[1;32mC:\\Program Files (x86)\\Microsoft Visual Studio\\Shared\\Anaconda2_86\\lib\\site-packages\\sklearn\\tree\\tree.py\u001b[0m in \u001b[0;36mpredict\u001b[1;34m(self, X, check_input)\u001b[0m\n\u001b[0;32m    428\u001b[0m         \"\"\"\n\u001b[0;32m    429\u001b[0m         \u001b[0mcheck_is_fitted\u001b[0m\u001b[1;33m(\u001b[0m\u001b[0mself\u001b[0m\u001b[1;33m,\u001b[0m \u001b[1;34m'tree_'\u001b[0m\u001b[1;33m)\u001b[0m\u001b[1;33m\u001b[0m\u001b[1;33m\u001b[0m\u001b[0m\n\u001b[1;32m--> 430\u001b[1;33m         \u001b[0mX\u001b[0m \u001b[1;33m=\u001b[0m \u001b[0mself\u001b[0m\u001b[1;33m.\u001b[0m\u001b[0m_validate_X_predict\u001b[0m\u001b[1;33m(\u001b[0m\u001b[0mX\u001b[0m\u001b[1;33m,\u001b[0m \u001b[0mcheck_input\u001b[0m\u001b[1;33m)\u001b[0m\u001b[1;33m\u001b[0m\u001b[1;33m\u001b[0m\u001b[0m\n\u001b[0m\u001b[0;32m    431\u001b[0m         \u001b[0mproba\u001b[0m \u001b[1;33m=\u001b[0m \u001b[0mself\u001b[0m\u001b[1;33m.\u001b[0m\u001b[0mtree_\u001b[0m\u001b[1;33m.\u001b[0m\u001b[0mpredict\u001b[0m\u001b[1;33m(\u001b[0m\u001b[0mX\u001b[0m\u001b[1;33m)\u001b[0m\u001b[1;33m\u001b[0m\u001b[1;33m\u001b[0m\u001b[0m\n\u001b[0;32m    432\u001b[0m         \u001b[0mn_samples\u001b[0m \u001b[1;33m=\u001b[0m \u001b[0mX\u001b[0m\u001b[1;33m.\u001b[0m\u001b[0mshape\u001b[0m\u001b[1;33m[\u001b[0m\u001b[1;36m0\u001b[0m\u001b[1;33m]\u001b[0m\u001b[1;33m\u001b[0m\u001b[1;33m\u001b[0m\u001b[0m\n",
      "\u001b[1;32mC:\\Program Files (x86)\\Microsoft Visual Studio\\Shared\\Anaconda2_86\\lib\\site-packages\\sklearn\\tree\\tree.py\u001b[0m in \u001b[0;36m_validate_X_predict\u001b[1;34m(self, X, check_input)\u001b[0m\n\u001b[0;32m    400\u001b[0m                              \u001b[1;34m\"match the input. Model n_features is %s and \"\u001b[0m\u001b[1;33m\u001b[0m\u001b[1;33m\u001b[0m\u001b[0m\n\u001b[0;32m    401\u001b[0m                              \u001b[1;34m\"input n_features is %s \"\u001b[0m\u001b[1;33m\u001b[0m\u001b[1;33m\u001b[0m\u001b[0m\n\u001b[1;32m--> 402\u001b[1;33m                              % (self.n_features_, n_features))\n\u001b[0m\u001b[0;32m    403\u001b[0m \u001b[1;33m\u001b[0m\u001b[0m\n\u001b[0;32m    404\u001b[0m         \u001b[1;32mreturn\u001b[0m \u001b[0mX\u001b[0m\u001b[1;33m\u001b[0m\u001b[1;33m\u001b[0m\u001b[0m\n",
      "\u001b[1;31mValueError\u001b[0m: Number of features of the model must match the input. Model n_features is 8 and input n_features is 2 "
     ]
    }
   ],
   "source": [
    "from matplotlib.colors import ListedColormap\n",
    "plt.rcParams['figure.figsize'] = 20,10 # similar to par(mfrow = c(2,1), mar = c(4,4,2,1)) # 2 columns and 1 row\n",
    "\n",
    "X_set, y_set = X_train, y_train\n",
    "X1, X2 = np.meshgrid(np.arange(start = X_set[:, 0].min() - 1, stop = X_set[:, 0].max() + 1, step = 0.01),\n",
    "                     np.arange(start = X_set[:, 1].min() - 1, stop = X_set[:, 1].max() + 1, step = 0.01))\n",
    "plt.contourf(X1, X2, DecisionTreeModel.predict(np.array([X1.ravel(), X2.ravel()]).T).reshape(X1.shape),\n",
    "             alpha = 0.75, cmap = ListedColormap(('red', 'green')))\n",
    "plt.xlim(X1.min(), X1.max())\n",
    "plt.ylim(X2.min(), X2.max())\n",
    "for i, j in enumerate(np.unique(y_set)):\n",
    "    plt.scatter(X_set[y_set == j, 0], X_set[y_set == j, 1],\n",
    "                c = ListedColormap(('red', 'green'))(i), label = j)\n",
    "plt.title('Decision Tree Classification (Training set)')\n",
    "plt.xlabel('Age')\n",
    "plt.ylabel('Estimated Salary')\n",
    "plt.legend()\n",
    "plt.show()"
   ]
  },
  {
   "cell_type": "markdown",
   "metadata": {},
   "source": [
    "### Visualising the Test set results"
   ]
  },
  {
   "cell_type": "code",
   "execution_count": null,
   "metadata": {},
   "outputs": [],
   "source": [
    "# Visualising the Test set results\n",
    "from matplotlib.colors import ListedColormap\n",
    "plt.rcParams['figure.figsize'] = 20,10 # similar to par(mfrow = c(2,1), mar = c(4,4,2,1)) # 2 columns and 1 row\n",
    "\n",
    "X_set, y_set = X_test, y_test\n",
    "X1, X2 = np.meshgrid(np.arange(start = X_set[:, 0].min() - 1, stop = X_set[:, 0].max() + 1, step = 0.01),\n",
    "                     np.arange(start = X_set[:, 1].min() - 1, stop = X_set[:, 1].max() + 1, step = 0.01))\n",
    "plt.contourf(X1, X2, DecisionTreeModel.predict(np.array([X1.ravel(), X2.ravel()]).T).reshape(X1.shape),\n",
    "             alpha = 0.75, cmap = ListedColormap(('red', 'green')))\n",
    "plt.xlim(X1.min(), X1.max())\n",
    "plt.ylim(X2.min(), X2.max())\n",
    "for i, j in enumerate(np.unique(y_set)):\n",
    "    plt.scatter(X_set[y_set == j, 0], X_set[y_set == j, 1],\n",
    "                c = ListedColormap(('red', 'green'))(i), label = j)\n",
    "plt.title('Decision Tree Classification (Test set)')\n",
    "plt.xlabel('Age')\n",
    "plt.ylabel('Estimated Salary')\n",
    "plt.legend()\n",
    "plt.show()"
   ]
  },
  {
   "cell_type": "markdown",
   "metadata": {},
   "source": [
    "###  Business Success Criteria   "
   ]
  },
  {
   "cell_type": "code",
   "execution_count": null,
   "metadata": {},
   "outputs": [],
   "source": []
  },
  {
   "cell_type": "markdown",
   "metadata": {},
   "source": [
    "### Approved Models  "
   ]
  },
  {
   "cell_type": "code",
   "execution_count": 80,
   "metadata": {},
   "outputs": [],
   "source": [
    "# Import Models \n",
    "import pandas as pd\n",
    "import matplotlib.pyplot as plt\n",
    "from sklearn import model_selection\n",
    "from sklearn.linear_model import LogisticRegression\n",
    "from sklearn.tree import DecisionTreeClassifier\n",
    "from sklearn.neighbors import KNeighborsClassifier\n",
    "from sklearn.discriminant_analysis import LinearDiscriminantAnalysis\n",
    "from sklearn.naive_bayes import GaussianNB\n",
    "from sklearn.svm import SVC"
   ]
  },
  {
   "cell_type": "code",
   "execution_count": 84,
   "metadata": {},
   "outputs": [],
   "source": [
    "# Independent Variables\n",
    "X = dfcorr.iloc[:, [1, 8]].values\n",
    "# Target Variables\n",
    "y = dfcorr.iloc[:, 8].values"
   ]
  },
  {
   "cell_type": "code",
   "execution_count": 85,
   "metadata": {},
   "outputs": [],
   "source": [
    "# Set the seet and  create the Models\n",
    "seed=7\n",
    "models = []\n",
    "models.append(('LR', LogisticRegression()))\n",
    "models.append(('LDA', LinearDiscriminantAnalysis()))\n",
    "models.append(('KNN', KNeighborsClassifier()))\n",
    "models.append(('CART', DecisionTreeClassifier()))\n",
    "models.append(('NB', GaussianNB()))\n",
    "models.append(('SVM', SVC()))"
   ]
  },
  {
   "cell_type": "code",
   "execution_count": 86,
   "metadata": {},
   "outputs": [
    {
     "name": "stdout",
     "output_type": "stream",
     "text": [
      "LR: 1.000000 (0.000000)\n",
      "LDA: 0.950397 (0.001734)\n",
      "KNN: 0.999994 (0.000012)\n",
      "CART: 1.000000 (0.000000)\n",
      "NB: 1.000000 (0.000000)\n",
      "SVM: 1.000000 (0.000000)\n"
     ]
    }
   ],
   "source": [
    "# Split the data using KFold\n",
    "results=[]\n",
    "names =[]\n",
    "scoring='accuracy'\n",
    "for name,model in models:\n",
    "    kfold = model_selection.KFold(n_splits=10, random_state=seed)\n",
    "    cv_results = model_selection.cross_val_score(model, X, y, cv=kfold, scoring=scoring)\n",
    "    results.append(cv_results)\n",
    "    names.append(name)\n",
    "    msg =  \"%s: %f (%f)\" % (name, cv_results.mean(), cv_results.std())\n",
    "    print(msg)"
   ]
  },
  {
   "cell_type": "code",
   "execution_count": 87,
   "metadata": {},
   "outputs": [
    {
     "data": {
      "text/plain": [
       "Text(0.5, 0.98, ' Algo Comparison')"
      ]
     },
     "execution_count": 87,
     "metadata": {},
     "output_type": "execute_result"
    },
    {
     "data": {
      "text/plain": [
       "{'whiskers': [<matplotlib.lines.Line2D at 0x669f2b0>,\n",
       "  <matplotlib.lines.Line2D at 0x669f5d0>,\n",
       "  <matplotlib.lines.Line2D at 0x66a9750>,\n",
       "  <matplotlib.lines.Line2D at 0x669ffd0>,\n",
       "  <matplotlib.lines.Line2D at 0x66b17b0>,\n",
       "  <matplotlib.lines.Line2D at 0x66b1a10>,\n",
       "  <matplotlib.lines.Line2D at 0x66b88b0>,\n",
       "  <matplotlib.lines.Line2D at 0x66b8b10>,\n",
       "  <matplotlib.lines.Line2D at 0x66c3990>,\n",
       "  <matplotlib.lines.Line2D at 0x66c3a30>,\n",
       "  <matplotlib.lines.Line2D at 0x66cb890>,\n",
       "  <matplotlib.lines.Line2D at 0x66cba70>],\n",
       " 'caps': [<matplotlib.lines.Line2D at 0x669f850>,\n",
       "  <matplotlib.lines.Line2D at 0x669fab0>,\n",
       "  <matplotlib.lines.Line2D at 0x66a9bb0>,\n",
       "  <matplotlib.lines.Line2D at 0x66a9e10>,\n",
       "  <matplotlib.lines.Line2D at 0x66b1ab0>,\n",
       "  <matplotlib.lines.Line2D at 0x66b1ef0>,\n",
       "  <matplotlib.lines.Line2D at 0x66b8d70>,\n",
       "  <matplotlib.lines.Line2D at 0x66b1f70>,\n",
       "  <matplotlib.lines.Line2D at 0x66c3e50>,\n",
       "  <matplotlib.lines.Line2D at 0x66b1c90>,\n",
       "  <matplotlib.lines.Line2D at 0x66cbcd0>,\n",
       "  <matplotlib.lines.Line2D at 0x66cbf30>],\n",
       " 'boxes': [<matplotlib.lines.Line2D at 0x669f290>,\n",
       "  <matplotlib.lines.Line2D at 0x66a94d0>,\n",
       "  <matplotlib.lines.Line2D at 0x66b1590>,\n",
       "  <matplotlib.lines.Line2D at 0x66b8650>,\n",
       "  <matplotlib.lines.Line2D at 0x66c3750>,\n",
       "  <matplotlib.lines.Line2D at 0x66cb830>],\n",
       " 'medians': [<matplotlib.lines.Line2D at 0x669fd10>,\n",
       "  <matplotlib.lines.Line2D at 0x669ff70>,\n",
       "  <matplotlib.lines.Line2D at 0x66b1f90>,\n",
       "  <matplotlib.lines.Line2D at 0x66c3250>,\n",
       "  <matplotlib.lines.Line2D at 0x66cb310>,\n",
       "  <matplotlib.lines.Line2D at 0x66d4410>],\n",
       " 'fliers': [<matplotlib.lines.Line2D at 0x66a9210>,\n",
       "  <matplotlib.lines.Line2D at 0x66b12f0>,\n",
       "  <matplotlib.lines.Line2D at 0x66b83f0>,\n",
       "  <matplotlib.lines.Line2D at 0x66c34b0>,\n",
       "  <matplotlib.lines.Line2D at 0x66cb570>,\n",
       "  <matplotlib.lines.Line2D at 0x66d4670>],\n",
       " 'means': []}"
      ]
     },
     "execution_count": 87,
     "metadata": {},
     "output_type": "execute_result"
    },
    {
     "data": {
      "text/plain": [
       "[Text(0, 0, 'LR'),\n",
       " Text(0, 0, 'LDA'),\n",
       " Text(0, 0, 'KNN'),\n",
       " Text(0, 0, 'CART'),\n",
       " Text(0, 0, 'NB'),\n",
       " Text(0, 0, 'SVM')]"
      ]
     },
     "execution_count": 87,
     "metadata": {},
     "output_type": "execute_result"
    },
    {
     "data": {
      "image/png": "[encoded data removed]",
      "text/plain": [
       "<Figure size 1440x720 with 1 Axes>"
      ]
     },
     "metadata": {
      "needs_background": "light"
     },
     "output_type": "display_data"
    }
   ],
   "source": [
    "#Compare the end result \n",
    "fig = plt.figure()\n",
    "fig.suptitle(' Algo Comparison')\n",
    "ax = fig.add_subplot(111)\n",
    "plt.boxplot(results)\n",
    "ax.set_xticklabels(names)\n",
    "plt.show()"
   ]
  },
  {
   "cell_type": "markdown",
   "metadata": {},
   "source": [
    "###  Review Process Review of Process  "
   ]
  },
  {
   "cell_type": "code",
   "execution_count": null,
   "metadata": {},
   "outputs": [],
   "source": []
  },
  {
   "cell_type": "markdown",
   "metadata": {},
   "source": [
    "###  Determine Next Steps   "
   ]
  },
  {
   "cell_type": "code",
   "execution_count": null,
   "metadata": {},
   "outputs": [],
   "source": []
  },
  {
   "cell_type": "markdown",
   "metadata": {},
   "source": [
    "###  List of Possible Actions Decision  "
   ]
  },
  {
   "cell_type": "code",
   "execution_count": null,
   "metadata": {},
   "outputs": [],
   "source": []
  },
  {
   "cell_type": "markdown",
   "metadata": {},
   "source": [
    "###  Review Recommendations to Organization"
   ]
  },
  {
   "cell_type": "code",
   "execution_count": null,
   "metadata": {},
   "outputs": [],
   "source": []
  },
  {
   "cell_type": "markdown",
   "metadata": {},
   "source": [
    "# V- References\n",
    " Please provide at least 5 references."
   ]
  },
  {
   "cell_type": "code",
   "execution_count": null,
   "metadata": {},
   "outputs": [],
   "source": []
  }
 ],
 "metadata": {
  "kernelspec": {
   "display_name": "Python 3",
   "language": "python",
   "name": "python3"
  },
  "language_info": {
   "codemirror_mode": {
    "name": "ipython",
    "version": 3
   },
   "file_extension": ".py",
   "mimetype": "text/x-python",
   "name": "python",
   "nbconvert_exporter": "python",
   "pygments_lexer": "ipython3",
   "version": "3.7.4"
  },
  "varInspector": {
   "cols": {
    "lenName": 16,
    "lenType": 16,
    "lenVar": 40
   },
   "kernels_config": {
    "python": {
     "delete_cmd_postfix": "",
     "delete_cmd_prefix": "del ",
     "library": "var_list.py",
     "varRefreshCmd": "print(var_dic_list())"
    },
    "r": {
     "delete_cmd_postfix": ") ",
     "delete_cmd_prefix": "rm(",
     "library": "var_list.r",
     "varRefreshCmd": "cat(var_dic_list()) "
    }
   },
   "types_to_exclude": [
    "module",
    "function",
    "builtin_function_or_method",
    "instance",
    "_Feature"
   ],
   "window_display": false
  }
 },
 "nbformat": 4,
 "nbformat_minor": 2
}
