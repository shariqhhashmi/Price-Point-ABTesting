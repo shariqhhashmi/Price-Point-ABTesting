{
 "cells": [
  {
   "cell_type": "markdown",
   "metadata": {},
   "source": [
    " # Pricing Test - Project "
   ]
  },
  {
   "attachments": {
    "PricingStrategyDemandCurve.png": {
     "image/png": "[encoded data removed]"
    }
   },
   "cell_type": "markdown",
   "metadata": {},
   "source": [
    "### Project overview\n",
    "Pricing is one of toughest challenges for most companies.\n",
    "\n",
    "To begin, there are different pricing methodologies depending on the industry, product, brand power, and so on. And to make things trickier, a product can command drastically different prices depending on the context.\n",
    "\n",
    "When a company changes prices for a product, the quantity sold changes as well. In economics, this relationship is depicted as a demand curve.![PricingStrategyDemandCurve.png](attachment:PricingStrategyDemandCurve.png)\n",
    "\n",
    "\n",
    "\n",
    "\n",
    "In practice, you'll usually have 2-3 price points to analyze. You'll be fine as long as you remember that Earnings = Price * Quantity."
   ]
  },
  {
   "cell_type": "markdown",
   "metadata": {},
   "source": [
    "### Example Pricing Strategy"
   ]
  },
  {
   "cell_type": "markdown",
   "metadata": {},
   "source": [
    "Let's take a bottle of water for example. For \\$2, you could buy a 6-pack of bottled water at a supermarket. However, the same $2 might only afford you one bottle at a movie theatre.\n",
    "\n",
    "As a result, companies will try to find the optimal price, that which maximizes earnings (a.k.a. \"gross revenue\"), for their market."
   ]
  },
  {
   "cell_type": "markdown",
   "metadata": {},
   "source": [
    "# I- Executive Summary"
   ]
  },
  {
   "cell_type": "markdown",
   "metadata": {},
   "source": [
    "Intro and background: The business collected the data of website visitors while running a promotion for leisure & fun activity. \n",
    "Industry: Leisure & fun activity. \n",
    "Location: Delaware River, DE.\n",
    "Final Goal: To set a price point for their service to increase the sales based on the customer profiles that will be generated using the Data Mining and Statistical Analysis.\n",
    "Analytics Goal (DM Goal): To find which of the customers booked the service and at what price point along with other details. "
   ]
  },
  {
   "cell_type": "markdown",
   "metadata": {},
   "source": [
    "### Additional Info\n",
    "Project Plan Break-down: Pricing Test.\n",
    "\n",
    "PSM Price Sensitivity Meter This method is based on the premise that there is a range of prices bounded by a maximum that a consumer is prepared to spend and a minimum below which credibility is in doubt. In this method respondents must ask to four price-related questions:  \n",
    "1) At what price would you consider the product to be so expensive that you would not consider buying it, and it becomes too expensive? \n",
    "\n",
    "2) At what price would you consider the product to be priced so low that you would feel the quality couldn’t be very good, and it becomes too inexpensive?  \n",
    "\n",
    "3) At what price would you consider the product starting to get expensive, so that it is not out of the question, but you would have to give some thought to buying it - Expensive?  \n",
    "\n",
    "4) At what price would you consider the product to be a bargain – a great buy for the money and is inexpensive.\n",
    "https://www.slideshare.net/soniacasneuf/em-pricing\n"
   ]
  },
  {
   "cell_type": "markdown",
   "metadata": {},
   "source": [
    "# II- Business Understanding"
   ]
  },
  {
   "cell_type": "markdown",
   "metadata": {},
   "source": [
    "### Define Organization  "
   ]
  },
  {
   "cell_type": "markdown",
   "metadata": {},
   "source": [
    "The organization is a small company that sells rafting trips at the Delaware River. The company wants to optimize a price point for increasing the business sales and profitability. Business ran a promotion and advertised it on multiple sources to get potential visits to its website and an eventual sale of one of the service provided. Based on these visits a set of data was captured to create some customer profiles and discover some data patterns."
   ]
  },
  {
   "cell_type": "markdown",
   "metadata": {},
   "source": [
    "###  Organization  "
   ]
  },
  {
   "cell_type": "markdown",
   "metadata": {},
   "source": [
    "The organization deals in offering & advertising fun and leisure activity to their customers via various internet based sources. Business offered some limited time promotions for their website visitors to increase the sales."
   ]
  },
  {
   "cell_type": "markdown",
   "metadata": {},
   "source": [
    "###  Intended Stakeholders of Data  "
   ]
  },
  {
   "cell_type": "markdown",
   "metadata": {},
   "source": [
    "The organization stake holders are the business owners, business development managers and marketing team."
   ]
  },
  {
   "cell_type": "markdown",
   "metadata": {},
   "source": [
    "###  Define Business Objectives   "
   ]
  },
  {
   "cell_type": "markdown",
   "metadata": {},
   "source": [
    "Business ran some promotions and collected some data to analyze a few price points which will help increase business profitability and sales.\n",
    "Analytics Goal (Data Mining Goal): To find which of the customers booked the service and at what price point along with other details.\n",
    "Final Goal: To set a price point for their service to increase the sales based on the customer profiles that will be generated using the Data Mining and Statistical Analysis.\n"
   ]
  },
  {
   "cell_type": "markdown",
   "metadata": {},
   "source": [
    "###  Background   "
   ]
  },
  {
   "cell_type": "markdown",
   "metadata": {},
   "source": [
    "Business ran a promotion and advertised it on multiple sources to get potential visits to its website and an eventual sale of one of the service provided. Based on these visits a set of data was captured to create some customer profiles and discover some data patterns."
   ]
  },
  {
   "cell_type": "markdown",
   "metadata": {},
   "source": [
    "### Business Objectives   "
   ]
  },
  {
   "cell_type": "markdown",
   "metadata": {},
   "source": [
    "Business wants to discover the type of customers that are willing to purchase their service and based on this data, a data analytics model needs to be generated to optimize a price point which could be offered to the potential customers who share the same profile with the previous customers that purchased the service."
   ]
  },
  {
   "cell_type": "markdown",
   "metadata": {},
   "source": [
    "### Business Success Criteria  "
   ]
  },
  {
   "cell_type": "markdown",
   "metadata": {},
   "source": [
    "Since the Business’ sole intent is to increase sales based on the customer booking a trip, the success criteria would be to develop a model that would make a customer purchase or book a trip with the company. Business should define a set no. of customers that book the trip in a limited time promotion."
   ]
  },
  {
   "cell_type": "markdown",
   "metadata": {},
   "source": [
    "### Situation Assessment  "
   ]
  },
  {
   "cell_type": "markdown",
   "metadata": {},
   "source": [
    "-\tIn the given data set snap-shot, the price point shown, how was this price point decided?\n",
    "-\tList of hardware and software resources available and can be used?\n",
    "-\tDetail description of data sources, ads sources.\n",
    "-\tCalculate the location distance from most frequent visitors to the destination.\n",
    "-\tDay & Time of the week when the promo was ran?\n",
    "-\tWhat is the absolute best or lowest price that could be offered to the visitors without losing out on business profitability and customers?\n",
    "-\tExternal Source data: get US national holidays and long weekends to match with the promo price and responses with bookings.\n",
    "-\tIdentify competing objectives and constraints that need to be properly balanced. Ex. Not too high price and not too low price. \n",
    "-\tConstraints: unfavorable weather days cannot generate a low turnout even at optimal price point.\n",
    "-\tList of assumptions considered?\n",
    "-\tProblem areas to attain the price point? \n",
    "-\tBackground knowledge of the business and promotion run. Why was the promotion conducted at first?\n",
    "-\tList of available professional resources: DBAs, BAs, data engineer, data ETL expert, domain expert\n"
   ]
  },
  {
   "cell_type": "markdown",
   "metadata": {},
   "source": [
    "### Inventory of Resources Requirements  "
   ]
  },
  {
   "attachments": {
    "PricingStrategyInventoryResources.PNG": {
     "image/png": "[encoded data removed]"
    }
   },
   "cell_type": "markdown",
   "metadata": {},
   "source": [
    "![PricingStrategyInventoryResources.PNG](attachment:PricingStrategyInventoryResources.PNG)"
   ]
  },
  {
   "cell_type": "markdown",
   "metadata": {},
   "source": [
    "### Assumptions, and Constraints   "
   ]
  },
  {
   "cell_type": "markdown",
   "metadata": {},
   "source": [
    "Constraints: \n",
    "-\tUnfavorable weather days cannot generate a low turnout even at optimal price point.\n",
    "-\tIdentify competing objectives and constraints that need to be properly balanced. Ex. Not too high price and not too low price. \n",
    "-\tThe customer booking can only be increased to a certain limit and cannot surpass the said limit even at an optimal price point.\n",
    "\n",
    "Assumptions:\n",
    "-\tAssuming that the data collected has a level of integrity.\n",
    "-\tAssuming the business analysts inputs are an integral part of business goal and are in-line with the stake-holders’ expectations.\n"
   ]
  },
  {
   "cell_type": "markdown",
   "metadata": {},
   "source": [
    "### Risks and Contingencies   "
   ]
  },
  {
   "cell_type": "markdown",
   "metadata": {},
   "source": [
    "Risks:\n",
    "-\tMissed out or undefined business goals\n",
    "-\tData problems, technology problems\n",
    "-\tData problems, technology problems\n",
    "-\tTechnology problems, inability to find adequate model, fix data problems-go to Data Understanding & Prep. NO garbage IN garbage OUT\n",
    "-\tEconomic change, inability to implement results, any business issue that has not been sufficiently considered or resolved\n",
    "-\tEconomic change, inability to implement results\n"
   ]
  },
  {
   "cell_type": "markdown",
   "metadata": {},
   "source": [
    "### Terminology   "
   ]
  },
  {
   "cell_type": "markdown",
   "metadata": {},
   "source": [
    "Business Terminology: \n",
    "-\tServices offered \n",
    "-\tLocations of availability\n",
    "-\tExisting price point considerations\n",
    "Data Mining Terminology:\n",
    "-\tETL terminology\n",
    "-\tData modeling terminology\n",
    "-\tBasic statistical terminologies\n"
   ]
  },
  {
   "cell_type": "markdown",
   "metadata": {},
   "source": [
    "### Costs and Benefits  "
   ]
  },
  {
   "cell_type": "markdown",
   "metadata": {},
   "source": [
    "-\tData driven decisions are much closer to success goals.\n",
    "-\tPromotions when offered at the right time and right price, will increase the business profitability and sales.\n",
    "-\tThis project will give the business a thorough idea of the data to be collected as the current data when analyzed will provide the gaps, missing information, outliers, anomalies and the final cost of promotion and the related sales by calculating the target variable. The target variable will give the final count of no. of bookings and the parameters that driven the bookings.\n",
    "-\tEstimation of operating costs of project\n",
    "-\tEstimation of hired resource or staff augmentation.\n",
    "-\tEstimation of any new software and hardware added for the project.\n"
   ]
  },
  {
   "cell_type": "markdown",
   "metadata": {},
   "source": [
    "### Produce Project Plan   "
   ]
  },
  {
   "cell_type": "markdown",
   "metadata": {},
   "source": [
    "-\tTimeline of Project:\n",
    "-\tResource Allocation:\n",
    "-\tHardware & software procurement or lease:\n"
   ]
  },
  {
   "cell_type": "markdown",
   "metadata": {},
   "source": [
    "### Project Plan   "
   ]
  },
  {
   "cell_type": "markdown",
   "metadata": {},
   "source": [
    "-\tList of Milestones:\n",
    "-\tBusiness goals identification:\n",
    "-\tData Collection and description:\n",
    "-\tData preparation & ETL:\n",
    "-\tStatistical Model Generation & Analysis:\n",
    "-\tModel Evaluation by business users & stake holders:\n",
    "-\tModel Deployment:\n"
   ]
  },
  {
   "cell_type": "markdown",
   "metadata": {},
   "source": [
    "### Define Business Analytics Goal"
   ]
  },
  {
   "cell_type": "markdown",
   "metadata": {},
   "source": [
    "#### Business Analytics Goals"
   ]
  },
  {
   "cell_type": "markdown",
   "metadata": {},
   "source": [
    "##### Target Variable Identification\n",
    "Target valriable is identified as \"BOOKED\". This shows if the customer booked the trip based on the price point provided"
   ]
  },
  {
   "cell_type": "markdown",
   "metadata": {},
   "source": [
    "### Business Analytics Success Criteria  "
   ]
  },
  {
   "cell_type": "code",
   "execution_count": null,
   "metadata": {},
   "outputs": [],
   "source": []
  },
  {
   "cell_type": "markdown",
   "metadata": {},
   "source": [
    "# III- Data Understanding"
   ]
  },
  {
   "cell_type": "code",
   "execution_count": 145,
   "metadata": {},
   "outputs": [],
   "source": [
    "# Importing the libraries\n",
    "import numpy as np\n",
    "import matplotlib.pyplot as plt\n",
    "import pandas as pd\n",
    "import seaborn as sns\n",
    "import copy\n",
    "import warnings \n",
    "warnings.filterwarnings('ignore')"
   ]
  },
  {
   "cell_type": "code",
   "execution_count": 3,
   "metadata": {},
   "outputs": [],
   "source": [
    " "
   ]
  },
  {
   "cell_type": "markdown",
   "metadata": {},
   "source": [
    "### Collect Initial Data   "
   ]
  },
  {
   "cell_type": "code",
   "execution_count": 4,
   "metadata": {},
   "outputs": [
    {
     "data": {
      "text/html": [
       "<div>\n",
       "<style scoped>\n",
       "    .dataframe tbody tr th:only-of-type {\n",
       "        vertical-align: middle;\n",
       "    }\n",
       "\n",
       "    .dataframe tbody tr th {\n",
       "        vertical-align: top;\n",
       "    }\n",
       "\n",
       "    .dataframe thead th {\n",
       "        text-align: right;\n",
       "    }\n",
       "</style>\n",
       "<table border=\"1\" class=\"dataframe\">\n",
       "  <thead>\n",
       "    <tr style=\"text-align: right;\">\n",
       "      <th></th>\n",
       "      <th>user_id</th>\n",
       "      <th>date</th>\n",
       "      <th>source</th>\n",
       "      <th>device</th>\n",
       "      <th>OS</th>\n",
       "      <th>test</th>\n",
       "      <th>price</th>\n",
       "      <th>booked</th>\n",
       "    </tr>\n",
       "  </thead>\n",
       "  <tbody>\n",
       "    <tr>\n",
       "      <th>0</th>\n",
       "      <td>39020704</td>\n",
       "      <td>2017-05-23</td>\n",
       "      <td>Unknown</td>\n",
       "      <td>mobile</td>\n",
       "      <td>iOS</td>\n",
       "      <td>0</td>\n",
       "      <td>199</td>\n",
       "      <td>0</td>\n",
       "    </tr>\n",
       "    <tr>\n",
       "      <th>1</th>\n",
       "      <td>52206111</td>\n",
       "      <td>2017-05-29</td>\n",
       "      <td>Bing</td>\n",
       "      <td>desktop</td>\n",
       "      <td>windows</td>\n",
       "      <td>0</td>\n",
       "      <td>199</td>\n",
       "      <td>0</td>\n",
       "    </tr>\n",
       "    <tr>\n",
       "      <th>2</th>\n",
       "      <td>66027032</td>\n",
       "      <td>2017-05-11</td>\n",
       "      <td>Facebook</td>\n",
       "      <td>mobile</td>\n",
       "      <td>other</td>\n",
       "      <td>0</td>\n",
       "      <td>199</td>\n",
       "      <td>0</td>\n",
       "    </tr>\n",
       "    <tr>\n",
       "      <th>3</th>\n",
       "      <td>5055592</td>\n",
       "      <td>2017-05-24</td>\n",
       "      <td>Google</td>\n",
       "      <td>mobile</td>\n",
       "      <td>android</td>\n",
       "      <td>1</td>\n",
       "      <td>299</td>\n",
       "      <td>0</td>\n",
       "    </tr>\n",
       "    <tr>\n",
       "      <th>4</th>\n",
       "      <td>30822063</td>\n",
       "      <td>2017-06-30</td>\n",
       "      <td>Adwords</td>\n",
       "      <td>desktop</td>\n",
       "      <td>windows</td>\n",
       "      <td>0</td>\n",
       "      <td>199</td>\n",
       "      <td>0</td>\n",
       "    </tr>\n",
       "  </tbody>\n",
       "</table>\n",
       "</div>"
      ],
      "text/plain": [
       "    user_id        date    source   device       OS  test  price  booked\n",
       "0  39020704  2017-05-23   Unknown   mobile      iOS     0    199       0\n",
       "1  52206111  2017-05-29      Bing  desktop  windows     0    199       0\n",
       "2  66027032  2017-05-11  Facebook   mobile    other     0    199       0\n",
       "3   5055592  2017-05-24    Google   mobile  android     1    299       0\n",
       "4  30822063  2017-06-30   Adwords  desktop  windows     0    199       0"
      ]
     },
     "execution_count": 4,
     "metadata": {},
     "output_type": "execute_result"
    }
   ],
   "source": [
    "# Load CSV Using Python Standard Library\n",
    "promo = pd.read_csv('promo_results.csv')\n",
    "promo.head()"
   ]
  },
  {
   "cell_type": "code",
   "execution_count": 5,
   "metadata": {},
   "outputs": [
    {
     "data": {
      "text/html": [
       "<div>\n",
       "<style scoped>\n",
       "    .dataframe tbody tr th:only-of-type {\n",
       "        vertical-align: middle;\n",
       "    }\n",
       "\n",
       "    .dataframe tbody tr th {\n",
       "        vertical-align: top;\n",
       "    }\n",
       "\n",
       "    .dataframe thead th {\n",
       "        text-align: right;\n",
       "    }\n",
       "</style>\n",
       "<table border=\"1\" class=\"dataframe\">\n",
       "  <thead>\n",
       "    <tr style=\"text-align: right;\">\n",
       "      <th></th>\n",
       "      <th>user_id</th>\n",
       "      <th>state</th>\n",
       "      <th>country</th>\n",
       "    </tr>\n",
       "  </thead>\n",
       "  <tbody>\n",
       "    <tr>\n",
       "      <th>0</th>\n",
       "      <td>13450647</td>\n",
       "      <td>PA</td>\n",
       "      <td>USA</td>\n",
       "    </tr>\n",
       "    <tr>\n",
       "      <th>1</th>\n",
       "      <td>49333063</td>\n",
       "      <td>PA</td>\n",
       "      <td>USA</td>\n",
       "    </tr>\n",
       "    <tr>\n",
       "      <th>2</th>\n",
       "      <td>97859466</td>\n",
       "      <td>PA</td>\n",
       "      <td>USA</td>\n",
       "    </tr>\n",
       "    <tr>\n",
       "      <th>3</th>\n",
       "      <td>39218008</td>\n",
       "      <td>PA</td>\n",
       "      <td>USA</td>\n",
       "    </tr>\n",
       "    <tr>\n",
       "      <th>4</th>\n",
       "      <td>92067917</td>\n",
       "      <td>NY</td>\n",
       "      <td>USA</td>\n",
       "    </tr>\n",
       "  </tbody>\n",
       "</table>\n",
       "</div>"
      ],
      "text/plain": [
       "    user_id state country\n",
       "0  13450647    PA     USA\n",
       "1  49333063    PA     USA\n",
       "2  97859466    PA     USA\n",
       "3  39218008    PA     USA\n",
       "4  92067917    NY     USA"
      ]
     },
     "execution_count": 5,
     "metadata": {},
     "output_type": "execute_result"
    }
   ],
   "source": [
    "user = pd.read_csv('user_data.csv')\n",
    "user.head()"
   ]
  },
  {
   "cell_type": "markdown",
   "metadata": {},
   "source": [
    "### Initial Data Collection Report   "
   ]
  },
  {
   "cell_type": "markdown",
   "metadata": {},
   "source": [
    "•\tSource - Marketing channel that visitor came from.  \n",
    "•\treturning - Has the visitor been to the website before?  \n",
    "•\tmobile - Device (mobile / desktop). Tablets count as mobile.  \n",
    "•\tcountry - Visitor country based on IP address.  \n",
    "•\tpages_viewed - Number of pages viewed in the session.  \n",
    "•\tlead - Did the visitor opt into email list during the session "
   ]
  },
  {
   "cell_type": "markdown",
   "metadata": {},
   "source": [
    "###   Describe Data at High Level   "
   ]
  },
  {
   "cell_type": "code",
   "execution_count": 6,
   "metadata": {},
   "outputs": [
    {
     "data": {
      "text/html": [
       "<div>\n",
       "<style scoped>\n",
       "    .dataframe tbody tr th:only-of-type {\n",
       "        vertical-align: middle;\n",
       "    }\n",
       "\n",
       "    .dataframe tbody tr th {\n",
       "        vertical-align: top;\n",
       "    }\n",
       "\n",
       "    .dataframe thead th {\n",
       "        text-align: right;\n",
       "    }\n",
       "</style>\n",
       "<table border=\"1\" class=\"dataframe\">\n",
       "  <thead>\n",
       "    <tr style=\"text-align: right;\">\n",
       "      <th></th>\n",
       "      <th>user_id</th>\n",
       "      <th>test</th>\n",
       "      <th>price</th>\n",
       "      <th>booked</th>\n",
       "    </tr>\n",
       "  </thead>\n",
       "  <tbody>\n",
       "    <tr>\n",
       "      <th>count</th>\n",
       "      <td>2.688780e+05</td>\n",
       "      <td>268878.000000</td>\n",
       "      <td>268878.000000</td>\n",
       "      <td>268878.000000</td>\n",
       "    </tr>\n",
       "    <tr>\n",
       "      <th>mean</th>\n",
       "      <td>5.006635e+07</td>\n",
       "      <td>0.360401</td>\n",
       "      <td>235.052782</td>\n",
       "      <td>0.018332</td>\n",
       "    </tr>\n",
       "    <tr>\n",
       "      <th>std</th>\n",
       "      <td>2.891373e+07</td>\n",
       "      <td>0.480118</td>\n",
       "      <td>48.015453</td>\n",
       "      <td>0.134148</td>\n",
       "    </tr>\n",
       "    <tr>\n",
       "      <th>min</th>\n",
       "      <td>2.100000e+01</td>\n",
       "      <td>0.000000</td>\n",
       "      <td>199.000000</td>\n",
       "      <td>0.000000</td>\n",
       "    </tr>\n",
       "    <tr>\n",
       "      <th>25%</th>\n",
       "      <td>2.505596e+07</td>\n",
       "      <td>0.000000</td>\n",
       "      <td>199.000000</td>\n",
       "      <td>0.000000</td>\n",
       "    </tr>\n",
       "    <tr>\n",
       "      <th>50%</th>\n",
       "      <td>4.994463e+07</td>\n",
       "      <td>0.000000</td>\n",
       "      <td>199.000000</td>\n",
       "      <td>0.000000</td>\n",
       "    </tr>\n",
       "    <tr>\n",
       "      <th>75%</th>\n",
       "      <td>7.521010e+07</td>\n",
       "      <td>1.000000</td>\n",
       "      <td>299.000000</td>\n",
       "      <td>0.000000</td>\n",
       "    </tr>\n",
       "    <tr>\n",
       "      <th>max</th>\n",
       "      <td>9.999993e+07</td>\n",
       "      <td>1.000000</td>\n",
       "      <td>299.000000</td>\n",
       "      <td>1.000000</td>\n",
       "    </tr>\n",
       "  </tbody>\n",
       "</table>\n",
       "</div>"
      ],
      "text/plain": [
       "            user_id           test          price         booked\n",
       "count  2.688780e+05  268878.000000  268878.000000  268878.000000\n",
       "mean   5.006635e+07       0.360401     235.052782       0.018332\n",
       "std    2.891373e+07       0.480118      48.015453       0.134148\n",
       "min    2.100000e+01       0.000000     199.000000       0.000000\n",
       "25%    2.505596e+07       0.000000     199.000000       0.000000\n",
       "50%    4.994463e+07       0.000000     199.000000       0.000000\n",
       "75%    7.521010e+07       1.000000     299.000000       0.000000\n",
       "max    9.999993e+07       1.000000     299.000000       1.000000"
      ]
     },
     "execution_count": 6,
     "metadata": {},
     "output_type": "execute_result"
    }
   ],
   "source": [
    "promo.describe()"
   ]
  },
  {
   "cell_type": "code",
   "execution_count": 7,
   "metadata": {},
   "outputs": [
    {
     "data": {
      "text/html": [
       "<div>\n",
       "<style scoped>\n",
       "    .dataframe tbody tr th:only-of-type {\n",
       "        vertical-align: middle;\n",
       "    }\n",
       "\n",
       "    .dataframe tbody tr th {\n",
       "        vertical-align: top;\n",
       "    }\n",
       "\n",
       "    .dataframe thead th {\n",
       "        text-align: right;\n",
       "    }\n",
       "</style>\n",
       "<table border=\"1\" class=\"dataframe\">\n",
       "  <thead>\n",
       "    <tr style=\"text-align: right;\">\n",
       "      <th></th>\n",
       "      <th>user_id</th>\n",
       "    </tr>\n",
       "  </thead>\n",
       "  <tbody>\n",
       "    <tr>\n",
       "      <th>count</th>\n",
       "      <td>2.339600e+05</td>\n",
       "    </tr>\n",
       "    <tr>\n",
       "      <th>mean</th>\n",
       "      <td>5.009154e+07</td>\n",
       "    </tr>\n",
       "    <tr>\n",
       "      <th>std</th>\n",
       "      <td>2.890473e+07</td>\n",
       "    </tr>\n",
       "    <tr>\n",
       "      <th>min</th>\n",
       "      <td>2.100000e+01</td>\n",
       "    </tr>\n",
       "    <tr>\n",
       "      <th>25%</th>\n",
       "      <td>2.506435e+07</td>\n",
       "    </tr>\n",
       "    <tr>\n",
       "      <th>50%</th>\n",
       "      <td>4.998824e+07</td>\n",
       "    </tr>\n",
       "    <tr>\n",
       "      <th>75%</th>\n",
       "      <td>7.522919e+07</td>\n",
       "    </tr>\n",
       "    <tr>\n",
       "      <th>max</th>\n",
       "      <td>9.999993e+07</td>\n",
       "    </tr>\n",
       "  </tbody>\n",
       "</table>\n",
       "</div>"
      ],
      "text/plain": [
       "            user_id\n",
       "count  2.339600e+05\n",
       "mean   5.009154e+07\n",
       "std    2.890473e+07\n",
       "min    2.100000e+01\n",
       "25%    2.506435e+07\n",
       "50%    4.998824e+07\n",
       "75%    7.522919e+07\n",
       "max    9.999993e+07"
      ]
     },
     "execution_count": 7,
     "metadata": {},
     "output_type": "execute_result"
    }
   ],
   "source": [
    "user.describe()"
   ]
  },
  {
   "cell_type": "code",
   "execution_count": 6,
   "metadata": {},
   "outputs": [
    {
     "data": {
      "text/plain": [
       "booked\n",
       "0    263949\n",
       "1      4929\n",
       "dtype: int64"
      ]
     },
     "execution_count": 6,
     "metadata": {},
     "output_type": "execute_result"
    }
   ],
   "source": [
    "# Class Distribution Group by BOOKED\n",
    "class_counts = promo.groupby('booked').size()\n",
    "class_counts\n"
   ]
  },
  {
   "cell_type": "code",
   "execution_count": 7,
   "metadata": {},
   "outputs": [
    {
     "data": {
      "text/plain": [
       "state\n",
       "NJ     53754\n",
       "NY    100720\n",
       "PA     79486\n",
       "dtype: int64"
      ]
     },
     "execution_count": 7,
     "metadata": {},
     "output_type": "execute_result"
    }
   ],
   "source": [
    "# Class Distribution Group by USER ID\n",
    "class_counts = user.groupby('state').size()\n",
    "class_counts"
   ]
  },
  {
   "cell_type": "markdown",
   "metadata": {},
   "source": [
    "##### Initial data integrity check. \n",
    "checking for duplicate user ID."
   ]
  },
  {
   "cell_type": "code",
   "execution_count": 8,
   "metadata": {},
   "outputs": [
    {
     "data": {
      "text/html": [
       "<div>\n",
       "<style scoped>\n",
       "    .dataframe tbody tr th:only-of-type {\n",
       "        vertical-align: middle;\n",
       "    }\n",
       "\n",
       "    .dataframe tbody tr th {\n",
       "        vertical-align: top;\n",
       "    }\n",
       "\n",
       "    .dataframe thead th {\n",
       "        text-align: right;\n",
       "    }\n",
       "</style>\n",
       "<table border=\"1\" class=\"dataframe\">\n",
       "  <thead>\n",
       "    <tr style=\"text-align: right;\">\n",
       "      <th></th>\n",
       "      <th>user_id</th>\n",
       "      <th>state</th>\n",
       "      <th>country</th>\n",
       "    </tr>\n",
       "  </thead>\n",
       "  <tbody>\n",
       "  </tbody>\n",
       "</table>\n",
       "</div>"
      ],
      "text/plain": [
       "Empty DataFrame\n",
       "Columns: [user_id, state, country]\n",
       "Index: []"
      ]
     },
     "execution_count": 8,
     "metadata": {},
     "output_type": "execute_result"
    }
   ],
   "source": [
    "# find duplicates in USER df\n",
    "user[user.duplicated(['user_id'], keep=False)]"
   ]
  },
  {
   "cell_type": "code",
   "execution_count": 9,
   "metadata": {},
   "outputs": [
    {
     "data": {
      "text/html": [
       "<div>\n",
       "<style scoped>\n",
       "    .dataframe tbody tr th:only-of-type {\n",
       "        vertical-align: middle;\n",
       "    }\n",
       "\n",
       "    .dataframe tbody tr th {\n",
       "        vertical-align: top;\n",
       "    }\n",
       "\n",
       "    .dataframe thead th {\n",
       "        text-align: right;\n",
       "    }\n",
       "</style>\n",
       "<table border=\"1\" class=\"dataframe\">\n",
       "  <thead>\n",
       "    <tr style=\"text-align: right;\">\n",
       "      <th></th>\n",
       "      <th>user_id</th>\n",
       "      <th>date</th>\n",
       "      <th>source</th>\n",
       "      <th>device</th>\n",
       "      <th>OS</th>\n",
       "      <th>test</th>\n",
       "      <th>price</th>\n",
       "      <th>booked</th>\n",
       "    </tr>\n",
       "  </thead>\n",
       "  <tbody>\n",
       "  </tbody>\n",
       "</table>\n",
       "</div>"
      ],
      "text/plain": [
       "Empty DataFrame\n",
       "Columns: [user_id, date, source, device, OS, test, price, booked]\n",
       "Index: []"
      ]
     },
     "execution_count": 9,
     "metadata": {},
     "output_type": "execute_result"
    }
   ],
   "source": [
    "# find duplicates in USER df\n",
    "promo[promo.duplicated(['user_id'], keep=False)]"
   ]
  },
  {
   "cell_type": "markdown",
   "metadata": {},
   "source": [
    "###### checking data types and shape"
   ]
  },
  {
   "cell_type": "code",
   "execution_count": 21,
   "metadata": {},
   "outputs": [
    {
     "data": {
      "text/plain": [
       "user_id     int64\n",
       "date       object\n",
       "source     object\n",
       "device     object\n",
       "OS         object\n",
       "test        int64\n",
       "price       int64\n",
       "booked      int64\n",
       "dtype: object"
      ]
     },
     "execution_count": 21,
     "metadata": {},
     "output_type": "execute_result"
    }
   ],
   "source": [
    "# Data Types for Each Attribute\n",
    "Ptypes = promo.dtypes\n",
    "Ptypes"
   ]
  },
  {
   "cell_type": "code",
   "execution_count": 14,
   "metadata": {},
   "outputs": [
    {
     "data": {
      "text/plain": [
       "user_id     int64\n",
       "state      object\n",
       "country    object\n",
       "dtype: object"
      ]
     },
     "execution_count": 14,
     "metadata": {},
     "output_type": "execute_result"
    }
   ],
   "source": [
    "Utypes = user.dtypes\n",
    "Utypes"
   ]
  },
  {
   "cell_type": "code",
   "execution_count": 107,
   "metadata": {},
   "outputs": [
    {
     "data": {
      "text/plain": [
       "(268878, 8)"
      ]
     },
     "execution_count": 107,
     "metadata": {},
     "output_type": "execute_result"
    }
   ],
   "source": [
    "# Dimensions of promo data. Shape functions shows no. of [rows,column] of an array. \n",
    "# since dataframe is arranged as an array, n = no. of rows & m = no. of columns, then shape = [n,m]\n",
    "promo.shape"
   ]
  },
  {
   "cell_type": "code",
   "execution_count": 17,
   "metadata": {},
   "outputs": [
    {
     "data": {
      "text/plain": [
       "(233960, 3)"
      ]
     },
     "execution_count": 17,
     "metadata": {},
     "output_type": "execute_result"
    }
   ],
   "source": [
    "# Dimensions of User data\n",
    "user.shape"
   ]
  },
  {
   "cell_type": "code",
   "execution_count": 18,
   "metadata": {},
   "outputs": [
    {
     "data": {
      "text/plain": [
       "268878"
      ]
     },
     "execution_count": 18,
     "metadata": {},
     "output_type": "execute_result"
    }
   ],
   "source": [
    "# Number of rows PROMO\n",
    "len(promo)  "
   ]
  },
  {
   "cell_type": "code",
   "execution_count": 19,
   "metadata": {},
   "outputs": [
    {
     "data": {
      "text/plain": [
       "233960"
      ]
     },
     "execution_count": 19,
     "metadata": {},
     "output_type": "execute_result"
    }
   ],
   "source": [
    "# No of rows USER\n",
    "len(user)"
   ]
  },
  {
   "cell_type": "code",
   "execution_count": 14,
   "metadata": {},
   "outputs": [
    {
     "data": {
      "text/plain": [
       "Index(['user_id', 'date', 'source', 'device', 'OS', 'test', 'price', 'booked'], dtype='object')"
      ]
     },
     "execution_count": 14,
     "metadata": {},
     "output_type": "execute_result"
    }
   ],
   "source": [
    "# list of PROMO columns\n",
    "promo.columns"
   ]
  },
  {
   "cell_type": "code",
   "execution_count": 20,
   "metadata": {},
   "outputs": [
    {
     "data": {
      "text/plain": [
       "Index(['user_id', 'state', 'country'], dtype='object')"
      ]
     },
     "execution_count": 20,
     "metadata": {},
     "output_type": "execute_result"
    }
   ],
   "source": [
    "# list of USER columns\n",
    "user.columns"
   ]
  },
  {
   "cell_type": "code",
   "execution_count": 23,
   "metadata": {},
   "outputs": [
    {
     "name": "stdout",
     "output_type": "stream",
     "text": [
      "<class 'pandas.core.frame.DataFrame'>\n",
      "RangeIndex: 268878 entries, 0 to 268877\n",
      "Data columns (total 8 columns):\n",
      "user_id    268878 non-null int64\n",
      "date       260191 non-null object\n",
      "source     268878 non-null object\n",
      "device     268878 non-null object\n",
      "OS         268878 non-null object\n",
      "test       268878 non-null int64\n",
      "price      268878 non-null int64\n",
      "booked     268878 non-null int64\n",
      "dtypes: int64(4), object(4)\n",
      "memory usage: 16.4+ MB\n"
     ]
    }
   ],
   "source": [
    "# Information on the columns.# Similar to structure str() function in R\n",
    "# PROMO structure info\n",
    "promo.info()"
   ]
  },
  {
   "cell_type": "code",
   "execution_count": 25,
   "metadata": {},
   "outputs": [
    {
     "name": "stdout",
     "output_type": "stream",
     "text": [
      "<class 'pandas.core.frame.DataFrame'>\n",
      "RangeIndex: 233960 entries, 0 to 233959\n",
      "Data columns (total 3 columns):\n",
      "user_id    233960 non-null int64\n",
      "state      233960 non-null object\n",
      "country    233960 non-null object\n",
      "dtypes: int64(1), object(2)\n",
      "memory usage: 5.4+ MB\n"
     ]
    }
   ],
   "source": [
    "# Information on the columns.# Similar to structure str() function in R\n",
    "# USER structure info\n",
    "user.info()"
   ]
  },
  {
   "cell_type": "code",
   "execution_count": 27,
   "metadata": {},
   "outputs": [
    {
     "data": {
      "text/html": [
       "<div>\n",
       "<style scoped>\n",
       "    .dataframe tbody tr th:only-of-type {\n",
       "        vertical-align: middle;\n",
       "    }\n",
       "\n",
       "    .dataframe tbody tr th {\n",
       "        vertical-align: top;\n",
       "    }\n",
       "\n",
       "    .dataframe thead th {\n",
       "        text-align: right;\n",
       "    }\n",
       "</style>\n",
       "<table border=\"1\" class=\"dataframe\">\n",
       "  <thead>\n",
       "    <tr style=\"text-align: right;\">\n",
       "      <th></th>\n",
       "      <th>user_id</th>\n",
       "      <th>test</th>\n",
       "      <th>price</th>\n",
       "      <th>booked</th>\n",
       "    </tr>\n",
       "  </thead>\n",
       "  <tbody>\n",
       "    <tr>\n",
       "      <th>count</th>\n",
       "      <td>2.689e+05</td>\n",
       "      <td>268878.00</td>\n",
       "      <td>268878.000</td>\n",
       "      <td>268878.000</td>\n",
       "    </tr>\n",
       "    <tr>\n",
       "      <th>mean</th>\n",
       "      <td>5.007e+07</td>\n",
       "      <td>0.36</td>\n",
       "      <td>235.053</td>\n",
       "      <td>0.018</td>\n",
       "    </tr>\n",
       "    <tr>\n",
       "      <th>std</th>\n",
       "      <td>2.891e+07</td>\n",
       "      <td>0.48</td>\n",
       "      <td>48.015</td>\n",
       "      <td>0.134</td>\n",
       "    </tr>\n",
       "    <tr>\n",
       "      <th>min</th>\n",
       "      <td>2.100e+01</td>\n",
       "      <td>0.00</td>\n",
       "      <td>199.000</td>\n",
       "      <td>0.000</td>\n",
       "    </tr>\n",
       "    <tr>\n",
       "      <th>25%</th>\n",
       "      <td>2.506e+07</td>\n",
       "      <td>0.00</td>\n",
       "      <td>199.000</td>\n",
       "      <td>0.000</td>\n",
       "    </tr>\n",
       "    <tr>\n",
       "      <th>50%</th>\n",
       "      <td>4.994e+07</td>\n",
       "      <td>0.00</td>\n",
       "      <td>199.000</td>\n",
       "      <td>0.000</td>\n",
       "    </tr>\n",
       "    <tr>\n",
       "      <th>75%</th>\n",
       "      <td>7.521e+07</td>\n",
       "      <td>1.00</td>\n",
       "      <td>299.000</td>\n",
       "      <td>0.000</td>\n",
       "    </tr>\n",
       "    <tr>\n",
       "      <th>max</th>\n",
       "      <td>1.000e+08</td>\n",
       "      <td>1.00</td>\n",
       "      <td>299.000</td>\n",
       "      <td>1.000</td>\n",
       "    </tr>\n",
       "  </tbody>\n",
       "</table>\n",
       "</div>"
      ],
      "text/plain": [
       "         user_id       test       price      booked\n",
       "count  2.689e+05  268878.00  268878.000  268878.000\n",
       "mean   5.007e+07       0.36     235.053       0.018\n",
       "std    2.891e+07       0.48      48.015       0.134\n",
       "min    2.100e+01       0.00     199.000       0.000\n",
       "25%    2.506e+07       0.00     199.000       0.000\n",
       "50%    4.994e+07       0.00     199.000       0.000\n",
       "75%    7.521e+07       1.00     299.000       0.000\n",
       "max    1.000e+08       1.00     299.000       1.000"
      ]
     },
     "execution_count": 27,
     "metadata": {},
     "output_type": "execute_result"
    }
   ],
   "source": [
    "# Statistical Summary PROMO\n",
    "pd.set_option('display.width', 100)\n",
    "pd.set_option('precision', 3)\n",
    "promoDescribe = promo.describe()\n",
    "promoDescribe"
   ]
  },
  {
   "cell_type": "code",
   "execution_count": 30,
   "metadata": {},
   "outputs": [
    {
     "data": {
      "text/html": [
       "<div>\n",
       "<style scoped>\n",
       "    .dataframe tbody tr th:only-of-type {\n",
       "        vertical-align: middle;\n",
       "    }\n",
       "\n",
       "    .dataframe tbody tr th {\n",
       "        vertical-align: top;\n",
       "    }\n",
       "\n",
       "    .dataframe thead th {\n",
       "        text-align: right;\n",
       "    }\n",
       "</style>\n",
       "<table border=\"1\" class=\"dataframe\">\n",
       "  <thead>\n",
       "    <tr style=\"text-align: right;\">\n",
       "      <th></th>\n",
       "      <th>user_id</th>\n",
       "    </tr>\n",
       "  </thead>\n",
       "  <tbody>\n",
       "    <tr>\n",
       "      <th>count</th>\n",
       "      <td>2.340e+05</td>\n",
       "    </tr>\n",
       "    <tr>\n",
       "      <th>mean</th>\n",
       "      <td>5.009e+07</td>\n",
       "    </tr>\n",
       "    <tr>\n",
       "      <th>std</th>\n",
       "      <td>2.890e+07</td>\n",
       "    </tr>\n",
       "    <tr>\n",
       "      <th>min</th>\n",
       "      <td>2.100e+01</td>\n",
       "    </tr>\n",
       "    <tr>\n",
       "      <th>25%</th>\n",
       "      <td>2.506e+07</td>\n",
       "    </tr>\n",
       "    <tr>\n",
       "      <th>50%</th>\n",
       "      <td>4.999e+07</td>\n",
       "    </tr>\n",
       "    <tr>\n",
       "      <th>75%</th>\n",
       "      <td>7.523e+07</td>\n",
       "    </tr>\n",
       "    <tr>\n",
       "      <th>max</th>\n",
       "      <td>1.000e+08</td>\n",
       "    </tr>\n",
       "  </tbody>\n",
       "</table>\n",
       "</div>"
      ],
      "text/plain": [
       "         user_id\n",
       "count  2.340e+05\n",
       "mean   5.009e+07\n",
       "std    2.890e+07\n",
       "min    2.100e+01\n",
       "25%    2.506e+07\n",
       "50%    4.999e+07\n",
       "75%    7.523e+07\n",
       "max    1.000e+08"
      ]
     },
     "execution_count": 30,
     "metadata": {},
     "output_type": "execute_result"
    }
   ],
   "source": [
    "# Statistical Summary USER\n",
    "pd.set_option('display.width', 100)\n",
    "pd.set_option('precision', 3)\n",
    "userDescribe = user.describe()\n",
    "userDescribe"
   ]
  },
  {
   "cell_type": "code",
   "execution_count": null,
   "metadata": {},
   "outputs": [],
   "source": [
    "# It Printout summary statistics for numerical fields\n"
   ]
  },
  {
   "cell_type": "markdown",
   "metadata": {},
   "source": [
    "###  Data Description Report \n",
    "##### Examine, Enumerate (count) issues and Visualize\n",
    "prepare meta-data report. Examine data characteristics, count data issues, Visualize.\n",
    "-\tDescribe the acquired data, format of data, quantity of data GBs, no. of rows, tables, fields in each table etc. \n",
    "o\tCount(rows)\n",
    "-\tDescribe the fields/ columns/ dimensions of the data objects. \n",
    "o\tcount(columns/dimensions/ input variables),\n",
    "-\tCheck if these dimensions/ inputs are useful in predicting the Target Variable?\n",
    "o\tcount(target Variables in data if any)\n",
    "-\tEnumerate/ count problems with the data, including inaccurate or invalid values, missing values, unexpected distributions, and incorrect data-types ex.: date format as character.\n",
    "-\tVisualize data to gain further insights into the characteristics of the data, especially those masked by summary statistics.\n",
    "o\tgraphs & plots, mean median mode\n"
   ]
  },
  {
   "cell_type": "code",
   "execution_count": 39,
   "metadata": {},
   "outputs": [
    {
     "data": {
      "text/plain": [
       "<bound method DataFrame.info of          user_id        date    source   device       OS  test  price  booked\n",
       "0       39020704  2017-05-23   Unknown   mobile      iOS     0    199       0\n",
       "1       52206111  2017-05-29      Bing  desktop  windows     0    199       0\n",
       "2       66027032  2017-05-11  Facebook   mobile    other     0    199       0\n",
       "3        5055592  2017-05-24    Google   mobile  android     1    299       0\n",
       "4       30822063  2017-06-30   Adwords  desktop  windows     0    199       0\n",
       "5       82650702  2017-04-30      Bing  desktop  windows     0    199       0\n",
       "6       93059712  2017-06-04   Adwords   mobile      iOS     0    199       0\n",
       "7       89349178  2017-05-30  Facebook   mobile  android     0    199       0\n",
       "8        5797776  2017-06-11  Facebook   mobile      iOS     0    199       0\n",
       "9       56646851  2017-04-08   Adwords   mobile  android     1    299       0\n",
       "10       9001283  2017-06-30    Google  desktop    linux     0    199       0\n",
       "11      40284051  2017-05-03   Unknown  desktop  windows     0    199       0\n",
       "12      43355153  2017-04-26   Unknown   mobile      iOS     0    199       0\n",
       "13      56120277  2017-05-16   Adwords   mobile      iOS     1    299       1\n",
       "14      37839766  2017-05-25    Google  desktop  windows     0    199       0\n",
       "15      50749488  2017-06-27   Unknown   mobile      iOS     0    199       0\n",
       "16      78444136  2017-06-29      Bing  desktop  windows     0    199       0\n",
       "17      93147847  2017-04-11  Facebook   mobile    other     1    299       0\n",
       "18      20316370  2017-04-06    Google   mobile    other     0    199       0\n",
       "19      55885140  2017-05-11   Unknown  desktop      mac     0    199       0\n",
       "20      18036881  2017-05-03    Google   mobile      iOS     1    299       0\n",
       "21       7290607  2017-05-13  Facebook   mobile  android     1    299       0\n",
       "22      21993344  2017-05-11   Unknown   mobile      iOS     0    199       0\n",
       "23      17892439  2017-04-24    Google  desktop  windows     1    299       0\n",
       "24      61346934  2017-05-04  Facebook   mobile  android     0    199       0\n",
       "25      34234096  2017-06-28    Google  desktop      mac     0    199       0\n",
       "26      38280328  2017-05-10    Google   mobile      iOS     0    199       0\n",
       "27      50803259  2017-05-29    Google   mobile  android     0    199       0\n",
       "28      88457850  2017-05-25    Google  desktop  windows     0    199       0\n",
       "29      88256815  2017-04-25      Bing   mobile      iOS     1    299       0\n",
       "...          ...         ...       ...      ...      ...   ...    ...     ...\n",
       "268848  61766249  2017-06-27    Google   mobile  android     0    199       0\n",
       "268849   4456063  2017-06-28   Unknown   mobile  android     1    299       0\n",
       "268850  20541236  2017-05-23   Adwords  desktop  windows     0    199       0\n",
       "268851  39082630  2017-06-21   Unknown   mobile      iOS     0    199       0\n",
       "268852  77816410  2017-04-05   Unknown  desktop    linux     1    299       0\n",
       "268853  10523331  2017-05-17    Google   mobile      iOS     0    199       0\n",
       "268854  88389359  2017-06-05    Google   mobile  android     0    199       0\n",
       "268855  11536064  2017-05-02  Facebook   mobile      iOS     0    199       0\n",
       "268856  62549030  2017-06-14  Facebook   mobile      iOS     1    299       0\n",
       "268857  40496322  2017-05-09   Adwords  desktop  windows     0    199       0\n",
       "268858  99190088  2017-06-28   Adwords   mobile  android     0    199       0\n",
       "268859  37771146  2017-05-29   Unknown  desktop  windows     0    199       0\n",
       "268860   2108985  2017-04-25   Unknown   mobile  android     1    299       0\n",
       "268861  14959564  2017-05-21   Adwords  desktop  windows     0    199       0\n",
       "268862   6116291  2017-06-13  Facebook   mobile  android     1    299       0\n",
       "268863  15260038  2017-04-04   Unknown  desktop  windows     0    199       0\n",
       "268864  62448755  2017-04-20    Google  desktop  windows     0    199       0\n",
       "268865  20402669  2017-04-24    Google   mobile      iOS     0    199       0\n",
       "268866  89452463  2017-05-31    Google   mobile  android     0    199       0\n",
       "268867  31050774         NaN  Facebook  desktop  windows     0    199       0\n",
       "268868  55988746  2017-05-31    Google   mobile      iOS     0    199       0\n",
       "268869  27642151  2017-06-05    Google   mobile      iOS     0    199       0\n",
       "268870  49903692  2017-04-05   Adwords   mobile      iOS     0    199       0\n",
       "268871  49818228  2017-06-27    Google   mobile  android     0    199       0\n",
       "268872  65742586  2017-04-16   Adwords   mobile  android     0    199       0\n",
       "268873   9775242  2017-04-11    Google   mobile      iOS     0    199       0\n",
       "268874   8242753  2017-06-07   Unknown   mobile  android     0    199       1\n",
       "268875  66191736         NaN    Google  desktop  windows     0    199       0\n",
       "268876  42418182  2017-05-24   Adwords   mobile  android     1    299       0\n",
       "268877  14107703  2017-05-14   Unknown  desktop  windows     1    299       0\n",
       "\n",
       "[268878 rows x 8 columns]>"
      ]
     },
     "execution_count": 39,
     "metadata": {},
     "output_type": "execute_result"
    }
   ],
   "source": [
    "promo.info"
   ]
  },
  {
   "cell_type": "code",
   "execution_count": 36,
   "metadata": {},
   "outputs": [
    {
     "data": {
      "text/plain": [
       "<bound method DataFrame.info of          user_id state country\n",
       "0       13450647    PA     USA\n",
       "1       49333063    PA     USA\n",
       "2       97859466    PA     USA\n",
       "3       39218008    PA     USA\n",
       "4       92067917    NY     USA\n",
       "5       27216037    NJ     USA\n",
       "6       48093625    NY     USA\n",
       "7       31289386    PA     USA\n",
       "8       22362264    PA     USA\n",
       "9       91470730    NJ     USA\n",
       "10      83403206    NY     USA\n",
       "11       9576249    NJ     USA\n",
       "12      88079030    NY     USA\n",
       "13       8059217    NY     USA\n",
       "14      84066261    NY     USA\n",
       "15      63879782    NY     USA\n",
       "16      59858832    PA     USA\n",
       "17      16811679    NY     USA\n",
       "18      34867715    NJ     USA\n",
       "19      11933125    PA     USA\n",
       "20      98614646    NY     USA\n",
       "21      62260547    NY     USA\n",
       "22      69022498    NY     USA\n",
       "23        193849    NY     USA\n",
       "24      92108985    PA     USA\n",
       "25       3321167    NJ     USA\n",
       "26      92834759    NY     USA\n",
       "27      60880562    NJ     USA\n",
       "28      14571102    NY     USA\n",
       "29      21274188    PA     USA\n",
       "...          ...   ...     ...\n",
       "233930  32675926    NY     USA\n",
       "233931  87941175    NY     USA\n",
       "233932  61492707    NY     USA\n",
       "233933  46523833    NJ     USA\n",
       "233934  27555450    NY     USA\n",
       "233935  55535272    NJ     USA\n",
       "233936  34370568    NY     USA\n",
       "233937  39386480    PA     USA\n",
       "233938  87078527    NY     USA\n",
       "233939  99232612    NY     USA\n",
       "233940  34050306    PA     USA\n",
       "233941  29225760    PA     USA\n",
       "233942  52225867    PA     USA\n",
       "233943  91615968    NJ     USA\n",
       "233944  88278870    PA     USA\n",
       "233945  34371334    NY     USA\n",
       "233946  11265346    PA     USA\n",
       "233947  67784360    PA     USA\n",
       "233948  65089718    PA     USA\n",
       "233949  93980226    NY     USA\n",
       "233950  37808004    NY     USA\n",
       "233951   1443887    NY     USA\n",
       "233952  48713838    PA     USA\n",
       "233953  35817211    PA     USA\n",
       "233954  76032940    PA     USA\n",
       "233955  57983054    NY     USA\n",
       "233956   1263108    NY     USA\n",
       "233957  50436790    NJ     USA\n",
       "233958  46741889    NY     USA\n",
       "233959  58071135    PA     USA\n",
       "\n",
       "[233960 rows x 3 columns]>"
      ]
     },
     "execution_count": 36,
     "metadata": {},
     "output_type": "execute_result"
    }
   ],
   "source": [
    "user.info"
   ]
  },
  {
   "cell_type": "markdown",
   "metadata": {},
   "source": [
    "##### Calculating file size in MB"
   ]
  },
  {
   "cell_type": "code",
   "execution_count": 34,
   "metadata": {},
   "outputs": [
    {
     "name": "stdout",
     "output_type": "stream",
     "text": [
      "Promo File size in MB: 12.57 MB\n"
     ]
    }
   ],
   "source": [
    "import os\n",
    "\n",
    "# PROMO File size in MB\n",
    "promoDataBytes = os.path.getsize('promo_results.csv')\n",
    "\n",
    "promoDataMB = round(promoDataBytes/1048576, 2)\n",
    "print(\"Promo File size in MB:\", promoDataMB, 'MB')"
   ]
  },
  {
   "cell_type": "code",
   "execution_count": 35,
   "metadata": {},
   "outputs": [
    {
     "name": "stdout",
     "output_type": "stream",
     "text": [
      "User data file size:  3.55 MB\n"
     ]
    }
   ],
   "source": [
    "# Use File size in MB\n",
    "userDataBytes = os.path.getsize('user_data.csv')\n",
    "userDataMB = round(userDataBytes/1048576, 2)\n",
    "print(\"User data file size: \", userDataMB, 'MB')"
   ]
  },
  {
   "cell_type": "markdown",
   "metadata": {},
   "source": [
    "## Merging Both data frames without any ROW deletion and negation"
   ]
  },
  {
   "cell_type": "code",
   "execution_count": 6,
   "metadata": {},
   "outputs": [
    {
     "data": {
      "text/html": [
       "<div>\n",
       "<style scoped>\n",
       "    .dataframe tbody tr th:only-of-type {\n",
       "        vertical-align: middle;\n",
       "    }\n",
       "\n",
       "    .dataframe tbody tr th {\n",
       "        vertical-align: top;\n",
       "    }\n",
       "\n",
       "    .dataframe thead th {\n",
       "        text-align: right;\n",
       "    }\n",
       "</style>\n",
       "<table border=\"1\" class=\"dataframe\">\n",
       "  <thead>\n",
       "    <tr style=\"text-align: right;\">\n",
       "      <th></th>\n",
       "      <th>user_id</th>\n",
       "      <th>date</th>\n",
       "      <th>source</th>\n",
       "      <th>device</th>\n",
       "      <th>OS</th>\n",
       "      <th>test</th>\n",
       "      <th>price</th>\n",
       "      <th>booked</th>\n",
       "      <th>state</th>\n",
       "      <th>country</th>\n",
       "    </tr>\n",
       "  </thead>\n",
       "  <tbody>\n",
       "    <tr>\n",
       "      <th>0</th>\n",
       "      <td>39020704</td>\n",
       "      <td>2017-05-23</td>\n",
       "      <td>Unknown</td>\n",
       "      <td>mobile</td>\n",
       "      <td>iOS</td>\n",
       "      <td>0</td>\n",
       "      <td>199</td>\n",
       "      <td>0</td>\n",
       "      <td>NY</td>\n",
       "      <td>USA</td>\n",
       "    </tr>\n",
       "    <tr>\n",
       "      <th>1</th>\n",
       "      <td>52206111</td>\n",
       "      <td>2017-05-29</td>\n",
       "      <td>Bing</td>\n",
       "      <td>desktop</td>\n",
       "      <td>windows</td>\n",
       "      <td>0</td>\n",
       "      <td>199</td>\n",
       "      <td>0</td>\n",
       "      <td>PA</td>\n",
       "      <td>USA</td>\n",
       "    </tr>\n",
       "    <tr>\n",
       "      <th>2</th>\n",
       "      <td>66027032</td>\n",
       "      <td>2017-05-11</td>\n",
       "      <td>Facebook</td>\n",
       "      <td>mobile</td>\n",
       "      <td>other</td>\n",
       "      <td>0</td>\n",
       "      <td>199</td>\n",
       "      <td>0</td>\n",
       "      <td>NY</td>\n",
       "      <td>USA</td>\n",
       "    </tr>\n",
       "    <tr>\n",
       "      <th>3</th>\n",
       "      <td>5055592</td>\n",
       "      <td>2017-05-24</td>\n",
       "      <td>Google</td>\n",
       "      <td>mobile</td>\n",
       "      <td>android</td>\n",
       "      <td>1</td>\n",
       "      <td>299</td>\n",
       "      <td>0</td>\n",
       "      <td>NJ</td>\n",
       "      <td>USA</td>\n",
       "    </tr>\n",
       "    <tr>\n",
       "      <th>4</th>\n",
       "      <td>30822063</td>\n",
       "      <td>2017-06-30</td>\n",
       "      <td>Adwords</td>\n",
       "      <td>desktop</td>\n",
       "      <td>windows</td>\n",
       "      <td>0</td>\n",
       "      <td>199</td>\n",
       "      <td>0</td>\n",
       "      <td>NY</td>\n",
       "      <td>USA</td>\n",
       "    </tr>\n",
       "  </tbody>\n",
       "</table>\n",
       "</div>"
      ],
      "text/plain": [
       "    user_id        date    source   device       OS  test  price  booked  \\\n",
       "0  39020704  2017-05-23   Unknown   mobile      iOS     0    199       0   \n",
       "1  52206111  2017-05-29      Bing  desktop  windows     0    199       0   \n",
       "2  66027032  2017-05-11  Facebook   mobile    other     0    199       0   \n",
       "3   5055592  2017-05-24    Google   mobile  android     1    299       0   \n",
       "4  30822063  2017-06-30   Adwords  desktop  windows     0    199       0   \n",
       "\n",
       "  state country  \n",
       "0    NY     USA  \n",
       "1    PA     USA  \n",
       "2    NY     USA  \n",
       "3    NJ     USA  \n",
       "4    NY     USA  "
      ]
     },
     "execution_count": 6,
     "metadata": {},
     "output_type": "execute_result"
    }
   ],
   "source": [
    "# use Pandas merge function with Left join on the larger file\n",
    "dfAll = pd.merge(promo, user, on=['user_id'], how = 'left')\n",
    "dfAll.head()"
   ]
  },
  {
   "cell_type": "code",
   "execution_count": 112,
   "metadata": {},
   "outputs": [
    {
     "name": "stdout",
     "output_type": "stream",
     "text": [
      "<class 'pandas.core.frame.DataFrame'>\n",
      "Int64Index: 268878 entries, 0 to 268877\n",
      "Data columns (total 10 columns):\n",
      "user_id    268878 non-null int64\n",
      "date       260191 non-null object\n",
      "source     268878 non-null object\n",
      "device     268878 non-null object\n",
      "OS         268878 non-null object\n",
      "test       268878 non-null int64\n",
      "price      268878 non-null int64\n",
      "booked     268878 non-null int64\n",
      "state      233960 non-null object\n",
      "country    233960 non-null object\n",
      "dtypes: int64(4), object(6)\n",
      "memory usage: 22.6+ MB\n"
     ]
    }
   ],
   "source": [
    "# info of merged data frame\n",
    "dfAll.info()"
   ]
  },
  {
   "cell_type": "code",
   "execution_count": 44,
   "metadata": {},
   "outputs": [],
   "source": [
    "# Output merged data frame to csv for reference\n",
    "dfAll.to_csv('user_promo_merged.csv', sep= ',', encoding='utf8', index=False) "
   ]
  },
  {
   "cell_type": "markdown",
   "metadata": {},
   "source": [
    "###### Examine dimensions types and transformations that can be performed\n",
    "\n",
    "-\tVariables/ Dimensions types (Variables, Inputs etc.): Binary, Nominal (named variables), Ordinal (ordered ascending/ descending), Interval (frequency or time interval) and Ratio (temperature, length, time, counts).\n",
    "-\tContinuous Variable. Categorical (split in categories) variables: counting the no. of occurrences measured.\n",
    "-\tContinuous data (decimal numbers to infinity) and Discrete Data (no decimal whole numbers).\n",
    "\n",
    "List all the columns to be used and exclusion reason for ignored columns. \n",
    "user_id     int64\n",
    "date       object\n",
    "source     object\n",
    "device     object\n",
    "OS         object\n",
    "test        int64\n",
    "price       int64\n",
    "booked      int64"
   ]
  },
  {
   "cell_type": "markdown",
   "metadata": {},
   "source": [
    "#### Column deletion based on Value addition\n",
    "Deleting columns as these columns donot add value for the prediction model to be generated:\n",
    "1) User ID \n",
    "2) Country"
   ]
  },
  {
   "cell_type": "code",
   "execution_count": 7,
   "metadata": {},
   "outputs": [
    {
     "data": {
      "text/html": [
       "<div>\n",
       "<style scoped>\n",
       "    .dataframe tbody tr th:only-of-type {\n",
       "        vertical-align: middle;\n",
       "    }\n",
       "\n",
       "    .dataframe tbody tr th {\n",
       "        vertical-align: top;\n",
       "    }\n",
       "\n",
       "    .dataframe thead th {\n",
       "        text-align: right;\n",
       "    }\n",
       "</style>\n",
       "<table border=\"1\" class=\"dataframe\">\n",
       "  <thead>\n",
       "    <tr style=\"text-align: right;\">\n",
       "      <th></th>\n",
       "      <th>date</th>\n",
       "      <th>source</th>\n",
       "      <th>device</th>\n",
       "      <th>OS</th>\n",
       "      <th>test</th>\n",
       "      <th>price</th>\n",
       "      <th>state</th>\n",
       "      <th>booked</th>\n",
       "    </tr>\n",
       "  </thead>\n",
       "  <tbody>\n",
       "    <tr>\n",
       "      <th>0</th>\n",
       "      <td>2017-05-23</td>\n",
       "      <td>Unknown</td>\n",
       "      <td>mobile</td>\n",
       "      <td>iOS</td>\n",
       "      <td>0</td>\n",
       "      <td>199</td>\n",
       "      <td>NY</td>\n",
       "      <td>0</td>\n",
       "    </tr>\n",
       "    <tr>\n",
       "      <th>1</th>\n",
       "      <td>2017-05-29</td>\n",
       "      <td>Bing</td>\n",
       "      <td>desktop</td>\n",
       "      <td>windows</td>\n",
       "      <td>0</td>\n",
       "      <td>199</td>\n",
       "      <td>PA</td>\n",
       "      <td>0</td>\n",
       "    </tr>\n",
       "    <tr>\n",
       "      <th>2</th>\n",
       "      <td>2017-05-11</td>\n",
       "      <td>Facebook</td>\n",
       "      <td>mobile</td>\n",
       "      <td>other</td>\n",
       "      <td>0</td>\n",
       "      <td>199</td>\n",
       "      <td>NY</td>\n",
       "      <td>0</td>\n",
       "    </tr>\n",
       "    <tr>\n",
       "      <th>3</th>\n",
       "      <td>2017-05-24</td>\n",
       "      <td>Google</td>\n",
       "      <td>mobile</td>\n",
       "      <td>android</td>\n",
       "      <td>1</td>\n",
       "      <td>299</td>\n",
       "      <td>NJ</td>\n",
       "      <td>0</td>\n",
       "    </tr>\n",
       "    <tr>\n",
       "      <th>4</th>\n",
       "      <td>2017-06-30</td>\n",
       "      <td>Adwords</td>\n",
       "      <td>desktop</td>\n",
       "      <td>windows</td>\n",
       "      <td>0</td>\n",
       "      <td>199</td>\n",
       "      <td>NY</td>\n",
       "      <td>0</td>\n",
       "    </tr>\n",
       "  </tbody>\n",
       "</table>\n",
       "</div>"
      ],
      "text/plain": [
       "         date    source   device       OS  test  price state  booked\n",
       "0  2017-05-23   Unknown   mobile      iOS     0    199    NY       0\n",
       "1  2017-05-29      Bing  desktop  windows     0    199    PA       0\n",
       "2  2017-05-11  Facebook   mobile    other     0    199    NY       0\n",
       "3  2017-05-24    Google   mobile  android     1    299    NJ       0\n",
       "4  2017-06-30   Adwords  desktop  windows     0    199    NY       0"
      ]
     },
     "execution_count": 7,
     "metadata": {},
     "output_type": "execute_result"
    }
   ],
   "source": [
    "# assign merged dataframe to a new frame for modification\n",
    "df1 = dfAll\n",
    "df1.drop(['user_id', 'country'], axis=1, inplace=True)\n",
    "\n",
    "#rearrange cloumn order in new dataframe\n",
    "df1 = df1[['date', 'source', 'device', 'OS', 'test', 'price', 'state', 'booked']]\n",
    "\n",
    "df1.head()"
   ]
  },
  {
   "cell_type": "markdown",
   "metadata": {},
   "source": [
    "Describing Variables\n",
    "- date       260191-non-null, 8687-nulls, type=object \n",
    "- source     268878 non-null, type=object\n",
    "- device     268878 non-null, type= object\n",
    "- OS         268878 non-null, type= object\n",
    "- test       268878 non-null, type= int64\n",
    "- price      268878 non-null, type= int64\n",
    "- state      233960 non-null, 34918-nulls, type= object \n",
    "\n",
    "***Target Variable - booked     268878 non-null, type= int64"
   ]
  },
  {
   "cell_type": "markdown",
   "metadata": {},
   "source": [
    "###  Explore Data  "
   ]
  },
  {
   "cell_type": "code",
   "execution_count": 8,
   "metadata": {},
   "outputs": [],
   "source": [
    "# familiarizing with basic data characteristics \n",
    "# distribution of various input variables\n",
    "\n",
    "import matplotlib.pyplot as plt\n",
    "%matplotlib inline"
   ]
  },
  {
   "cell_type": "markdown",
   "metadata": {},
   "source": [
    "<b> checking for outliers & anamolies in Price, Test & Booked columns using box & whiskers plot <b>\n",
    "    # Box and Whisker Plots are applicable on numeric columns. \n",
    "    # plt.rcParams['figure.figsize'] = 10,6 # similar to par(mfrow = c(2,1), mar = c(4,4,2,1)) # 2 columns and 1 row\n",
    "    # promo.plot(kind='box', subplots=True, layout=(3,3), sharex=False, sharey=False)\n",
    "    # plt.show()\n",
    "\n"
   ]
  },
  {
   "cell_type": "code",
   "execution_count": 80,
   "metadata": {},
   "outputs": [
    {
     "data": {
      "image/png": "[encoded data removed]",
      "text/plain": [
       "<Figure size 432x288 with 9 Axes>"
      ]
     },
     "metadata": {},
     "output_type": "display_data"
    }
   ],
   "source": [
    "df1.plot(kind='box', subplots=True, layout=(3,3), sharex=False, sharey=False)\n",
    "plt.show()"
   ]
  },
  {
   "cell_type": "code",
   "execution_count": 76,
   "metadata": {},
   "outputs": [
    {
     "data": {
      "text/plain": [
       "<matplotlib.axes._subplots.AxesSubplot at 0x219015515c0>"
      ]
     },
     "execution_count": 76,
     "metadata": {},
     "output_type": "execute_result"
    },
    {
     "data": {
      "image/png": "[encoded data removed]",
      "text/plain": [
       "<Figure size 432x288 with 1 Axes>"
      ]
     },
     "metadata": {},
     "output_type": "display_data"
    }
   ],
   "source": [
    "# box plot for Price column\n",
    "df1.boxplot('price')"
   ]
  },
  {
   "cell_type": "code",
   "execution_count": 77,
   "metadata": {},
   "outputs": [
    {
     "data": {
      "text/plain": [
       "<matplotlib.axes._subplots.AxesSubplot at 0x21901992128>"
      ]
     },
     "execution_count": 77,
     "metadata": {},
     "output_type": "execute_result"
    },
    {
     "data": {
      "image/png": "[encoded data removed]",
      "text/plain": [
       "<Figure size 432x288 with 1 Axes>"
      ]
     },
     "metadata": {},
     "output_type": "display_data"
    }
   ],
   "source": [
    "df1.boxplot('test')"
   ]
  },
  {
   "cell_type": "code",
   "execution_count": 78,
   "metadata": {},
   "outputs": [
    {
     "data": {
      "text/plain": [
       "<matplotlib.axes._subplots.AxesSubplot at 0x21901c3e390>"
      ]
     },
     "execution_count": 78,
     "metadata": {},
     "output_type": "execute_result"
    },
    {
     "data": {
      "image/png": "[encoded data removed]",
      "text/plain": [
       "<Figure size 432x288 with 1 Axes>"
      ]
     },
     "metadata": {},
     "output_type": "display_data"
    }
   ],
   "source": [
    "df1.boxplot('booked')"
   ]
  },
  {
   "cell_type": "code",
   "execution_count": 92,
   "metadata": {},
   "outputs": [
    {
     "data": {
      "image/png": "[encoded data removed]",
      "text/plain": [
       "<Figure size 720x432 with 9 Axes>"
      ]
     },
     "metadata": {},
     "output_type": "display_data"
    }
   ],
   "source": [
    "# Univariate density plots\n",
    "df1.plot(kind='density', subplots=True, layout=(3,3), sharex=False)\n",
    "plt.show()"
   ]
  },
  {
   "cell_type": "code",
   "execution_count": 93,
   "metadata": {},
   "outputs": [
    {
     "data": {
      "image/png": "[encoded data removed]",
      "text/plain": [
       "<Figure size 720x432 with 4 Axes>"
      ]
     },
     "metadata": {},
     "output_type": "display_data"
    }
   ],
   "source": [
    "# Univariate Histograms\n",
    "plt.rcParams['figure.figsize'] = 10,6 # R-Lang similar to par(mfrow = c(2,1), mar = c(4,4,2,1)) # 2 columns and 1 row\n",
    "df1.hist()\n",
    "plt.show()"
   ]
  },
  {
   "cell_type": "markdown",
   "metadata": {},
   "source": [
    "#### creating subsets based on booked = 1 & 0"
   ]
  },
  {
   "cell_type": "code",
   "execution_count": 116,
   "metadata": {},
   "outputs": [],
   "source": [
    "bookedY = df1[df1['booked']==1]\n",
    "bookedN = df1[df1['booked']==0]"
   ]
  },
  {
   "cell_type": "code",
   "execution_count": 117,
   "metadata": {},
   "outputs": [
    {
     "data": {
      "text/plain": [
       "date      4764\n",
       "source    4929\n",
       "device    4929\n",
       "OS        4929\n",
       "test      4929\n",
       "price     4929\n",
       "state     4268\n",
       "booked    4929\n",
       "dtype: int64"
      ]
     },
     "execution_count": 117,
     "metadata": {},
     "output_type": "execute_result"
    }
   ],
   "source": [
    "# No. of rows for Booked Y\n",
    "bookedY.count()"
   ]
  },
  {
   "cell_type": "code",
   "execution_count": 118,
   "metadata": {},
   "outputs": [
    {
     "data": {
      "text/plain": [
       "date      255427\n",
       "source    263949\n",
       "device    263949\n",
       "OS        263949\n",
       "test      263949\n",
       "price     263949\n",
       "state     229692\n",
       "booked    263949\n",
       "dtype: int64"
      ]
     },
     "execution_count": 118,
     "metadata": {},
     "output_type": "execute_result"
    }
   ],
   "source": [
    "# No. of rows for Booked N\n",
    "bookedN.count()"
   ]
  },
  {
   "cell_type": "markdown",
   "metadata": {},
   "source": [
    "##### Creating a countplot using seaborn showing the counts of trips booked by price, with the color hue defined by source and device"
   ]
  },
  {
   "cell_type": "code",
   "execution_count": 119,
   "metadata": {},
   "outputs": [
    {
     "data": {
      "text/plain": [
       "<matplotlib.axes._subplots.AxesSubplot at 0x2190bf44518>"
      ]
     },
     "execution_count": 119,
     "metadata": {},
     "output_type": "execute_result"
    },
    {
     "data": {
      "image/png": "[encoded data removed]",
      "text/plain": [
       "<Figure size 792x504 with 1 Axes>"
      ]
     },
     "metadata": {},
     "output_type": "display_data"
    }
   ],
   "source": [
    "plt.figure(figsize=(11,7))\n",
    "sns.countplot(x='price',hue='source',data=bookedY,palette='Set1')"
   ]
  },
  {
   "cell_type": "code",
   "execution_count": 120,
   "metadata": {},
   "outputs": [
    {
     "data": {
      "text/plain": [
       "<matplotlib.axes._subplots.AxesSubplot at 0x21905f36dd8>"
      ]
     },
     "execution_count": 120,
     "metadata": {},
     "output_type": "execute_result"
    },
    {
     "data": {
      "image/png": "[encoded data removed]",
      "text/plain": [
       "<Figure size 792x504 with 1 Axes>"
      ]
     },
     "metadata": {},
     "output_type": "display_data"
    }
   ],
   "source": [
    "plt.figure(figsize=(11,7))\n",
    "sns.countplot(x='price',hue='device',data=bookedY,palette='Set1')"
   ]
  },
  {
   "cell_type": "markdown",
   "metadata": {},
   "source": [
    "##### Plots of booking dates of trips "
   ]
  },
  {
   "cell_type": "code",
   "execution_count": 121,
   "metadata": {},
   "outputs": [
    {
     "data": {
      "image/png": "[encoded data removed]",
      "text/plain": [
       "<Figure size 1224x504 with 1 Axes>"
      ]
     },
     "metadata": {},
     "output_type": "display_data"
    }
   ],
   "source": [
    "# Line Plot for dates on which trips were booked\n",
    "plt.figure(figsize=(17,7))\n",
    "sns.lineplot(x=\"date\", y=\"booked\", data=df1)\n",
    "plt.show()"
   ]
  },
  {
   "cell_type": "code",
   "execution_count": 122,
   "metadata": {},
   "outputs": [
    {
     "data": {
      "image/png": "[encoded data removed]",
      "text/plain": [
       "<Figure size 720x432 with 4 Axes>"
      ]
     },
     "metadata": {},
     "output_type": "display_data"
    }
   ],
   "source": [
    "# Univariate Histograms\n",
    "# how to ignore columns like user_id?\n",
    "\n",
    "plt.rcParams['figure.figsize'] = 10,6 # similar to par(mfrow = c(2,1), mar = c(4,4,2,1)) # 2 columns and 1 row\n",
    "df1.hist()\n",
    "plt.show()"
   ]
  },
  {
   "cell_type": "code",
   "execution_count": 123,
   "metadata": {},
   "outputs": [
    {
     "data": {
      "text/plain": [
       "<seaborn.axisgrid.PairGrid at 0x2190bda1a58>"
      ]
     },
     "execution_count": 123,
     "metadata": {},
     "output_type": "execute_result"
    },
    {
     "data": {
      "image/png": "[encoded data removed]",
      "text/plain": [
       "<Figure size 585.725x540 with 12 Axes>"
      ]
     },
     "metadata": {},
     "output_type": "display_data"
    }
   ],
   "source": [
    "# Scatterplot Matrix using Seaborn\n",
    "sns.set(style=\"ticks\")\n",
    "sns.pairplot(df1, hue=\"booked\")"
   ]
  },
  {
   "cell_type": "markdown",
   "metadata": {},
   "source": [
    "## Unbalanced data for booked class\n",
    "Unbalanced data can be handled by <b>SMOTE</b> which provides a balance in Undersampled data.\n",
    "\n",
    "Undersampling:- it means taking the less number of majority class (In our case taking less number of Normal transactions so that our new data will be balanced\n",
    "\n",
    "Oversampling: it means using replicating the data of minority class (fraud class) so that we can have a balanced data\n",
    "\n",
    "SMOTE: it is also a type of oversampling but in this we will make the synthetic example of Minority data and will give as a balanced data"
   ]
  },
  {
   "cell_type": "code",
   "execution_count": 79,
   "metadata": {},
   "outputs": [
    {
     "data": {
      "text/plain": [
       "<matplotlib.axes._subplots.AxesSubplot at 0x1992bdf74a8>"
      ]
     },
     "execution_count": 79,
     "metadata": {},
     "output_type": "execute_result"
    },
    {
     "data": {
      "image/png": "[encoded data removed]",
      "text/plain": [
       "<Figure size 432x288 with 1 Axes>"
      ]
     },
     "metadata": {},
     "output_type": "display_data"
    }
   ],
   "source": [
    "# Data is unbalanced as shown in the plot\n",
    "sns.countplot(\"booked\",data=df1)"
   ]
  },
  {
   "cell_type": "markdown",
   "metadata": {},
   "source": [
    "<b> converting Categorical columns into nominal columns using Pandas replace() function </b>\n",
    "<t> Replacing the categories with the desired numbers the replace() function in pandas. The categories can be assigned any numbers arbitrarily according to the business use case. </t>"
   ]
  },
  {
   "cell_type": "markdown",
   "metadata": {},
   "source": [
    "### Create DUMMY Variables for many categorical variables.\n",
    "<b> Use pd.get_dummies </b>\n",
    "\n",
    "when get_dummies is run, it adds the variable name as column name and marks the respective variable name in the column as <b>  1 </b> and all other variables as <b> ZERO </b>.\n",
    "\n",
    "<b> get_dummies </b> when used will give many columns, then sum-up/combine all the columns to get the no. of occurances of that particular variable.\n",
    "\n",
    "<b> refer Hot encoding method too </b>"
   ]
  },
  {
   "cell_type": "code",
   "execution_count": 51,
   "metadata": {},
   "outputs": [
    {
     "data": {
      "text/html": [
       "<div>\n",
       "<style scoped>\n",
       "    .dataframe tbody tr th:only-of-type {\n",
       "        vertical-align: middle;\n",
       "    }\n",
       "\n",
       "    .dataframe tbody tr th {\n",
       "        vertical-align: top;\n",
       "    }\n",
       "\n",
       "    .dataframe thead th {\n",
       "        text-align: right;\n",
       "    }\n",
       "</style>\n",
       "<table border=\"1\" class=\"dataframe\">\n",
       "  <thead>\n",
       "    <tr style=\"text-align: right;\">\n",
       "      <th></th>\n",
       "      <th>date</th>\n",
       "      <th>source</th>\n",
       "      <th>device</th>\n",
       "      <th>OS</th>\n",
       "      <th>test</th>\n",
       "      <th>price</th>\n",
       "      <th>state</th>\n",
       "      <th>booked</th>\n",
       "    </tr>\n",
       "  </thead>\n",
       "  <tbody>\n",
       "    <tr>\n",
       "      <th>0</th>\n",
       "      <td>2017-05-23</td>\n",
       "      <td>Unknown</td>\n",
       "      <td>mobile</td>\n",
       "      <td>iOS</td>\n",
       "      <td>0</td>\n",
       "      <td>199</td>\n",
       "      <td>NY</td>\n",
       "      <td>0</td>\n",
       "    </tr>\n",
       "    <tr>\n",
       "      <th>1</th>\n",
       "      <td>2017-05-29</td>\n",
       "      <td>Bing</td>\n",
       "      <td>desktop</td>\n",
       "      <td>windows</td>\n",
       "      <td>0</td>\n",
       "      <td>199</td>\n",
       "      <td>PA</td>\n",
       "      <td>0</td>\n",
       "    </tr>\n",
       "    <tr>\n",
       "      <th>2</th>\n",
       "      <td>2017-05-11</td>\n",
       "      <td>Facebook</td>\n",
       "      <td>mobile</td>\n",
       "      <td>other</td>\n",
       "      <td>0</td>\n",
       "      <td>199</td>\n",
       "      <td>NY</td>\n",
       "      <td>0</td>\n",
       "    </tr>\n",
       "    <tr>\n",
       "      <th>3</th>\n",
       "      <td>2017-05-24</td>\n",
       "      <td>Google</td>\n",
       "      <td>mobile</td>\n",
       "      <td>android</td>\n",
       "      <td>1</td>\n",
       "      <td>299</td>\n",
       "      <td>NJ</td>\n",
       "      <td>0</td>\n",
       "    </tr>\n",
       "    <tr>\n",
       "      <th>4</th>\n",
       "      <td>2017-06-30</td>\n",
       "      <td>Adwords</td>\n",
       "      <td>desktop</td>\n",
       "      <td>windows</td>\n",
       "      <td>0</td>\n",
       "      <td>199</td>\n",
       "      <td>NY</td>\n",
       "      <td>0</td>\n",
       "    </tr>\n",
       "  </tbody>\n",
       "</table>\n",
       "</div>"
      ],
      "text/plain": [
       "         date    source   device       OS  test  price state  booked\n",
       "0  2017-05-23   Unknown   mobile      iOS     0    199    NY       0\n",
       "1  2017-05-29      Bing  desktop  windows     0    199    PA       0\n",
       "2  2017-05-11  Facebook   mobile    other     0    199    NY       0\n",
       "3  2017-05-24    Google   mobile  android     1    299    NJ       0\n",
       "4  2017-06-30   Adwords  desktop  windows     0    199    NY       0"
      ]
     },
     "execution_count": 51,
     "metadata": {},
     "output_type": "execute_result"
    },
    {
     "data": {
      "text/plain": [
       "array(['NY', 'PA', 'NJ', nan], dtype=object)"
      ]
     },
     "execution_count": 51,
     "metadata": {},
     "output_type": "execute_result"
    },
    {
     "data": {
      "text/plain": [
       "array(['mobile', 'desktop'], dtype=object)"
      ]
     },
     "execution_count": 51,
     "metadata": {},
     "output_type": "execute_result"
    },
    {
     "data": {
      "text/plain": [
       "array(['iOS', 'windows', 'other', 'android', 'linux', 'mac'], dtype=object)"
      ]
     },
     "execution_count": 51,
     "metadata": {},
     "output_type": "execute_result"
    },
    {
     "data": {
      "text/plain": [
       "array(['Unknown', 'Bing', 'Facebook', 'Google', 'Adwords', 'Other'],\n",
       "      dtype=object)"
      ]
     },
     "execution_count": 51,
     "metadata": {},
     "output_type": "execute_result"
    }
   ],
   "source": [
    "# getting all unique values from categorical columns\n",
    "df1.head()\n",
    "df1.state.unique()\n",
    "df1.device.unique()\n",
    "df1.OS.unique()\n",
    "df1.source.unique()"
   ]
  },
  {
   "cell_type": "markdown",
   "metadata": {},
   "source": [
    "<b> List of Categorical Columns to be converted into nominal values </b>\n",
    "<n><t>state as NY=1, NJ=2, PA=3</t> </n>\n",
    "<n><t>Device as mobile= 0, desktop= 1 </t></n>\n",
    "<n><t> OS as iOS=0, windows=1, linux=2, android=3, mac=4, other=5 </t></n>\n",
    "<n><t> Source as Adwords=0, Bing=1, Google=2, Facebook=3, Other=4, Unknown=5 </t></n>\n",
    "<t> </t>"
   ]
  },
  {
   "cell_type": "code",
   "execution_count": 60,
   "metadata": {},
   "outputs": [],
   "source": [
    "# copy df1 as backup before conversion\n",
    "dfConv = df1.copy()"
   ]
  },
  {
   "cell_type": "code",
   "execution_count": 61,
   "metadata": {},
   "outputs": [
    {
     "data": {
      "text/html": [
       "<div>\n",
       "<style scoped>\n",
       "    .dataframe tbody tr th:only-of-type {\n",
       "        vertical-align: middle;\n",
       "    }\n",
       "\n",
       "    .dataframe tbody tr th {\n",
       "        vertical-align: top;\n",
       "    }\n",
       "\n",
       "    .dataframe thead th {\n",
       "        text-align: right;\n",
       "    }\n",
       "</style>\n",
       "<table border=\"1\" class=\"dataframe\">\n",
       "  <thead>\n",
       "    <tr style=\"text-align: right;\">\n",
       "      <th></th>\n",
       "      <th>date</th>\n",
       "      <th>source</th>\n",
       "      <th>device</th>\n",
       "      <th>OS</th>\n",
       "      <th>test</th>\n",
       "      <th>price</th>\n",
       "      <th>state</th>\n",
       "      <th>booked</th>\n",
       "    </tr>\n",
       "  </thead>\n",
       "  <tbody>\n",
       "    <tr>\n",
       "      <th>0</th>\n",
       "      <td>2017-05-23</td>\n",
       "      <td>Unknown</td>\n",
       "      <td>mobile</td>\n",
       "      <td>iOS</td>\n",
       "      <td>0</td>\n",
       "      <td>199</td>\n",
       "      <td>1</td>\n",
       "      <td>0</td>\n",
       "    </tr>\n",
       "    <tr>\n",
       "      <th>1</th>\n",
       "      <td>2017-05-29</td>\n",
       "      <td>Bing</td>\n",
       "      <td>desktop</td>\n",
       "      <td>windows</td>\n",
       "      <td>0</td>\n",
       "      <td>199</td>\n",
       "      <td>3</td>\n",
       "      <td>0</td>\n",
       "    </tr>\n",
       "    <tr>\n",
       "      <th>2</th>\n",
       "      <td>2017-05-11</td>\n",
       "      <td>Facebook</td>\n",
       "      <td>mobile</td>\n",
       "      <td>other</td>\n",
       "      <td>0</td>\n",
       "      <td>199</td>\n",
       "      <td>1</td>\n",
       "      <td>0</td>\n",
       "    </tr>\n",
       "    <tr>\n",
       "      <th>3</th>\n",
       "      <td>2017-05-24</td>\n",
       "      <td>Google</td>\n",
       "      <td>mobile</td>\n",
       "      <td>android</td>\n",
       "      <td>1</td>\n",
       "      <td>299</td>\n",
       "      <td>2</td>\n",
       "      <td>0</td>\n",
       "    </tr>\n",
       "    <tr>\n",
       "      <th>4</th>\n",
       "      <td>2017-06-30</td>\n",
       "      <td>Adwords</td>\n",
       "      <td>desktop</td>\n",
       "      <td>windows</td>\n",
       "      <td>0</td>\n",
       "      <td>199</td>\n",
       "      <td>1</td>\n",
       "      <td>0</td>\n",
       "    </tr>\n",
       "  </tbody>\n",
       "</table>\n",
       "</div>"
      ],
      "text/plain": [
       "         date    source   device       OS  test  price  state  booked\n",
       "0  2017-05-23   Unknown   mobile      iOS     0    199      1       0\n",
       "1  2017-05-29      Bing  desktop  windows     0    199      3       0\n",
       "2  2017-05-11  Facebook   mobile    other     0    199      1       0\n",
       "3  2017-05-24    Google   mobile  android     1    299      2       0\n",
       "4  2017-06-30   Adwords  desktop  windows     0    199      1       0"
      ]
     },
     "execution_count": 61,
     "metadata": {},
     "output_type": "execute_result"
    }
   ],
   "source": [
    "# dataFrame.columnName.replace('originalValue', new_value, inplace=True)\n",
    "# convert State to nominal value\n",
    "#dfConv.state.replace(NaN,0,inplace=True) # check if this is allowed to handle NULL values\n",
    "\n",
    "dfConv.state.fillna(0, inplace=True)\n",
    "dfConv.state.replace('NY', 1,inplace=True)\n",
    "dfConv.state.replace('NJ', 2,inplace=True)\n",
    "dfConv.state.replace('PA', 3,inplace=True)\n",
    "dfConv.head()"
   ]
  },
  {
   "cell_type": "code",
   "execution_count": 63,
   "metadata": {},
   "outputs": [
    {
     "data": {
      "text/html": [
       "<div>\n",
       "<style scoped>\n",
       "    .dataframe tbody tr th:only-of-type {\n",
       "        vertical-align: middle;\n",
       "    }\n",
       "\n",
       "    .dataframe tbody tr th {\n",
       "        vertical-align: top;\n",
       "    }\n",
       "\n",
       "    .dataframe thead th {\n",
       "        text-align: right;\n",
       "    }\n",
       "</style>\n",
       "<table border=\"1\" class=\"dataframe\">\n",
       "  <thead>\n",
       "    <tr style=\"text-align: right;\">\n",
       "      <th></th>\n",
       "      <th>date</th>\n",
       "      <th>source</th>\n",
       "      <th>device</th>\n",
       "      <th>OS</th>\n",
       "      <th>test</th>\n",
       "      <th>price</th>\n",
       "      <th>state</th>\n",
       "      <th>booked</th>\n",
       "    </tr>\n",
       "  </thead>\n",
       "  <tbody>\n",
       "    <tr>\n",
       "      <th>0</th>\n",
       "      <td>2017-05-23</td>\n",
       "      <td>Unknown</td>\n",
       "      <td>0</td>\n",
       "      <td>iOS</td>\n",
       "      <td>0</td>\n",
       "      <td>199</td>\n",
       "      <td>1</td>\n",
       "      <td>0</td>\n",
       "    </tr>\n",
       "    <tr>\n",
       "      <th>1</th>\n",
       "      <td>2017-05-29</td>\n",
       "      <td>Bing</td>\n",
       "      <td>1</td>\n",
       "      <td>windows</td>\n",
       "      <td>0</td>\n",
       "      <td>199</td>\n",
       "      <td>3</td>\n",
       "      <td>0</td>\n",
       "    </tr>\n",
       "    <tr>\n",
       "      <th>2</th>\n",
       "      <td>2017-05-11</td>\n",
       "      <td>Facebook</td>\n",
       "      <td>0</td>\n",
       "      <td>other</td>\n",
       "      <td>0</td>\n",
       "      <td>199</td>\n",
       "      <td>1</td>\n",
       "      <td>0</td>\n",
       "    </tr>\n",
       "    <tr>\n",
       "      <th>3</th>\n",
       "      <td>2017-05-24</td>\n",
       "      <td>Google</td>\n",
       "      <td>0</td>\n",
       "      <td>android</td>\n",
       "      <td>1</td>\n",
       "      <td>299</td>\n",
       "      <td>2</td>\n",
       "      <td>0</td>\n",
       "    </tr>\n",
       "    <tr>\n",
       "      <th>4</th>\n",
       "      <td>2017-06-30</td>\n",
       "      <td>Adwords</td>\n",
       "      <td>1</td>\n",
       "      <td>windows</td>\n",
       "      <td>0</td>\n",
       "      <td>199</td>\n",
       "      <td>1</td>\n",
       "      <td>0</td>\n",
       "    </tr>\n",
       "  </tbody>\n",
       "</table>\n",
       "</div>"
      ],
      "text/plain": [
       "         date    source  device       OS  test  price  state  booked\n",
       "0  2017-05-23   Unknown       0      iOS     0    199      1       0\n",
       "1  2017-05-29      Bing       1  windows     0    199      3       0\n",
       "2  2017-05-11  Facebook       0    other     0    199      1       0\n",
       "3  2017-05-24    Google       0  android     1    299      2       0\n",
       "4  2017-06-30   Adwords       1  windows     0    199      1       0"
      ]
     },
     "execution_count": 63,
     "metadata": {},
     "output_type": "execute_result"
    }
   ],
   "source": [
    "# convert device\n",
    "dfConv.device.replace('mobile', 0, inplace=True)\n",
    "dfConv.device.replace('desktop', 1, inplace=True)\n",
    "dfConv.head()"
   ]
  },
  {
   "cell_type": "code",
   "execution_count": 64,
   "metadata": {},
   "outputs": [
    {
     "data": {
      "text/html": [
       "<div>\n",
       "<style scoped>\n",
       "    .dataframe tbody tr th:only-of-type {\n",
       "        vertical-align: middle;\n",
       "    }\n",
       "\n",
       "    .dataframe tbody tr th {\n",
       "        vertical-align: top;\n",
       "    }\n",
       "\n",
       "    .dataframe thead th {\n",
       "        text-align: right;\n",
       "    }\n",
       "</style>\n",
       "<table border=\"1\" class=\"dataframe\">\n",
       "  <thead>\n",
       "    <tr style=\"text-align: right;\">\n",
       "      <th></th>\n",
       "      <th>date</th>\n",
       "      <th>source</th>\n",
       "      <th>device</th>\n",
       "      <th>OS</th>\n",
       "      <th>test</th>\n",
       "      <th>price</th>\n",
       "      <th>state</th>\n",
       "      <th>booked</th>\n",
       "    </tr>\n",
       "  </thead>\n",
       "  <tbody>\n",
       "    <tr>\n",
       "      <th>0</th>\n",
       "      <td>2017-05-23</td>\n",
       "      <td>Unknown</td>\n",
       "      <td>0</td>\n",
       "      <td>0</td>\n",
       "      <td>0</td>\n",
       "      <td>199</td>\n",
       "      <td>1</td>\n",
       "      <td>0</td>\n",
       "    </tr>\n",
       "    <tr>\n",
       "      <th>1</th>\n",
       "      <td>2017-05-29</td>\n",
       "      <td>Bing</td>\n",
       "      <td>1</td>\n",
       "      <td>1</td>\n",
       "      <td>0</td>\n",
       "      <td>199</td>\n",
       "      <td>3</td>\n",
       "      <td>0</td>\n",
       "    </tr>\n",
       "    <tr>\n",
       "      <th>2</th>\n",
       "      <td>2017-05-11</td>\n",
       "      <td>Facebook</td>\n",
       "      <td>0</td>\n",
       "      <td>5</td>\n",
       "      <td>0</td>\n",
       "      <td>199</td>\n",
       "      <td>1</td>\n",
       "      <td>0</td>\n",
       "    </tr>\n",
       "    <tr>\n",
       "      <th>3</th>\n",
       "      <td>2017-05-24</td>\n",
       "      <td>Google</td>\n",
       "      <td>0</td>\n",
       "      <td>3</td>\n",
       "      <td>1</td>\n",
       "      <td>299</td>\n",
       "      <td>2</td>\n",
       "      <td>0</td>\n",
       "    </tr>\n",
       "    <tr>\n",
       "      <th>4</th>\n",
       "      <td>2017-06-30</td>\n",
       "      <td>Adwords</td>\n",
       "      <td>1</td>\n",
       "      <td>1</td>\n",
       "      <td>0</td>\n",
       "      <td>199</td>\n",
       "      <td>1</td>\n",
       "      <td>0</td>\n",
       "    </tr>\n",
       "  </tbody>\n",
       "</table>\n",
       "</div>"
      ],
      "text/plain": [
       "         date    source  device  OS  test  price  state  booked\n",
       "0  2017-05-23   Unknown       0   0     0    199      1       0\n",
       "1  2017-05-29      Bing       1   1     0    199      3       0\n",
       "2  2017-05-11  Facebook       0   5     0    199      1       0\n",
       "3  2017-05-24    Google       0   3     1    299      2       0\n",
       "4  2017-06-30   Adwords       1   1     0    199      1       0"
      ]
     },
     "execution_count": 64,
     "metadata": {},
     "output_type": "execute_result"
    }
   ],
   "source": [
    "# convert OS\n",
    "dfConv.OS.replace('iOS',0 , inplace=True)\n",
    "dfConv.OS.replace('windows', 1, inplace=True)\n",
    "dfConv.OS.replace('linux', 2, inplace=True)\n",
    "dfConv.OS.replace('android', 3, inplace=True)\n",
    "dfConv.OS.replace('mac', 4, inplace=True)\n",
    "dfConv.OS.replace('other', 5, inplace=True)\n",
    "dfConv.head()"
   ]
  },
  {
   "cell_type": "code",
   "execution_count": 65,
   "metadata": {},
   "outputs": [
    {
     "data": {
      "text/html": [
       "<div>\n",
       "<style scoped>\n",
       "    .dataframe tbody tr th:only-of-type {\n",
       "        vertical-align: middle;\n",
       "    }\n",
       "\n",
       "    .dataframe tbody tr th {\n",
       "        vertical-align: top;\n",
       "    }\n",
       "\n",
       "    .dataframe thead th {\n",
       "        text-align: right;\n",
       "    }\n",
       "</style>\n",
       "<table border=\"1\" class=\"dataframe\">\n",
       "  <thead>\n",
       "    <tr style=\"text-align: right;\">\n",
       "      <th></th>\n",
       "      <th>date</th>\n",
       "      <th>source</th>\n",
       "      <th>device</th>\n",
       "      <th>OS</th>\n",
       "      <th>test</th>\n",
       "      <th>price</th>\n",
       "      <th>state</th>\n",
       "      <th>booked</th>\n",
       "    </tr>\n",
       "  </thead>\n",
       "  <tbody>\n",
       "    <tr>\n",
       "      <th>0</th>\n",
       "      <td>2017-05-23</td>\n",
       "      <td>5</td>\n",
       "      <td>0</td>\n",
       "      <td>0</td>\n",
       "      <td>0</td>\n",
       "      <td>199</td>\n",
       "      <td>1</td>\n",
       "      <td>0</td>\n",
       "    </tr>\n",
       "    <tr>\n",
       "      <th>1</th>\n",
       "      <td>2017-05-29</td>\n",
       "      <td>1</td>\n",
       "      <td>1</td>\n",
       "      <td>1</td>\n",
       "      <td>0</td>\n",
       "      <td>199</td>\n",
       "      <td>3</td>\n",
       "      <td>0</td>\n",
       "    </tr>\n",
       "    <tr>\n",
       "      <th>2</th>\n",
       "      <td>2017-05-11</td>\n",
       "      <td>3</td>\n",
       "      <td>0</td>\n",
       "      <td>5</td>\n",
       "      <td>0</td>\n",
       "      <td>199</td>\n",
       "      <td>1</td>\n",
       "      <td>0</td>\n",
       "    </tr>\n",
       "    <tr>\n",
       "      <th>3</th>\n",
       "      <td>2017-05-24</td>\n",
       "      <td>2</td>\n",
       "      <td>0</td>\n",
       "      <td>3</td>\n",
       "      <td>1</td>\n",
       "      <td>299</td>\n",
       "      <td>2</td>\n",
       "      <td>0</td>\n",
       "    </tr>\n",
       "    <tr>\n",
       "      <th>4</th>\n",
       "      <td>2017-06-30</td>\n",
       "      <td>0</td>\n",
       "      <td>1</td>\n",
       "      <td>1</td>\n",
       "      <td>0</td>\n",
       "      <td>199</td>\n",
       "      <td>1</td>\n",
       "      <td>0</td>\n",
       "    </tr>\n",
       "  </tbody>\n",
       "</table>\n",
       "</div>"
      ],
      "text/plain": [
       "         date  source  device  OS  test  price  state  booked\n",
       "0  2017-05-23       5       0   0     0    199      1       0\n",
       "1  2017-05-29       1       1   1     0    199      3       0\n",
       "2  2017-05-11       3       0   5     0    199      1       0\n",
       "3  2017-05-24       2       0   3     1    299      2       0\n",
       "4  2017-06-30       0       1   1     0    199      1       0"
      ]
     },
     "execution_count": 65,
     "metadata": {},
     "output_type": "execute_result"
    }
   ],
   "source": [
    "# convert Source\n",
    "dfConv.source.replace('Adwords', 0, inplace=True)\n",
    "dfConv.source.replace('Bing', 1, inplace=True)\n",
    "dfConv.source.replace('Google', 2, inplace=True)\n",
    "dfConv.source.replace('Facebook', 3, inplace=True)\n",
    "dfConv.source.replace('Other', 4, inplace=True)\n",
    "dfConv.source.replace('Unknown', 5, inplace=True)\n",
    "dfConv.head()"
   ]
  },
  {
   "cell_type": "code",
   "execution_count": 66,
   "metadata": {},
   "outputs": [
    {
     "name": "stdout",
     "output_type": "stream",
     "text": [
      "<class 'pandas.core.frame.DataFrame'>\n",
      "Int64Index: 268878 entries, 0 to 268877\n",
      "Data columns (total 8 columns):\n",
      "date      260191 non-null object\n",
      "source    268878 non-null int64\n",
      "device    268878 non-null int64\n",
      "OS        268878 non-null int64\n",
      "test      268878 non-null int64\n",
      "price     268878 non-null int64\n",
      "state     268878 non-null int64\n",
      "booked    268878 non-null int64\n",
      "dtypes: int64(7), object(1)\n",
      "memory usage: 18.5+ MB\n"
     ]
    }
   ],
   "source": [
    "dfConv.info()"
   ]
  },
  {
   "cell_type": "code",
   "execution_count": 67,
   "metadata": {},
   "outputs": [
    {
     "data": {
      "text/plain": [
       "date      object\n",
       "source     int64\n",
       "device     int64\n",
       "OS         int64\n",
       "test       int64\n",
       "price      int64\n",
       "state      int64\n",
       "booked     int64\n",
       "dtype: object"
      ]
     },
     "execution_count": 67,
     "metadata": {},
     "output_type": "execute_result"
    }
   ],
   "source": [
    "# dfConv = dfConv(dtype={'source': np.int64,'device': np.int64, 'OS': np.int64, 'state': np.int64})\n",
    "# df['columnName'].astype('int64')\n",
    "# dfConv['source'] = dfConv['source'].astype(np.int64)\n",
    "# dfConv['device'] = dfConv['device'].astype('int64')\n",
    "# dfConv['OS'] = dfConv['OS'].astype('int64')\n",
    "# dfConv['state'] = dfConv['state'].dropna().astype('int64')\n",
    "\n",
    "dfConv.dtypes"
   ]
  },
  {
   "cell_type": "code",
   "execution_count": 174,
   "metadata": {},
   "outputs": [],
   "source": [
    "# using different method to convert Categorical to Nominal. Use astype() or pd.get_dummies\n",
    "# copy from df1 to dfNom\n",
    "# dfNom = df1.copy()\n",
    "# dfNom.head()\n",
    "# df2 = pd.get_dummies(df1, columns=['columnName1', 'columnName2',...'columnNameN'])\n",
    "# dfNom = pd.get_dummies(data=dfNom, columns=['source', 'device', 'OS', 'state'])\n",
    "# dfNom.head()\n",
    "\n",
    "# dfNom = pd.concat([df1, dfNom], axis=1)\n",
    "# dfNom.head()\n",
    "\n",
    "# dfNom = dfNom.merge(dfNom, left_index=True, right_index=True)\n",
    "# dfNom.head()"
   ]
  },
  {
   "cell_type": "markdown",
   "metadata": {},
   "source": [
    "<b> Convert DATA-TYPES in a data-frame  </b>\n",
    "<t> When finding CORRELATION, all the columns must be numeric INT64. Convert all columns to Numeric INT64  </t>"
   ]
  },
  {
   "cell_type": "code",
   "execution_count": 78,
   "metadata": {},
   "outputs": [
    {
     "data": {
      "text/html": [
       "<div>\n",
       "<style scoped>\n",
       "    .dataframe tbody tr th:only-of-type {\n",
       "        vertical-align: middle;\n",
       "    }\n",
       "\n",
       "    .dataframe tbody tr th {\n",
       "        vertical-align: top;\n",
       "    }\n",
       "\n",
       "    .dataframe thead th {\n",
       "        text-align: right;\n",
       "    }\n",
       "</style>\n",
       "<table border=\"1\" class=\"dataframe\">\n",
       "  <thead>\n",
       "    <tr style=\"text-align: right;\">\n",
       "      <th></th>\n",
       "      <th>date</th>\n",
       "      <th>source</th>\n",
       "      <th>device</th>\n",
       "      <th>OS</th>\n",
       "      <th>test</th>\n",
       "      <th>price</th>\n",
       "      <th>state</th>\n",
       "      <th>booked</th>\n",
       "    </tr>\n",
       "  </thead>\n",
       "  <tbody>\n",
       "    <tr>\n",
       "      <th>0</th>\n",
       "      <td>2017-05-23</td>\n",
       "      <td>5</td>\n",
       "      <td>0</td>\n",
       "      <td>0</td>\n",
       "      <td>0</td>\n",
       "      <td>199</td>\n",
       "      <td>1</td>\n",
       "      <td>0</td>\n",
       "    </tr>\n",
       "    <tr>\n",
       "      <th>1</th>\n",
       "      <td>2017-05-29</td>\n",
       "      <td>1</td>\n",
       "      <td>1</td>\n",
       "      <td>1</td>\n",
       "      <td>0</td>\n",
       "      <td>199</td>\n",
       "      <td>3</td>\n",
       "      <td>0</td>\n",
       "    </tr>\n",
       "    <tr>\n",
       "      <th>2</th>\n",
       "      <td>2017-05-11</td>\n",
       "      <td>3</td>\n",
       "      <td>0</td>\n",
       "      <td>5</td>\n",
       "      <td>0</td>\n",
       "      <td>199</td>\n",
       "      <td>1</td>\n",
       "      <td>0</td>\n",
       "    </tr>\n",
       "    <tr>\n",
       "      <th>3</th>\n",
       "      <td>2017-05-24</td>\n",
       "      <td>2</td>\n",
       "      <td>0</td>\n",
       "      <td>3</td>\n",
       "      <td>1</td>\n",
       "      <td>299</td>\n",
       "      <td>2</td>\n",
       "      <td>0</td>\n",
       "    </tr>\n",
       "    <tr>\n",
       "      <th>4</th>\n",
       "      <td>2017-06-30</td>\n",
       "      <td>0</td>\n",
       "      <td>1</td>\n",
       "      <td>1</td>\n",
       "      <td>0</td>\n",
       "      <td>199</td>\n",
       "      <td>1</td>\n",
       "      <td>0</td>\n",
       "    </tr>\n",
       "  </tbody>\n",
       "</table>\n",
       "</div>"
      ],
      "text/plain": [
       "         date  source  device  OS  test  price  state  booked\n",
       "0  2017-05-23       5       0   0     0    199      1       0\n",
       "1  2017-05-29       1       1   1     0    199      3       0\n",
       "2  2017-05-11       3       0   5     0    199      1       0\n",
       "3  2017-05-24       2       0   3     1    299      2       0\n",
       "4  2017-06-30       0       1   1     0    199      1       0"
      ]
     },
     "execution_count": 78,
     "metadata": {},
     "output_type": "execute_result"
    }
   ],
   "source": [
    "# dfConv.to_csv('CatCol-2-NomCols.csv', sep= ',', encoding='utf8', index=False) \n",
    "del dfSel\n",
    "dfSel = dfConv.copy()\n",
    "dfSel.head()\n",
    "#dfSel.dtypes"
   ]
  },
  {
   "cell_type": "markdown",
   "metadata": {},
   "source": [
    "### Feature Selection based on Correlation\n",
    "<b> All columns in DATAFrame must be Numeric int64 </b>\n",
    "<t> Learn about the \"SelectKbest\" function from scikitlearn </t>"
   ]
  },
  {
   "cell_type": "code",
   "execution_count": 79,
   "metadata": {},
   "outputs": [
    {
     "data": {
      "text/html": [
       "<div>\n",
       "<style scoped>\n",
       "    .dataframe tbody tr th:only-of-type {\n",
       "        vertical-align: middle;\n",
       "    }\n",
       "\n",
       "    .dataframe tbody tr th {\n",
       "        vertical-align: top;\n",
       "    }\n",
       "\n",
       "    .dataframe thead th {\n",
       "        text-align: right;\n",
       "    }\n",
       "</style>\n",
       "<table border=\"1\" class=\"dataframe\">\n",
       "  <thead>\n",
       "    <tr style=\"text-align: right;\">\n",
       "      <th></th>\n",
       "      <th>source</th>\n",
       "      <th>device</th>\n",
       "      <th>OS</th>\n",
       "      <th>test</th>\n",
       "      <th>price</th>\n",
       "      <th>state</th>\n",
       "      <th>booked</th>\n",
       "    </tr>\n",
       "  </thead>\n",
       "  <tbody>\n",
       "    <tr>\n",
       "      <th>source</th>\n",
       "      <td>1.000000</td>\n",
       "      <td>0.003730</td>\n",
       "      <td>0.004357</td>\n",
       "      <td>-0.001311</td>\n",
       "      <td>-0.001212</td>\n",
       "      <td>0.002730</td>\n",
       "      <td>0.012557</td>\n",
       "    </tr>\n",
       "    <tr>\n",
       "      <th>device</th>\n",
       "      <td>0.003730</td>\n",
       "      <td>1.000000</td>\n",
       "      <td>-0.007240</td>\n",
       "      <td>0.014624</td>\n",
       "      <td>0.014797</td>\n",
       "      <td>-0.004658</td>\n",
       "      <td>-0.001511</td>\n",
       "    </tr>\n",
       "    <tr>\n",
       "      <th>OS</th>\n",
       "      <td>0.004357</td>\n",
       "      <td>-0.007240</td>\n",
       "      <td>1.000000</td>\n",
       "      <td>-0.002889</td>\n",
       "      <td>-0.002696</td>\n",
       "      <td>0.004971</td>\n",
       "      <td>-0.013351</td>\n",
       "    </tr>\n",
       "    <tr>\n",
       "      <th>test</th>\n",
       "      <td>-0.001311</td>\n",
       "      <td>0.014624</td>\n",
       "      <td>-0.002889</td>\n",
       "      <td>1.000000</td>\n",
       "      <td>0.997483</td>\n",
       "      <td>-0.003215</td>\n",
       "      <td>-0.015442</td>\n",
       "    </tr>\n",
       "    <tr>\n",
       "      <th>price</th>\n",
       "      <td>-0.001212</td>\n",
       "      <td>0.014797</td>\n",
       "      <td>-0.002696</td>\n",
       "      <td>0.997483</td>\n",
       "      <td>1.000000</td>\n",
       "      <td>-0.003158</td>\n",
       "      <td>-0.015246</td>\n",
       "    </tr>\n",
       "    <tr>\n",
       "      <th>state</th>\n",
       "      <td>0.002730</td>\n",
       "      <td>-0.004658</td>\n",
       "      <td>0.004971</td>\n",
       "      <td>-0.003215</td>\n",
       "      <td>-0.003158</td>\n",
       "      <td>1.000000</td>\n",
       "      <td>-0.000469</td>\n",
       "    </tr>\n",
       "    <tr>\n",
       "      <th>booked</th>\n",
       "      <td>0.012557</td>\n",
       "      <td>-0.001511</td>\n",
       "      <td>-0.013351</td>\n",
       "      <td>-0.015442</td>\n",
       "      <td>-0.015246</td>\n",
       "      <td>-0.000469</td>\n",
       "      <td>1.000000</td>\n",
       "    </tr>\n",
       "  </tbody>\n",
       "</table>\n",
       "</div>"
      ],
      "text/plain": [
       "          source    device        OS      test     price     state    booked\n",
       "source  1.000000  0.003730  0.004357 -0.001311 -0.001212  0.002730  0.012557\n",
       "device  0.003730  1.000000 -0.007240  0.014624  0.014797 -0.004658 -0.001511\n",
       "OS      0.004357 -0.007240  1.000000 -0.002889 -0.002696  0.004971 -0.013351\n",
       "test   -0.001311  0.014624 -0.002889  1.000000  0.997483 -0.003215 -0.015442\n",
       "price  -0.001212  0.014797 -0.002696  0.997483  1.000000 -0.003158 -0.015246\n",
       "state   0.002730 -0.004658  0.004971 -0.003215 -0.003158  1.000000 -0.000469\n",
       "booked  0.012557 -0.001511 -0.013351 -0.015442 -0.015246 -0.000469  1.000000"
      ]
     },
     "execution_count": 79,
     "metadata": {},
     "output_type": "execute_result"
    }
   ],
   "source": [
    "dfSel.corr()"
   ]
  },
  {
   "cell_type": "code",
   "execution_count": 80,
   "metadata": {},
   "outputs": [
    {
     "data": {
      "text/html": [
       "<div>\n",
       "<style scoped>\n",
       "    .dataframe tbody tr th:only-of-type {\n",
       "        vertical-align: middle;\n",
       "    }\n",
       "\n",
       "    .dataframe tbody tr th {\n",
       "        vertical-align: top;\n",
       "    }\n",
       "\n",
       "    .dataframe thead th {\n",
       "        text-align: right;\n",
       "    }\n",
       "</style>\n",
       "<table border=\"1\" class=\"dataframe\">\n",
       "  <thead>\n",
       "    <tr style=\"text-align: right;\">\n",
       "      <th></th>\n",
       "      <th>source</th>\n",
       "      <th>device</th>\n",
       "      <th>OS</th>\n",
       "      <th>test</th>\n",
       "      <th>price</th>\n",
       "      <th>state</th>\n",
       "      <th>booked</th>\n",
       "    </tr>\n",
       "  </thead>\n",
       "  <tbody>\n",
       "    <tr>\n",
       "      <th>source</th>\n",
       "      <td>1.000000</td>\n",
       "      <td>0.003730</td>\n",
       "      <td>0.004357</td>\n",
       "      <td>-0.001311</td>\n",
       "      <td>-0.001212</td>\n",
       "      <td>0.002730</td>\n",
       "      <td>0.012557</td>\n",
       "    </tr>\n",
       "    <tr>\n",
       "      <th>device</th>\n",
       "      <td>0.003730</td>\n",
       "      <td>1.000000</td>\n",
       "      <td>-0.007240</td>\n",
       "      <td>0.014624</td>\n",
       "      <td>0.014797</td>\n",
       "      <td>-0.004658</td>\n",
       "      <td>-0.001511</td>\n",
       "    </tr>\n",
       "    <tr>\n",
       "      <th>OS</th>\n",
       "      <td>0.004357</td>\n",
       "      <td>-0.007240</td>\n",
       "      <td>1.000000</td>\n",
       "      <td>-0.002889</td>\n",
       "      <td>-0.002696</td>\n",
       "      <td>0.004971</td>\n",
       "      <td>-0.013351</td>\n",
       "    </tr>\n",
       "    <tr>\n",
       "      <th>test</th>\n",
       "      <td>-0.001311</td>\n",
       "      <td>0.014624</td>\n",
       "      <td>-0.002889</td>\n",
       "      <td>1.000000</td>\n",
       "      <td>0.997483</td>\n",
       "      <td>-0.003215</td>\n",
       "      <td>-0.015442</td>\n",
       "    </tr>\n",
       "    <tr>\n",
       "      <th>price</th>\n",
       "      <td>-0.001212</td>\n",
       "      <td>0.014797</td>\n",
       "      <td>-0.002696</td>\n",
       "      <td>0.997483</td>\n",
       "      <td>1.000000</td>\n",
       "      <td>-0.003158</td>\n",
       "      <td>-0.015246</td>\n",
       "    </tr>\n",
       "    <tr>\n",
       "      <th>state</th>\n",
       "      <td>0.002730</td>\n",
       "      <td>-0.004658</td>\n",
       "      <td>0.004971</td>\n",
       "      <td>-0.003215</td>\n",
       "      <td>-0.003158</td>\n",
       "      <td>1.000000</td>\n",
       "      <td>-0.000469</td>\n",
       "    </tr>\n",
       "    <tr>\n",
       "      <th>booked</th>\n",
       "      <td>0.012557</td>\n",
       "      <td>-0.001511</td>\n",
       "      <td>-0.013351</td>\n",
       "      <td>-0.015442</td>\n",
       "      <td>-0.015246</td>\n",
       "      <td>-0.000469</td>\n",
       "      <td>1.000000</td>\n",
       "    </tr>\n",
       "  </tbody>\n",
       "</table>\n",
       "</div>"
      ],
      "text/plain": [
       "          source    device        OS      test     price     state    booked\n",
       "source  1.000000  0.003730  0.004357 -0.001311 -0.001212  0.002730  0.012557\n",
       "device  0.003730  1.000000 -0.007240  0.014624  0.014797 -0.004658 -0.001511\n",
       "OS      0.004357 -0.007240  1.000000 -0.002889 -0.002696  0.004971 -0.013351\n",
       "test   -0.001311  0.014624 -0.002889  1.000000  0.997483 -0.003215 -0.015442\n",
       "price  -0.001212  0.014797 -0.002696  0.997483  1.000000 -0.003158 -0.015246\n",
       "state   0.002730 -0.004658  0.004971 -0.003215 -0.003158  1.000000 -0.000469\n",
       "booked  0.012557 -0.001511 -0.013351 -0.015442 -0.015246 -0.000469  1.000000"
      ]
     },
     "execution_count": 80,
     "metadata": {},
     "output_type": "execute_result"
    }
   ],
   "source": [
    "dfSel.corr(method='pearson')"
   ]
  },
  {
   "cell_type": "code",
   "execution_count": 213,
   "metadata": {},
   "outputs": [
    {
     "data": {
      "text/html": [
       "<div>\n",
       "<style scoped>\n",
       "    .dataframe tbody tr th:only-of-type {\n",
       "        vertical-align: middle;\n",
       "    }\n",
       "\n",
       "    .dataframe tbody tr th {\n",
       "        vertical-align: top;\n",
       "    }\n",
       "\n",
       "    .dataframe thead th {\n",
       "        text-align: right;\n",
       "    }\n",
       "</style>\n",
       "<table border=\"1\" class=\"dataframe\">\n",
       "  <thead>\n",
       "    <tr style=\"text-align: right;\">\n",
       "      <th></th>\n",
       "      <th>source</th>\n",
       "      <th>device</th>\n",
       "      <th>OS</th>\n",
       "      <th>test</th>\n",
       "      <th>price</th>\n",
       "      <th>state</th>\n",
       "      <th>booked</th>\n",
       "    </tr>\n",
       "  </thead>\n",
       "  <tbody>\n",
       "    <tr>\n",
       "      <th>source</th>\n",
       "      <td>1.000e+00</td>\n",
       "      <td>0.004</td>\n",
       "      <td>4.059e-03</td>\n",
       "      <td>-6.145e-04</td>\n",
       "      <td>-5.348e-04</td>\n",
       "      <td>1.619e-03</td>\n",
       "      <td>1.310e-02</td>\n",
       "    </tr>\n",
       "    <tr>\n",
       "      <th>device</th>\n",
       "      <td>3.679e-03</td>\n",
       "      <td>1.000</td>\n",
       "      <td>1.589e-01</td>\n",
       "      <td>1.462e-02</td>\n",
       "      <td>1.480e-02</td>\n",
       "      <td>-3.723e-03</td>\n",
       "      <td>-1.511e-03</td>\n",
       "    </tr>\n",
       "    <tr>\n",
       "      <th>OS</th>\n",
       "      <td>4.059e-03</td>\n",
       "      <td>0.159</td>\n",
       "      <td>1.000e+00</td>\n",
       "      <td>8.821e-04</td>\n",
       "      <td>1.070e-03</td>\n",
       "      <td>3.340e-03</td>\n",
       "      <td>-1.548e-02</td>\n",
       "    </tr>\n",
       "    <tr>\n",
       "      <th>test</th>\n",
       "      <td>-6.145e-04</td>\n",
       "      <td>0.015</td>\n",
       "      <td>8.821e-04</td>\n",
       "      <td>1.000e+00</td>\n",
       "      <td>9.975e-01</td>\n",
       "      <td>-3.421e-03</td>\n",
       "      <td>-1.544e-02</td>\n",
       "    </tr>\n",
       "    <tr>\n",
       "      <th>price</th>\n",
       "      <td>-5.348e-04</td>\n",
       "      <td>0.015</td>\n",
       "      <td>1.070e-03</td>\n",
       "      <td>9.975e-01</td>\n",
       "      <td>1.000e+00</td>\n",
       "      <td>-3.526e-03</td>\n",
       "      <td>-1.525e-02</td>\n",
       "    </tr>\n",
       "    <tr>\n",
       "      <th>state</th>\n",
       "      <td>1.619e-03</td>\n",
       "      <td>-0.004</td>\n",
       "      <td>3.340e-03</td>\n",
       "      <td>-3.421e-03</td>\n",
       "      <td>-3.526e-03</td>\n",
       "      <td>1.000e+00</td>\n",
       "      <td>8.601e-04</td>\n",
       "    </tr>\n",
       "    <tr>\n",
       "      <th>booked</th>\n",
       "      <td>1.310e-02</td>\n",
       "      <td>-0.002</td>\n",
       "      <td>-1.548e-02</td>\n",
       "      <td>-1.544e-02</td>\n",
       "      <td>-1.525e-02</td>\n",
       "      <td>8.601e-04</td>\n",
       "      <td>1.000e+00</td>\n",
       "    </tr>\n",
       "  </tbody>\n",
       "</table>\n",
       "</div>"
      ],
      "text/plain": [
       "           source  device         OS       test      price      state     booked\n",
       "source  1.000e+00   0.004  4.059e-03 -6.145e-04 -5.348e-04  1.619e-03  1.310e-02\n",
       "device  3.679e-03   1.000  1.589e-01  1.462e-02  1.480e-02 -3.723e-03 -1.511e-03\n",
       "OS      4.059e-03   0.159  1.000e+00  8.821e-04  1.070e-03  3.340e-03 -1.548e-02\n",
       "test   -6.145e-04   0.015  8.821e-04  1.000e+00  9.975e-01 -3.421e-03 -1.544e-02\n",
       "price  -5.348e-04   0.015  1.070e-03  9.975e-01  1.000e+00 -3.526e-03 -1.525e-02\n",
       "state   1.619e-03  -0.004  3.340e-03 -3.421e-03 -3.526e-03  1.000e+00  8.601e-04\n",
       "booked  1.310e-02  -0.002 -1.548e-02 -1.544e-02 -1.525e-02  8.601e-04  1.000e+00"
      ]
     },
     "execution_count": 213,
     "metadata": {},
     "output_type": "execute_result"
    }
   ],
   "source": [
    "dfSel.corr(method='spearman')"
   ]
  },
  {
   "cell_type": "code",
   "execution_count": 219,
   "metadata": {},
   "outputs": [
    {
     "data": {
      "text/html": [
       "<div>\n",
       "<style scoped>\n",
       "    .dataframe tbody tr th:only-of-type {\n",
       "        vertical-align: middle;\n",
       "    }\n",
       "\n",
       "    .dataframe tbody tr th {\n",
       "        vertical-align: top;\n",
       "    }\n",
       "\n",
       "    .dataframe thead th {\n",
       "        text-align: right;\n",
       "    }\n",
       "</style>\n",
       "<table border=\"1\" class=\"dataframe\">\n",
       "  <thead>\n",
       "    <tr style=\"text-align: right;\">\n",
       "      <th></th>\n",
       "      <th>source</th>\n",
       "      <th>device</th>\n",
       "      <th>OS</th>\n",
       "      <th>test</th>\n",
       "      <th>price</th>\n",
       "      <th>state</th>\n",
       "      <th>booked</th>\n",
       "    </tr>\n",
       "  </thead>\n",
       "  <tbody>\n",
       "    <tr>\n",
       "      <th>source</th>\n",
       "      <td>1.000e+00</td>\n",
       "      <td>0.003</td>\n",
       "      <td>3.325e-03</td>\n",
       "      <td>-5.519e-04</td>\n",
       "      <td>-4.803e-04</td>\n",
       "      <td>1.376e-03</td>\n",
       "      <td>1.177e-02</td>\n",
       "    </tr>\n",
       "    <tr>\n",
       "      <th>device</th>\n",
       "      <td>3.304e-03</td>\n",
       "      <td>1.000</td>\n",
       "      <td>1.449e-01</td>\n",
       "      <td>1.462e-02</td>\n",
       "      <td>1.480e-02</td>\n",
       "      <td>-3.524e-03</td>\n",
       "      <td>-1.511e-03</td>\n",
       "    </tr>\n",
       "    <tr>\n",
       "      <th>OS</th>\n",
       "      <td>3.325e-03</td>\n",
       "      <td>0.145</td>\n",
       "      <td>1.000e+00</td>\n",
       "      <td>8.044e-04</td>\n",
       "      <td>9.758e-04</td>\n",
       "      <td>2.883e-03</td>\n",
       "      <td>-1.412e-02</td>\n",
       "    </tr>\n",
       "    <tr>\n",
       "      <th>test</th>\n",
       "      <td>-5.519e-04</td>\n",
       "      <td>0.015</td>\n",
       "      <td>8.044e-04</td>\n",
       "      <td>1.000e+00</td>\n",
       "      <td>9.975e-01</td>\n",
       "      <td>-3.239e-03</td>\n",
       "      <td>-1.544e-02</td>\n",
       "    </tr>\n",
       "    <tr>\n",
       "      <th>price</th>\n",
       "      <td>-4.803e-04</td>\n",
       "      <td>0.015</td>\n",
       "      <td>9.758e-04</td>\n",
       "      <td>9.975e-01</td>\n",
       "      <td>1.000e+00</td>\n",
       "      <td>-3.338e-03</td>\n",
       "      <td>-1.525e-02</td>\n",
       "    </tr>\n",
       "    <tr>\n",
       "      <th>state</th>\n",
       "      <td>1.376e-03</td>\n",
       "      <td>-0.004</td>\n",
       "      <td>2.883e-03</td>\n",
       "      <td>-3.239e-03</td>\n",
       "      <td>-3.338e-03</td>\n",
       "      <td>1.000e+00</td>\n",
       "      <td>8.142e-04</td>\n",
       "    </tr>\n",
       "    <tr>\n",
       "      <th>booked</th>\n",
       "      <td>1.177e-02</td>\n",
       "      <td>-0.002</td>\n",
       "      <td>-1.412e-02</td>\n",
       "      <td>-1.544e-02</td>\n",
       "      <td>-1.525e-02</td>\n",
       "      <td>8.142e-04</td>\n",
       "      <td>1.000e+00</td>\n",
       "    </tr>\n",
       "  </tbody>\n",
       "</table>\n",
       "</div>"
      ],
      "text/plain": [
       "           source  device         OS       test      price      state     booked\n",
       "source  1.000e+00   0.003  3.325e-03 -5.519e-04 -4.803e-04  1.376e-03  1.177e-02\n",
       "device  3.304e-03   1.000  1.449e-01  1.462e-02  1.480e-02 -3.524e-03 -1.511e-03\n",
       "OS      3.325e-03   0.145  1.000e+00  8.044e-04  9.758e-04  2.883e-03 -1.412e-02\n",
       "test   -5.519e-04   0.015  8.044e-04  1.000e+00  9.975e-01 -3.239e-03 -1.544e-02\n",
       "price  -4.803e-04   0.015  9.758e-04  9.975e-01  1.000e+00 -3.338e-03 -1.525e-02\n",
       "state   1.376e-03  -0.004  2.883e-03 -3.239e-03 -3.338e-03  1.000e+00  8.142e-04\n",
       "booked  1.177e-02  -0.002 -1.412e-02 -1.544e-02 -1.525e-02  8.142e-04  1.000e+00"
      ]
     },
     "execution_count": 219,
     "metadata": {},
     "output_type": "execute_result"
    }
   ],
   "source": [
    "dfSel.corr(method='kendall')"
   ]
  },
  {
   "cell_type": "code",
   "execution_count": 81,
   "metadata": {},
   "outputs": [
    {
     "data": {
      "text/plain": [
       "<Figure size 1152x720 with 0 Axes>"
      ]
     },
     "execution_count": 81,
     "metadata": {},
     "output_type": "execute_result"
    },
    {
     "data": {
      "text/plain": [
       "<matplotlib.axes._subplots.AxesSubplot at 0x201828aaa90>"
      ]
     },
     "execution_count": 81,
     "metadata": {},
     "output_type": "execute_result"
    },
    {
     "data": {
      "image/png": "[encoded data removed]",
      "text/plain": [
       "<Figure size 1152x720 with 2 Axes>"
      ]
     },
     "metadata": {},
     "output_type": "display_data"
    }
   ],
   "source": [
    "# Correlation Matrix Plot using Seaborn\n",
    "# sns.heatmap?\n",
    "plt.figure(figsize =(16,10))\n",
    "sns.heatmap(dfSel.corr(), annot=True)\n",
    "plt.show()"
   ]
  },
  {
   "cell_type": "code",
   "execution_count": 222,
   "metadata": {},
   "outputs": [
    {
     "data": {
      "text/plain": [
       "<matplotlib.colorbar.Colorbar at 0x21910829a58>"
      ]
     },
     "execution_count": 222,
     "metadata": {},
     "output_type": "execute_result"
    },
    {
     "data": {
      "text/plain": [
       "[<matplotlib.axis.XTick at 0x2190c027a58>,\n",
       " <matplotlib.axis.XTick at 0x2190c0272e8>,\n",
       " <matplotlib.axis.XTick at 0x2191085beb8>,\n",
       " <matplotlib.axis.XTick at 0x2190f95e940>,\n",
       " <matplotlib.axis.XTick at 0x2190f94fb00>,\n",
       " <matplotlib.axis.XTick at 0x2190f94fe48>,\n",
       " <matplotlib.axis.XTick at 0x2190f946518>,\n",
       " <matplotlib.axis.XTick at 0x2190f946a58>,\n",
       " <matplotlib.axis.XTick at 0x2190f946f60>]"
      ]
     },
     "execution_count": 222,
     "metadata": {},
     "output_type": "execute_result"
    },
    {
     "data": {
      "text/plain": [
       "[<matplotlib.axis.YTick at 0x2190c02c940>,\n",
       " <matplotlib.axis.YTick at 0x2190c02c198>,\n",
       " <matplotlib.axis.YTick at 0x2190c0271d0>,\n",
       " <matplotlib.axis.YTick at 0x2190f93da20>,\n",
       " <matplotlib.axis.YTick at 0x2190f93def0>,\n",
       " <matplotlib.axis.YTick at 0x2190f946b00>,\n",
       " <matplotlib.axis.YTick at 0x2190f94fd68>,\n",
       " <matplotlib.axis.YTick at 0x2190f93df98>,\n",
       " <matplotlib.axis.YTick at 0x2190f9376a0>]"
      ]
     },
     "execution_count": 222,
     "metadata": {},
     "output_type": "execute_result"
    },
    {
     "data": {
      "text/plain": [
       "[Text(0,1,'date'),\n",
       " Text(0,1,'source'),\n",
       " Text(0,1,'device'),\n",
       " Text(0,1,'OS'),\n",
       " Text(0,1,'test'),\n",
       " Text(0,1,'price'),\n",
       " Text(0,1,'state'),\n",
       " Text(0,1,'booked')]"
      ]
     },
     "execution_count": 222,
     "metadata": {},
     "output_type": "execute_result"
    },
    {
     "data": {
      "text/plain": [
       "[Text(0,0,'date'),\n",
       " Text(0,0,'source'),\n",
       " Text(0,0,'device'),\n",
       " Text(0,0,'OS'),\n",
       " Text(0,0,'test'),\n",
       " Text(0,0,'price'),\n",
       " Text(0,0,'state'),\n",
       " Text(0,0,'booked')]"
      ]
     },
     "execution_count": 222,
     "metadata": {},
     "output_type": "execute_result"
    },
    {
     "data": {
      "image/png": "[encoded data removed]",
      "text/plain": [
       "<Figure size 1440x720 with 2 Axes>"
      ]
     },
     "metadata": {},
     "output_type": "display_data"
    }
   ],
   "source": [
    "plt.rcParams['figure.figsize'] = 20,10 # similar to par(mfrow = c(2,1), mar = c(4,4,2,1)) # 2 columns and 1 row\n",
    "correlations = dfSel.corr()\n",
    "# plot correlation matrix\n",
    "fig = plt.figure()\n",
    "ax = fig.add_subplot(111)\n",
    "cax = ax.matshow(correlations, vmin=-1, vmax=1)\n",
    "fig.colorbar(cax)\n",
    "ticks = np.arange(0,9,1)\n",
    "ax.set_xticks(ticks)\n",
    "ax.set_yticks(ticks)\n",
    "ax.set_xticklabels(dfSel.columns)\n",
    "ax.set_yticklabels(dfSel.columns)\n",
    "plt.show()\n"
   ]
  },
  {
   "cell_type": "code",
   "execution_count": 82,
   "metadata": {},
   "outputs": [
    {
     "name": "stdout",
     "output_type": "stream",
     "text": [
      "    Specs      Score\n",
      "2      OS  70.618254\n",
      "0  source  45.704841\n",
      "3    test  41.008364\n",
      "1  device   0.361297\n"
     ]
    }
   ],
   "source": [
    "# Import the necessary libraries first\n",
    "# import pandas as pd\n",
    "# import numpy as np\n",
    "# from sklearn.feature_selection import SelectKBest\n",
    "# from sklearn.feature_selection import chi2\n",
    "# data = pd.read_csv(\"D://Blogs//train.csv\")\n",
    "# X = data.iloc[:,0:20]  #independent columns\n",
    "# y = data.iloc[:,-1]    #target column i.e price range\n",
    "# #apply SelectKBest class to extract top 10 best features\n",
    "# bestfeatures = SelectKBest(score_func=chi2, k=10)\n",
    "# fit = bestfeatures.fit(X,y)\n",
    "# dfscores = pd.DataFrame(fit.scores_)\n",
    "# dfcolumns = pd.DataFrame(X.columns)\n",
    "# #concat two dataframes for better visualization \n",
    "# featureScores = pd.concat([dfcolumns,dfscores],axis=1)\n",
    "# featureScores.columns = ['Specs','Score']  #naming the dataframe columns\n",
    "# print(featureScores.nlargest(10,'Score'))  #print 10 best features\n",
    "\n",
    "from sklearn.feature_selection import SelectKBest\n",
    "from sklearn.feature_selection import chi2\n",
    "X = dfSel.iloc [:, 1:5]\n",
    "y = dfSel.iloc [:, -1]\n",
    "# apply SelectKBest to all features except DATE column.\n",
    "topFeats = SelectKBest(score_func=chi2, k='all')\n",
    "fit = topFeats.fit(X,y)\n",
    "\n",
    "dfscores = pd.DataFrame(fit.scores_)\n",
    "dfcolumns = pd.DataFrame(X.columns)\n",
    "\n",
    "featureScores = pd.concat([dfcolumns,dfscores],axis=1)\n",
    "featureScores.columns = ['Specs','Score'] \n",
    "\n",
    "print(featureScores.nlargest(6,'Score'))\n"
   ]
  },
  {
   "cell_type": "markdown",
   "metadata": {},
   "source": [
    "## Feature Importance\n",
    "You can get the feature importance of each feature of your dataset by using the feature importance property of the model.\n",
    "\n",
    "Feature importance gives you a score for each feature of your data, the higher the score more important or relevant is the feature towards your output variable.\n",
    "\n",
    "Feature importance is an inbuilt class that comes with Tree Based Classifiers, we will be using Extra Tree Classifier for extracting the top 10 features for the dataset."
   ]
  },
  {
   "cell_type": "code",
   "execution_count": 32,
   "metadata": {},
   "outputs": [
    {
     "data": {
      "text/plain": [
       "ExtraTreesClassifier(bootstrap=False, class_weight=None, criterion='gini',\n",
       "           max_depth=None, max_features='auto', max_leaf_nodes=None,\n",
       "           min_impurity_decrease=0.0, min_impurity_split=None,\n",
       "           min_samples_leaf=1, min_samples_split=2,\n",
       "           min_weight_fraction_leaf=0.0, n_estimators=10, n_jobs=1,\n",
       "           oob_score=False, random_state=None, verbose=0, warm_start=False)"
      ]
     },
     "execution_count": 32,
     "metadata": {},
     "output_type": "execute_result"
    },
    {
     "name": "stdout",
     "output_type": "stream",
     "text": [
      "[0.50632332 0.0847653  0.2973796  0.11153179]\n"
     ]
    },
    {
     "data": {
      "text/plain": [
       "<matplotlib.axes._subplots.AxesSubplot at 0x199287fd470>"
      ]
     },
     "execution_count": 32,
     "metadata": {},
     "output_type": "execute_result"
    },
    {
     "data": {
      "image/png": "[encoded data removed]",
      "text/plain": [
       "<Figure size 432x288 with 1 Axes>"
      ]
     },
     "metadata": {},
     "output_type": "display_data"
    }
   ],
   "source": [
    "# data = pd.read_csv(\"D://Blogs//train.csv\")\n",
    "# X = data.iloc[:,0:20]  #independent columns\n",
    "# y = data.iloc[:,-1]    #target column i.e price range\n",
    "# from sklearn.ensemble import ExtraTreesClassifier\n",
    "# import matplotlib.pyplot as plt\n",
    "# model = ExtraTreesClassifier()\n",
    "# model.fit(X,y)\n",
    "# print(model.feature_importances_) #use inbuilt class feature_importances of tree based classifiers\n",
    "# #plot graph of feature importances for better visualization\n",
    "# feat_importances = pd.Series(model.feature_importances_, index=X.columns)\n",
    "# feat_importances.nlargest(10).plot(kind='barh')\n",
    "# plt.show()\n",
    "\n",
    "X = dfSel.iloc [:, 1:5]\n",
    "y = dfSel.iloc [:, -1]\n",
    "\n",
    "from sklearn.ensemble import ExtraTreesClassifier\n",
    "import matplotlib.pyplot as plt\n",
    "model = ExtraTreesClassifier()\n",
    "model.fit(X,y)\n",
    "print(model.feature_importances_) #use inbuilt class feature_importances of tree based classifiers\n",
    "#plot graph of feature importances for better visualization\n",
    "feat_importances = pd.Series(model.feature_importances_, index=X.columns)\n",
    "feat_importances.nlargest(10).plot(kind='barh')\n",
    "plt.show()\n"
   ]
  },
  {
   "cell_type": "code",
   "execution_count": 37,
   "metadata": {},
   "outputs": [
    {
     "data": {
      "text/plain": [
       "<Figure size 1440x1440 with 0 Axes>"
      ]
     },
     "execution_count": 37,
     "metadata": {},
     "output_type": "execute_result"
    },
    {
     "data": {
      "image/png": "[encoded data removed]",
      "text/plain": [
       "<Figure size 1440x1440 with 2 Axes>"
      ]
     },
     "metadata": {},
     "output_type": "display_data"
    }
   ],
   "source": [
    "# Correlation Matrix with Heatmap\n",
    "# data = pd.read_csv()\n",
    "# X = data.iloc[:,0:20]  #independent columns\n",
    "# y = data.iloc[:,-1]    #target column i.e price range\n",
    "# #get correlations of each features in dataset\n",
    "# corrmat = data.corr()\n",
    "# top_corr_features = corrmat.index\n",
    "# plt.figure(figsize=(20,20))\n",
    "# #plot heat map\n",
    "# g=sns.heatmap(data[top_corr_features].corr(),annot=True,cmap=\"RdYlGn\")\n",
    "\n",
    "X = dfSel.iloc[:,0:20]  #independent columns\n",
    "y = dfSel.iloc[:,-1]    #target column i.e price range\n",
    "#get correlations of each features in dataset\n",
    "corr_mtx = dfSel.corr()\n",
    "top_corr_features = corr_mtx.index\n",
    "plt.figure(figsize=(20,20))\n",
    "#plot heat map\n",
    "g=sns.heatmap(dfSel[top_corr_features].corr(),annot=True,cmap=\"RdYlGn\")\n"
   ]
  },
  {
   "cell_type": "markdown",
   "metadata": {},
   "source": [
    "#### Handling Missing Values for DT & RF\n",
    "Since scikit learn's DT & RF cannot handle NaN or NULL values, so creating a data set to impute State NaN values as 0."
   ]
  },
  {
   "cell_type": "code",
   "execution_count": 83,
   "metadata": {},
   "outputs": [
    {
     "data": {
      "text/html": [
       "<div>\n",
       "<style scoped>\n",
       "    .dataframe tbody tr th:only-of-type {\n",
       "        vertical-align: middle;\n",
       "    }\n",
       "\n",
       "    .dataframe tbody tr th {\n",
       "        vertical-align: top;\n",
       "    }\n",
       "\n",
       "    .dataframe thead th {\n",
       "        text-align: right;\n",
       "    }\n",
       "</style>\n",
       "<table border=\"1\" class=\"dataframe\">\n",
       "  <thead>\n",
       "    <tr style=\"text-align: right;\">\n",
       "      <th></th>\n",
       "      <th>date</th>\n",
       "      <th>source</th>\n",
       "      <th>device</th>\n",
       "      <th>OS</th>\n",
       "      <th>test</th>\n",
       "      <th>price</th>\n",
       "      <th>state</th>\n",
       "      <th>booked</th>\n",
       "    </tr>\n",
       "  </thead>\n",
       "  <tbody>\n",
       "    <tr>\n",
       "      <th>0</th>\n",
       "      <td>2017-05-23</td>\n",
       "      <td>5</td>\n",
       "      <td>0</td>\n",
       "      <td>0</td>\n",
       "      <td>0</td>\n",
       "      <td>199</td>\n",
       "      <td>1</td>\n",
       "      <td>0</td>\n",
       "    </tr>\n",
       "    <tr>\n",
       "      <th>1</th>\n",
       "      <td>2017-05-29</td>\n",
       "      <td>1</td>\n",
       "      <td>1</td>\n",
       "      <td>1</td>\n",
       "      <td>0</td>\n",
       "      <td>199</td>\n",
       "      <td>3</td>\n",
       "      <td>0</td>\n",
       "    </tr>\n",
       "    <tr>\n",
       "      <th>2</th>\n",
       "      <td>2017-05-11</td>\n",
       "      <td>3</td>\n",
       "      <td>0</td>\n",
       "      <td>5</td>\n",
       "      <td>0</td>\n",
       "      <td>199</td>\n",
       "      <td>1</td>\n",
       "      <td>0</td>\n",
       "    </tr>\n",
       "    <tr>\n",
       "      <th>3</th>\n",
       "      <td>2017-05-24</td>\n",
       "      <td>2</td>\n",
       "      <td>0</td>\n",
       "      <td>3</td>\n",
       "      <td>1</td>\n",
       "      <td>299</td>\n",
       "      <td>2</td>\n",
       "      <td>0</td>\n",
       "    </tr>\n",
       "    <tr>\n",
       "      <th>4</th>\n",
       "      <td>2017-06-30</td>\n",
       "      <td>0</td>\n",
       "      <td>1</td>\n",
       "      <td>1</td>\n",
       "      <td>0</td>\n",
       "      <td>199</td>\n",
       "      <td>1</td>\n",
       "      <td>0</td>\n",
       "    </tr>\n",
       "  </tbody>\n",
       "</table>\n",
       "</div>"
      ],
      "text/plain": [
       "         date  source  device  OS  test  price  state  booked\n",
       "0  2017-05-23       5       0   0     0    199      1       0\n",
       "1  2017-05-29       1       1   1     0    199      3       0\n",
       "2  2017-05-11       3       0   5     0    199      1       0\n",
       "3  2017-05-24       2       0   3     1    299      2       0\n",
       "4  2017-06-30       0       1   1     0    199      1       0"
      ]
     },
     "execution_count": 83,
     "metadata": {},
     "output_type": "execute_result"
    }
   ],
   "source": [
    "# using pd.get_dummies\n",
    "# copy from df1 to dfDT dataframe Decision Tree.\n",
    "\n",
    "dfDT = dfSel.copy()\n",
    "\n",
    "# dataFrame = pd.get_dummies(df1, columns=['columnName1', 'columnName2',...'columnNameN'])\n",
    "#dfDT = pd.get_dummies(data=dfSel, columns=['state'])\n",
    "\n",
    "dfDT.head()"
   ]
  },
  {
   "cell_type": "code",
   "execution_count": 64,
   "metadata": {},
   "outputs": [],
   "source": [
    "#dfDT.state.replace(None,0,inplace=True)\n",
    "#dfDT['state'] = dfDT['state'].fillna(0)"
   ]
  },
  {
   "cell_type": "markdown",
   "metadata": {},
   "source": [
    "## Split the data into training set and testing set using train_test_split\n",
    "using scikit learn split the data-set"
   ]
  },
  {
   "cell_type": "code",
   "execution_count": 84,
   "metadata": {},
   "outputs": [],
   "source": [
    "from sklearn.model_selection import train_test_split"
   ]
  },
  {
   "cell_type": "code",
   "execution_count": 85,
   "metadata": {},
   "outputs": [],
   "source": [
    "X = dfDT[['source', 'device', 'OS', 'test', 'price', 'state']]\n",
    "y = dfDT[['booked']]\n",
    "\n",
    "X_train, X_test, y_train, y_test = train_test_split(X, y, test_size=0.30, random_state=0)\n",
    "\n",
    "print(\"Number transactions X_train dataset: \", X_train.shape)\n",
    "print(\"Number transactions y_train dataset: \", y_train.shape)\n",
    "print(\"Number transactions X_test dataset: \", X_test.shape)\n",
    "print(\"Number transactions y_test dataset: \", y_test.shape)"
   ]
  },
  {
   "cell_type": "markdown",
   "metadata": {},
   "source": [
    "#### Train and fit a logistic regression model on the training set."
   ]
  },
  {
   "cell_type": "markdown",
   "metadata": {},
   "source": [
    "##### Training a Decision Tree Model\n",
    "\n",
    "Let's start by training a single decision tree first!\n",
    "\n",
    "Import DecisionTreeClassifier"
   ]
  },
  {
   "cell_type": "code",
   "execution_count": 148,
   "metadata": {},
   "outputs": [],
   "source": [
    "from sklearn.tree import DecisionTreeClassifier"
   ]
  },
  {
   "cell_type": "markdown",
   "metadata": {},
   "source": [
    "<b>Create an instance of DecisionTreeClassifier() called dtree and fit it to the training data.</b>"
   ]
  },
  {
   "cell_type": "code",
   "execution_count": 87,
   "metadata": {},
   "outputs": [
    {
     "data": {
      "text/plain": [
       "DecisionTreeClassifier(class_weight=None, criterion='gini', max_depth=None,\n",
       "            max_features=None, max_leaf_nodes=None,\n",
       "            min_impurity_decrease=0.0, min_impurity_split=None,\n",
       "            min_samples_leaf=1, min_samples_split=2,\n",
       "            min_weight_fraction_leaf=0.0, presort=False, random_state=None,\n",
       "            splitter='best')"
      ]
     },
     "execution_count": 87,
     "metadata": {},
     "output_type": "execute_result"
    }
   ],
   "source": [
    "dtree = DecisionTreeClassifier()\n",
    "\n",
    "dtree.fit(X_train,y_train)"
   ]
  },
  {
   "cell_type": "markdown",
   "metadata": {},
   "source": [
    "#### Predictions and Evaluation of Decision Tree\n",
    "Create predictions from the test set and create a classification report and a confusion matrix.\n"
   ]
  },
  {
   "cell_type": "code",
   "execution_count": 153,
   "metadata": {},
   "outputs": [],
   "source": [
    "predictionsDT = dtree.predict(X_test)"
   ]
  },
  {
   "cell_type": "code",
   "execution_count": 168,
   "metadata": {},
   "outputs": [
    {
     "name": "stdout",
     "output_type": "stream",
     "text": [
      "Accuracy: 98.17%\n"
     ]
    }
   ],
   "source": [
    "accuracyDT = accuracy_score(y_test, predictionsDT)\n",
    "print(\"Accuracy: %.2f%%\" % (accuracyDT * 100.0))"
   ]
  },
  {
   "cell_type": "code",
   "execution_count": 154,
   "metadata": {},
   "outputs": [],
   "source": [
    "from sklearn.metrics import classification_report,confusion_matrix"
   ]
  },
  {
   "cell_type": "code",
   "execution_count": 155,
   "metadata": {},
   "outputs": [
    {
     "name": "stdout",
     "output_type": "stream",
     "text": [
      "              precision    recall  f1-score   support\n",
      "\n",
      "           0       0.98      1.00      0.99     79189\n",
      "           1       0.00      0.00      0.00      1475\n",
      "\n",
      "   micro avg       0.98      0.98      0.98     80664\n",
      "   macro avg       0.49      0.50      0.50     80664\n",
      "weighted avg       0.96      0.98      0.97     80664\n",
      "\n"
     ]
    }
   ],
   "source": [
    "print(classification_report(y_test,predictionsDT))"
   ]
  },
  {
   "cell_type": "code",
   "execution_count": 156,
   "metadata": {},
   "outputs": [
    {
     "name": "stdout",
     "output_type": "stream",
     "text": [
      "[[79189     0]\n",
      " [ 1475     0]]\n"
     ]
    }
   ],
   "source": [
    "print(confusion_matrix(y_test,predictionsDT))"
   ]
  },
  {
   "cell_type": "markdown",
   "metadata": {},
   "source": [
    "#### Training the Random Forest model\n",
    "\n",
    "Create an instance of the RandomForestClassifier class and fit it to training data from the previous step.\n"
   ]
  },
  {
   "cell_type": "code",
   "execution_count": 92,
   "metadata": {},
   "outputs": [],
   "source": [
    "from sklearn.ensemble import RandomForestClassifier"
   ]
  },
  {
   "cell_type": "code",
   "execution_count": 1,
   "metadata": {},
   "outputs": [
    {
     "ename": "NameError",
     "evalue": "name 'RandomForestClassifier' is not defined",
     "output_type": "error",
     "traceback": [
      "\u001b[1;31m---------------------------------------------------------------------------\u001b[0m",
      "\u001b[1;31mNameError\u001b[0m                                 Traceback (most recent call last)",
      "\u001b[1;32m<ipython-input-1-2682e1fc3e01>\u001b[0m in \u001b[0;36m<module>\u001b[1;34m()\u001b[0m\n\u001b[1;32m----> 1\u001b[1;33m rfc = RandomForestClassifier(bootstrap=True, class_weight=None, criterion='entropy',\n\u001b[0m\u001b[0;32m      2\u001b[0m             \u001b[0mmax_depth\u001b[0m\u001b[1;33m=\u001b[0m\u001b[1;32mNone\u001b[0m\u001b[1;33m,\u001b[0m \u001b[0mmax_features\u001b[0m\u001b[1;33m=\u001b[0m\u001b[1;34m'auto'\u001b[0m\u001b[1;33m,\u001b[0m \u001b[0mmax_leaf_nodes\u001b[0m\u001b[1;33m=\u001b[0m\u001b[1;32mNone\u001b[0m\u001b[1;33m,\u001b[0m\u001b[1;33m\u001b[0m\u001b[0m\n\u001b[0;32m      3\u001b[0m             \u001b[0mmin_impurity_decrease\u001b[0m\u001b[1;33m=\u001b[0m\u001b[1;36m0.0\u001b[0m\u001b[1;33m,\u001b[0m \u001b[0mmin_impurity_split\u001b[0m\u001b[1;33m=\u001b[0m\u001b[1;32mNone\u001b[0m\u001b[1;33m,\u001b[0m\u001b[1;33m\u001b[0m\u001b[0m\n\u001b[0;32m      4\u001b[0m             \u001b[0mmin_samples_leaf\u001b[0m\u001b[1;33m=\u001b[0m\u001b[1;36m1\u001b[0m\u001b[1;33m,\u001b[0m \u001b[0mmin_samples_split\u001b[0m\u001b[1;33m=\u001b[0m\u001b[1;36m2\u001b[0m\u001b[1;33m,\u001b[0m\u001b[1;33m\u001b[0m\u001b[0m\n\u001b[0;32m      5\u001b[0m             \u001b[0mmin_weight_fraction_leaf\u001b[0m\u001b[1;33m=\u001b[0m\u001b[1;36m0.0\u001b[0m\u001b[1;33m,\u001b[0m \u001b[0mn_estimators\u001b[0m\u001b[1;33m=\u001b[0m\u001b[1;36m600\u001b[0m\u001b[1;33m,\u001b[0m \u001b[0mn_jobs\u001b[0m\u001b[1;33m=\u001b[0m\u001b[1;32mNone\u001b[0m\u001b[1;33m,\u001b[0m\u001b[1;33m\u001b[0m\u001b[0m\n",
      "\u001b[1;31mNameError\u001b[0m: name 'RandomForestClassifier' is not defined"
     ]
    }
   ],
   "source": [
    "rfc = RandomForestClassifier(bootstrap=True, class_weight=None, criterion='entropy',\n",
    "            max_depth=None, max_features='auto', max_leaf_nodes=None,\n",
    "            min_impurity_decrease=0.0, min_impurity_split=None,\n",
    "            min_samples_leaf=1, min_samples_split=2,\n",
    "            min_weight_fraction_leaf=0.0, n_estimators=600, n_jobs=None,\n",
    "            oob_score=False, random_state=None, verbose=0,\n",
    "            warm_start=False)"
   ]
  },
  {
   "cell_type": "code",
   "execution_count": 94,
   "metadata": {
    "scrolled": true
   },
   "outputs": [
    {
     "data": {
      "text/plain": [
       "RandomForestClassifier(bootstrap=True, class_weight=None, criterion='gini',\n",
       "            max_depth=None, max_features='auto', max_leaf_nodes=None,\n",
       "            min_impurity_decrease=0.0, min_impurity_split=None,\n",
       "            min_samples_leaf=1, min_samples_split=2,\n",
       "            min_weight_fraction_leaf=0.0, n_estimators=600, n_jobs=None,\n",
       "            oob_score=False, random_state=None, verbose=0,\n",
       "            warm_start=False)"
      ]
     },
     "execution_count": 94,
     "metadata": {},
     "output_type": "execute_result"
    }
   ],
   "source": [
    "rfc.fit(X_train,y_train)"
   ]
  },
  {
   "cell_type": "code",
   "execution_count": 95,
   "metadata": {},
   "outputs": [],
   "source": [
    "predictionsRF = rfc.predict(X_test)"
   ]
  },
  {
   "cell_type": "code",
   "execution_count": 96,
   "metadata": {},
   "outputs": [
    {
     "name": "stdout",
     "output_type": "stream",
     "text": [
      "              precision    recall  f1-score   support\n",
      "\n",
      "           0       0.98      1.00      0.99     79189\n",
      "           1       0.00      0.00      0.00      1475\n",
      "\n",
      "   micro avg       0.98      0.98      0.98     80664\n",
      "   macro avg       0.49      0.50      0.50     80664\n",
      "weighted avg       0.96      0.98      0.97     80664\n",
      "\n"
     ]
    }
   ],
   "source": [
    "print(classification_report(y_test,predictionsRF))"
   ]
  },
  {
   "cell_type": "code",
   "execution_count": 98,
   "metadata": {},
   "outputs": [
    {
     "name": "stdout",
     "output_type": "stream",
     "text": [
      "[[79189     0]\n",
      " [ 1475     0]]\n"
     ]
    }
   ],
   "source": [
    "print(confusion_matrix(y_test,predictionsRF))"
   ]
  },
  {
   "cell_type": "code",
   "execution_count": 169,
   "metadata": {},
   "outputs": [
    {
     "name": "stdout",
     "output_type": "stream",
     "text": [
      "Accuracy: 98.17%\n"
     ]
    }
   ],
   "source": [
    "accuracyRF = accuracy_score(y_test, predictionsRF)\n",
    "print(\"Accuracy: %.2f%%\" % (accuracyRF * 100.0))"
   ]
  },
  {
   "cell_type": "markdown",
   "metadata": {},
   "source": [
    "### Handling unbalanced data using SMOTE\n",
    "Generating balanced data sets using SMOTE"
   ]
  },
  {
   "cell_type": "code",
   "execution_count": 111,
   "metadata": {},
   "outputs": [],
   "source": [
    "from imblearn.over_sampling import SMOTE\n",
    "\n",
    "dfBal = dfDT.copy()"
   ]
  },
  {
   "cell_type": "code",
   "execution_count": 126,
   "metadata": {},
   "outputs": [],
   "source": [
    "X = dfBal[['source', 'device', 'OS', 'test', 'price', 'state']]\n",
    "y = dfBal[['booked']]"
   ]
  },
  {
   "cell_type": "code",
   "execution_count": 127,
   "metadata": {},
   "outputs": [
    {
     "name": "stdout",
     "output_type": "stream",
     "text": [
      "Number transactions X_train dataset:  (188214, 6)\n",
      "Number transactions y_train dataset:  (188214, 1)\n",
      "Number transactions X_test dataset:  (80664, 6)\n",
      "Number transactions y_test dataset:  (80664, 1)\n"
     ]
    }
   ],
   "source": [
    "# os = SMOTE(random_state=0) #   We are using SMOTE as the function for oversampling\n",
    "# now we can devided our data into training and test data\n",
    "# Call our method data prepration on our dataset\n",
    "#data_train_X,data_test_X,data_train_y,data_test_y = dfBal\n",
    "#columns = data_train_X.columns\n",
    "\n",
    "\n",
    "X_train, X_test, y_train, y_test = train_test_split(X, y, test_size=0.30, random_state=0)\n",
    "\n",
    "print(\"Number transactions X_train dataset: \", X_train.shape)\n",
    "print(\"Number transactions y_train dataset: \", y_train.shape)\n",
    "print(\"Number transactions X_test dataset: \", X_test.shape)\n",
    "print(\"Number transactions y_test dataset: \", y_test.shape)"
   ]
  },
  {
   "cell_type": "code",
   "execution_count": 147,
   "metadata": {},
   "outputs": [
    {
     "name": "stdout",
     "output_type": "stream",
     "text": [
      "Before OverSampling, counts of label '1': 3454\n",
      "Before OverSampling, counts of label '0': 184760 \n",
      "\n",
      "After OverSampling, the shape of train_X: (369520, 6)\n",
      "After OverSampling, the shape of train_y: (369520,) \n",
      "\n",
      "After OverSampling, counts of label '1': 184760\n",
      "After OverSampling, counts of label '0': 184760\n"
     ]
    }
   ],
   "source": [
    "print(\"Before OverSampling, counts of label '1': {}\".format(sum(y_train['booked']==1)))\n",
    "print(\"Before OverSampling, counts of label '0': {} \\n\".format(sum(y_train['booked']==0)))\n",
    "\n",
    "sm = SMOTE(random_state=2)\n",
    "X_train_res, y_train_res = sm.fit_sample(X_train, y_train['booked'].ravel())\n",
    "\n",
    "print('After OverSampling, the shape of train_X: {}'.format(X_train_res.shape))\n",
    "print('After OverSampling, the shape of train_y: {} \\n'.format(y_train_res.shape))\n",
    "\n",
    "print(\"After OverSampling, counts of label '1': {}\".format(sum(y_train_res==1)))\n",
    "print(\"After OverSampling, counts of label '0': {}\".format(sum(y_train_res==0)))"
   ]
  },
  {
   "cell_type": "markdown",
   "metadata": {},
   "source": [
    "### Generating XGBoost Model - Extreme Gradient Boost"
   ]
  },
  {
   "cell_type": "code",
   "execution_count": 158,
   "metadata": {},
   "outputs": [],
   "source": [
    "from xgboost import XGBClassifier\n",
    "from sklearn.metrics import accuracy_score"
   ]
  },
  {
   "cell_type": "code",
   "execution_count": 163,
   "metadata": {},
   "outputs": [
    {
     "data": {
      "text/plain": [
       "XGBClassifier(base_score=0.5, booster='gbtree', colsample_bylevel=1,\n",
       "       colsample_bytree=1, gamma=0, learning_rate=0.1, max_delta_step=0,\n",
       "       max_depth=3, min_child_weight=1, missing=None, n_estimators=100,\n",
       "       n_jobs=1, nthread=None, objective='binary:logistic', random_state=0,\n",
       "       reg_alpha=0, reg_lambda=1, scale_pos_weight=1, seed=None,\n",
       "       silent=True, subsample=1)"
      ]
     },
     "execution_count": 163,
     "metadata": {},
     "output_type": "execute_result"
    },
    {
     "name": "stdout",
     "output_type": "stream",
     "text": [
      "XGBClassifier(base_score=0.5, booster='gbtree', colsample_bylevel=1,\n",
      "       colsample_bytree=1, gamma=0, learning_rate=0.1, max_delta_step=0,\n",
      "       max_depth=3, min_child_weight=1, missing=None, n_estimators=100,\n",
      "       n_jobs=1, nthread=None, objective='binary:logistic', random_state=0,\n",
      "       reg_alpha=0, reg_lambda=1, scale_pos_weight=1, seed=None,\n",
      "       silent=True, subsample=1)\n"
     ]
    }
   ],
   "source": [
    "# fit model no training data\n",
    "modelXGB = XGBClassifier()\n",
    "modelXGB.fit(X_train, y_train)\n",
    "\n",
    "print(modelXGB)"
   ]
  },
  {
   "cell_type": "code",
   "execution_count": 164,
   "metadata": {},
   "outputs": [],
   "source": [
    "# make predictions for test data\n",
    "y_pred = modelXGB.predict(X_test)\n",
    "predictionsXGB = [round(value) for value in y_pred]"
   ]
  },
  {
   "cell_type": "code",
   "execution_count": 167,
   "metadata": {},
   "outputs": [
    {
     "name": "stdout",
     "output_type": "stream",
     "text": [
      "Accuracy: 98.17%\n"
     ]
    }
   ],
   "source": [
    "# evaluate predictions\n",
    "accuracyXGB = accuracy_score(y_test, predictionsXGB)\n",
    "print(\"Accuracy: %.2f%%\" % (accuracyXGB * 100.0))"
   ]
  }
 ],
 "metadata": {
  "kernelspec": {
   "display_name": "Python 3",
   "language": "python",
   "name": "python3"
  },
  "language_info": {
   "codemirror_mode": {
    "name": "ipython",
    "version": 3
   },
   "file_extension": ".py",
   "mimetype": "text/x-python",
   "name": "python",
   "nbconvert_exporter": "python",
   "pygments_lexer": "ipython3",
   "version": "3.7.4"
  },
  "varInspector": {
   "cols": {
    "lenName": 16,
    "lenType": 16,
    "lenVar": 40
   },
   "kernels_config": {
    "python": {
     "delete_cmd_postfix": "",
     "delete_cmd_prefix": "del ",
     "library": "var_list.py",
     "varRefreshCmd": "print(var_dic_list())"
    },
    "r": {
     "delete_cmd_postfix": ") ",
     "delete_cmd_prefix": "rm(",
     "library": "var_list.r",
     "varRefreshCmd": "cat(var_dic_list()) "
    }
   },
   "types_to_exclude": [
    "module",
    "function",
    "builtin_function_or_method",
    "instance",
    "_Feature"
   ],
   "window_display": false
  }
 },
 "nbformat": 4,
 "nbformat_minor": 2
}
